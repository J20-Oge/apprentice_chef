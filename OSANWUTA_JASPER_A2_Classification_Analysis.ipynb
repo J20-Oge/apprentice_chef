{
 "cells": [
  {
   "cell_type": "code",
   "execution_count": null,
   "metadata": {},
   "outputs": [],
   "source": []
  },
  {
   "cell_type": "markdown",
   "metadata": {},
   "source": [
    "# Dataset Exploration\n"
   ]
  },
  {
   "cell_type": "code",
   "execution_count": 1,
   "metadata": {},
   "outputs": [
    {
     "data": {
      "text/html": [
       "<div>\n",
       "<style scoped>\n",
       "    .dataframe tbody tr th:only-of-type {\n",
       "        vertical-align: middle;\n",
       "    }\n",
       "\n",
       "    .dataframe tbody tr th {\n",
       "        vertical-align: top;\n",
       "    }\n",
       "\n",
       "    .dataframe thead th {\n",
       "        text-align: right;\n",
       "    }\n",
       "</style>\n",
       "<table border=\"1\" class=\"dataframe\">\n",
       "  <thead>\n",
       "    <tr style=\"text-align: right;\">\n",
       "      <th></th>\n",
       "      <th>REVENUE</th>\n",
       "      <th>CROSS_SELL_SUCCESS</th>\n",
       "      <th>NAME</th>\n",
       "      <th>EMAIL</th>\n",
       "      <th>FIRST_NAME</th>\n",
       "      <th>FAMILY_NAME</th>\n",
       "      <th>TOTAL_MEALS_ORDERED</th>\n",
       "      <th>UNIQUE_MEALS_PURCH</th>\n",
       "      <th>CONTACTS_W_CUSTOMER_SERVICE</th>\n",
       "      <th>PRODUCT_CATEGORIES_VIEWED</th>\n",
       "      <th>AVG_TIME_PER_SITE_VISIT</th>\n",
       "      <th>MOBILE_NUMBER</th>\n",
       "      <th>CANCELLATIONS_BEFORE_NOON</th>\n",
       "      <th>CANCELLATIONS_AFTER_NOON</th>\n",
       "      <th>TASTES_AND_PREFERENCES</th>\n",
       "      <th>PC_LOGINS</th>\n",
       "      <th>MOBILE_LOGINS</th>\n",
       "      <th>WEEKLY_PLAN</th>\n",
       "      <th>EARLY_DELIVERIES</th>\n",
       "      <th>LATE_DELIVERIES</th>\n",
       "      <th>PACKAGE_LOCKER</th>\n",
       "      <th>REFRIGERATED_LOCKER</th>\n",
       "      <th>AVG_PREP_VID_TIME</th>\n",
       "      <th>LARGEST_ORDER_SIZE</th>\n",
       "      <th>MASTER_CLASSES_ATTENDED</th>\n",
       "      <th>MEDIAN_MEAL_RATING</th>\n",
       "      <th>AVG_CLICKS_PER_VISIT</th>\n",
       "      <th>TOTAL_PHOTOS_VIEWED</th>\n",
       "    </tr>\n",
       "  </thead>\n",
       "  <tbody>\n",
       "    <tr>\n",
       "      <th>0</th>\n",
       "      <td>393.0</td>\n",
       "      <td>1</td>\n",
       "      <td>Saathos</td>\n",
       "      <td>saathos@unitedhealth.com</td>\n",
       "      <td>Saathos</td>\n",
       "      <td>Saathos</td>\n",
       "      <td>14</td>\n",
       "      <td>6</td>\n",
       "      <td>12</td>\n",
       "      <td>10</td>\n",
       "      <td>48.00</td>\n",
       "      <td>1</td>\n",
       "      <td>3</td>\n",
       "      <td>1</td>\n",
       "      <td>1</td>\n",
       "      <td>5</td>\n",
       "      <td>2</td>\n",
       "      <td>0</td>\n",
       "      <td>0</td>\n",
       "      <td>2</td>\n",
       "      <td>0</td>\n",
       "      <td>0</td>\n",
       "      <td>33.4</td>\n",
       "      <td>1</td>\n",
       "      <td>0</td>\n",
       "      <td>1</td>\n",
       "      <td>17</td>\n",
       "      <td>0</td>\n",
       "    </tr>\n",
       "    <tr>\n",
       "      <th>1</th>\n",
       "      <td>1365.0</td>\n",
       "      <td>1</td>\n",
       "      <td>Alysanne Osgrey</td>\n",
       "      <td>alysanne.osgrey@ge.org</td>\n",
       "      <td>Alysanne</td>\n",
       "      <td>Osgrey</td>\n",
       "      <td>87</td>\n",
       "      <td>3</td>\n",
       "      <td>8</td>\n",
       "      <td>8</td>\n",
       "      <td>40.35</td>\n",
       "      <td>1</td>\n",
       "      <td>0</td>\n",
       "      <td>0</td>\n",
       "      <td>1</td>\n",
       "      <td>5</td>\n",
       "      <td>1</td>\n",
       "      <td>12</td>\n",
       "      <td>0</td>\n",
       "      <td>2</td>\n",
       "      <td>0</td>\n",
       "      <td>0</td>\n",
       "      <td>84.8</td>\n",
       "      <td>1</td>\n",
       "      <td>0</td>\n",
       "      <td>3</td>\n",
       "      <td>13</td>\n",
       "      <td>170</td>\n",
       "    </tr>\n",
       "    <tr>\n",
       "      <th>2</th>\n",
       "      <td>800.0</td>\n",
       "      <td>1</td>\n",
       "      <td>Edwyd Fossoway</td>\n",
       "      <td>edwyd.fossoway@jnj.com</td>\n",
       "      <td>Edwyd</td>\n",
       "      <td>Fossoway</td>\n",
       "      <td>15</td>\n",
       "      <td>7</td>\n",
       "      <td>11</td>\n",
       "      <td>5</td>\n",
       "      <td>19.77</td>\n",
       "      <td>1</td>\n",
       "      <td>3</td>\n",
       "      <td>0</td>\n",
       "      <td>1</td>\n",
       "      <td>6</td>\n",
       "      <td>1</td>\n",
       "      <td>1</td>\n",
       "      <td>0</td>\n",
       "      <td>1</td>\n",
       "      <td>0</td>\n",
       "      <td>0</td>\n",
       "      <td>63.0</td>\n",
       "      <td>1</td>\n",
       "      <td>0</td>\n",
       "      <td>2</td>\n",
       "      <td>16</td>\n",
       "      <td>0</td>\n",
       "    </tr>\n",
       "    <tr>\n",
       "      <th>3</th>\n",
       "      <td>600.0</td>\n",
       "      <td>1</td>\n",
       "      <td>Eleyna Westerling</td>\n",
       "      <td>eleyna.westerling@ge.org</td>\n",
       "      <td>Eleyna</td>\n",
       "      <td>Westerling</td>\n",
       "      <td>13</td>\n",
       "      <td>6</td>\n",
       "      <td>11</td>\n",
       "      <td>5</td>\n",
       "      <td>90.00</td>\n",
       "      <td>1</td>\n",
       "      <td>2</td>\n",
       "      <td>0</td>\n",
       "      <td>1</td>\n",
       "      <td>6</td>\n",
       "      <td>1</td>\n",
       "      <td>14</td>\n",
       "      <td>0</td>\n",
       "      <td>3</td>\n",
       "      <td>0</td>\n",
       "      <td>0</td>\n",
       "      <td>43.8</td>\n",
       "      <td>1</td>\n",
       "      <td>0</td>\n",
       "      <td>2</td>\n",
       "      <td>14</td>\n",
       "      <td>0</td>\n",
       "    </tr>\n",
       "    <tr>\n",
       "      <th>4</th>\n",
       "      <td>1490.0</td>\n",
       "      <td>1</td>\n",
       "      <td>Elyn Norridge</td>\n",
       "      <td>elyn.norridge@jnj.com</td>\n",
       "      <td>Elyn</td>\n",
       "      <td>Norridge</td>\n",
       "      <td>47</td>\n",
       "      <td>8</td>\n",
       "      <td>6</td>\n",
       "      <td>10</td>\n",
       "      <td>40.38</td>\n",
       "      <td>1</td>\n",
       "      <td>0</td>\n",
       "      <td>0</td>\n",
       "      <td>0</td>\n",
       "      <td>5</td>\n",
       "      <td>1</td>\n",
       "      <td>5</td>\n",
       "      <td>0</td>\n",
       "      <td>8</td>\n",
       "      <td>0</td>\n",
       "      <td>0</td>\n",
       "      <td>84.8</td>\n",
       "      <td>1</td>\n",
       "      <td>1</td>\n",
       "      <td>3</td>\n",
       "      <td>12</td>\n",
       "      <td>205</td>\n",
       "    </tr>\n",
       "  </tbody>\n",
       "</table>\n",
       "</div>"
      ],
      "text/plain": [
       "   REVENUE  CROSS_SELL_SUCCESS               NAME                     EMAIL FIRST_NAME FAMILY_NAME  TOTAL_MEALS_ORDERED  UNIQUE_MEALS_PURCH  CONTACTS_W_CUSTOMER_SERVICE  PRODUCT_CATEGORIES_VIEWED  AVG_TIME_PER_SITE_VISIT  MOBILE_NUMBER  CANCELLATIONS_BEFORE_NOON  CANCELLATIONS_AFTER_NOON  TASTES_AND_PREFERENCES  PC_LOGINS  MOBILE_LOGINS  WEEKLY_PLAN  EARLY_DELIVERIES  LATE_DELIVERIES  PACKAGE_LOCKER  REFRIGERATED_LOCKER  AVG_PREP_VID_TIME  LARGEST_ORDER_SIZE  MASTER_CLASSES_ATTENDED  MEDIAN_MEAL_RATING  AVG_CLICKS_PER_VISIT  TOTAL_PHOTOS_VIEWED\n",
       "0    393.0                   1            Saathos  saathos@unitedhealth.com    Saathos     Saathos                   14                   6                           12                         10                    48.00              1                          3                         1                       1          5              2            0                 0                2               0                    0               33.4                   1                        0                   1                    17                    0\n",
       "1   1365.0                   1    Alysanne Osgrey    alysanne.osgrey@ge.org   Alysanne      Osgrey                   87                   3                            8                          8                    40.35              1                          0                         0                       1          5              1           12                 0                2               0                    0               84.8                   1                        0                   3                    13                  170\n",
       "2    800.0                   1     Edwyd Fossoway    edwyd.fossoway@jnj.com      Edwyd    Fossoway                   15                   7                           11                          5                    19.77              1                          3                         0                       1          6              1            1                 0                1               0                    0               63.0                   1                        0                   2                    16                    0\n",
       "3    600.0                   1  Eleyna Westerling  eleyna.westerling@ge.org     Eleyna  Westerling                   13                   6                           11                          5                    90.00              1                          2                         0                       1          6              1           14                 0                3               0                    0               43.8                   1                        0                   2                    14                    0\n",
       "4   1490.0                   1      Elyn Norridge     elyn.norridge@jnj.com       Elyn    Norridge                   47                   8                            6                         10                    40.38              1                          0                         0                       0          5              1            5                 0                8               0                    0               84.8                   1                        1                   3                    12                  205"
      ]
     },
     "execution_count": 1,
     "metadata": {},
     "output_type": "execute_result"
    }
   ],
   "source": [
    "# importing libraries\n",
    "import pandas as pd # Data Science essentials\n",
    "import matplotlib.pyplot as plt # Data visualization essentials \n",
    "import seaborn as sns # Enhanced data visualization essentials \n",
    "import numpy as np # Mathemetical essentials \n",
    "import statsmodels.formula.api as smf # Regression modelling \n",
    "from sklearn.model_selection import train_test_split # train/test split\n",
    "from sklearn.neighbors import KNeighborsClassifier   # KNN for classification\n",
    "from sklearn.preprocessing import StandardScaler # standard scaler\n",
    "from sklearn.linear_model import LogisticRegression  # logistic regression\n",
    "import statsmodels.formula.api as smf                # logistic regression\n",
    "from sklearn.metrics import confusion_matrix         # confusion matrix\n",
    "from sklearn.metrics import roc_auc_score            # auc score\n",
    "from sklearn.model_selection import RandomizedSearchCV     # hyperparameter tuning\n",
    "from sklearn.metrics import make_scorer              # customizable scorer\n",
    "from sklearn.ensemble import RandomForestClassifier     # random forest\n",
    "from sklearn.ensemble import GradientBoostingClassifier # gbm\n",
    "from sklearn.tree import DecisionTreeClassifier      # classification trees\n",
    "from sklearn.tree import export_graphviz             # exports graphics\n",
    "from six import StringIO           # saves objects in memory\n",
    "from IPython.display import Image                    # displays on frontend\n",
    "import pydotplus                                     # interprets dot objects\n",
    "from sklearn.preprocessing import StandardScaler # standard scaler\n",
    "\n",
    "# setting pandas print options\n",
    "pd.set_option('display.max_rows', 500)\n",
    "pd.set_option('display.max_columns', 500)\n",
    "pd.set_option('display.width', 1000)\n",
    "\n",
    "# File name\n",
    "file = 'Apprentice_Chef_Dataset2.xlsx'\n",
    "\n",
    "## Reading the file into python \n",
    "app_chef = pd.read_excel(io = file)\n",
    "#app_chef = app_chef_org.copy()\n",
    "\n",
    "\n",
    "# Checking the first five rows of the dataset \n",
    "app_chef.head(n = 5)"
   ]
  },
  {
   "cell_type": "code",
   "execution_count": 2,
   "metadata": {},
   "outputs": [
    {
     "name": "stdout",
     "output_type": "stream",
     "text": [
      "\n",
      "Size of Original Dataset\n",
      "------------------------\n",
      "Observations: 1946\n",
      "Features:     28\n",
      "\n"
     ]
    }
   ],
   "source": [
    "# formatting and printing the dimensions of the dataset\n",
    "print(f\"\"\"\n",
    "Size of Original Dataset\n",
    "------------------------\n",
    "Observations: {app_chef.shape[0]}\n",
    "Features:     {app_chef.shape[1]}\n",
    "\"\"\")"
   ]
  },
  {
   "cell_type": "markdown",
   "metadata": {},
   "source": [
    "## User Defined Function "
   ]
  },
  {
   "cell_type": "code",
   "execution_count": 2,
   "metadata": {},
   "outputs": [],
   "source": [
    "# Defining a function to standardize numerical variables in the dataset:\n",
    "def standard(num_df):\n",
    "    \"\"\"\n",
    "    This function standardizes a dataframe that contains variables which are either\n",
    "    integers or floats.\n",
    "    \n",
    "    ------\n",
    "    num_df : DataFrame, must contain only numerical variables\n",
    "    \n",
    "    \"\"\"\n",
    "    # INSTANTIATING a StandardScaler() object\n",
    "    scaler = StandardScaler()\n",
    "\n",
    "    # FITTING the scaler with housing_data\n",
    "    scaler.fit(num_df)\n",
    "\n",
    "    # TRANSFORMING our data after fit\n",
    "    x_scaled = scaler.transform(num_df)\n",
    "\n",
    "    # converting scaled data into a DataFrame\n",
    "    x_scaled_df = pd.DataFrame(x_scaled)\n",
    "    \n",
    "    # adding labels to the scaled DataFrame\n",
    "    x_scaled_df.columns = num_df.columns\n",
    "    \n",
    "    # Re-attaching target variable to DataFrame\n",
    "    #X_scaled_df = X_scaled_df.join(target_variable)\n",
    "    \n",
    "    # returning the standardized data frame into the global environment\n",
    "    return x_scaled_df\n",
    "\n",
    "\n",
    "\n",
    "\n",
    "\n",
    "## User-Defined Functions   \n",
    "\n",
    "# Defining function for boxplots \n",
    "def distributions(variable, data, y = None, hue = None, orient = 'h'):\n",
    "    \"\"\"\n",
    "    This function can be used for continuous or count variables.\n",
    "\n",
    "    PARAMETERS\n",
    "    ----------\n",
    "    variable : str, continuous or count variable\n",
    "    data     : DataFrame\n",
    "    y        : names of variables in data\n",
    "    hue      : optional Inputs for plotting long-form data\n",
    "    orient   : \"h\", optional\n",
    "        Orientation of the plot (vertical or horizontal). This is usually\n",
    "        inferred based on the type of the input variables, but it can be used\n",
    "        to resolve ambiguitiy when both `x` and `y` are numeric or when\n",
    "        plotting wide-form data.   \n",
    "    \"\"\"\n",
    "    \n",
    "    sns.boxplot(x = data[variable],  \n",
    "                y = None,     # optional y-variable\n",
    "             hue    = None,     # optional categorical feature\n",
    "             orient = 'h')\n",
    "    \n",
    "    plt.xlabel(variable)\n",
    "    plt.tight_layout()\n",
    "    plt.show()\n",
    "\n",
    "    \n",
    "\n",
    "    \n",
    "    \n",
    "\n",
    "    \n",
    "########################################\n",
    "# display_tree\n",
    "########################################\n",
    "def display_tree(tree, feature_df, height = 500, width = 800):\n",
    "    \"\"\"\n",
    "    PARAMETERS\n",
    "    ----------\n",
    "    tree       : fitted tree model object\n",
    "        fitted CART model to visualized\n",
    "    feature_df : DataFrame\n",
    "        DataFrame of explanatory features (used to generate labels)\n",
    "    height     : int, default 500\n",
    "        height in pixels to which to constrain image in html\n",
    "    width      : int, default 800\n",
    "        width in pixels to which to constrain image in html\n",
    "    \"\"\"\n",
    "\n",
    "    # visualizing the tree\n",
    "    dot_data = StringIO()\n",
    "\n",
    "    \n",
    "    # exporting tree to graphviz\n",
    "    export_graphviz(decision_tree      = tree,\n",
    "                    out_file           = dot_data,\n",
    "                    filled             = True,\n",
    "                    rounded            = True,\n",
    "                    special_characters = True,\n",
    "                    feature_names      = feature_df.columns)\n",
    "\n",
    "\n",
    "    # declaring a graph object\n",
    "    graph = pydotplus.graph_from_dot_data(dot_data.getvalue())\n",
    "\n",
    "\n",
    "    # creating image\n",
    "    img = Image(graph.create_png(),\n",
    "                height = height,\n",
    "                width  = width)\n",
    "    \n",
    "    return img\n",
    "\n",
    "\n",
    "\n",
    "########################################\n",
    "# plot_feature_importances\n",
    "########################################\n",
    "def plot_feature_importances(model, train, export = False):\n",
    "    \"\"\"\n",
    "    Plots the importance of features from a CART model.\n",
    "    \n",
    "    PARAMETERS\n",
    "    ----------\n",
    "    model  : CART model\n",
    "    train  : explanatory variable training data\n",
    "    export : whether or not to export as a .png image, default False\n",
    "    \"\"\"\n",
    "    \n",
    "    # declaring the number\n",
    "    n_features = x_train.shape[1]\n",
    "    \n",
    "    # setting plot window\n",
    "    fig, ax = plt.subplots(figsize=(12,9))\n",
    "    \n",
    "    plt.barh(range(n_features), model.feature_importances_, align='center')\n",
    "    plt.yticks(pd.np.arange(n_features), train.columns)\n",
    "    plt.xlabel(\"Feature importance\")\n",
    "    plt.ylabel(\"Feature\")\n",
    "    \n",
    "    if export == True:\n",
    "        plt.savefig('Tree_Leaf_50_Feature_Importance.png')"
   ]
  },
  {
   "cell_type": "markdown",
   "metadata": {},
   "source": [
    "## Information About Each Variable"
   ]
  },
  {
   "cell_type": "code",
   "execution_count": 4,
   "metadata": {},
   "outputs": [
    {
     "name": "stdout",
     "output_type": "stream",
     "text": [
      "<class 'pandas.core.frame.DataFrame'>\n",
      "RangeIndex: 1946 entries, 0 to 1945\n",
      "Data columns (total 28 columns):\n",
      " #   Column                       Non-Null Count  Dtype  \n",
      "---  ------                       --------------  -----  \n",
      " 0   REVENUE                      1946 non-null   float64\n",
      " 1   CROSS_SELL_SUCCESS           1946 non-null   int64  \n",
      " 2   NAME                         1946 non-null   object \n",
      " 3   EMAIL                        1946 non-null   object \n",
      " 4   FIRST_NAME                   1946 non-null   object \n",
      " 5   FAMILY_NAME                  1899 non-null   object \n",
      " 6   TOTAL_MEALS_ORDERED          1946 non-null   int64  \n",
      " 7   UNIQUE_MEALS_PURCH           1946 non-null   int64  \n",
      " 8   CONTACTS_W_CUSTOMER_SERVICE  1946 non-null   int64  \n",
      " 9   PRODUCT_CATEGORIES_VIEWED    1946 non-null   int64  \n",
      " 10  AVG_TIME_PER_SITE_VISIT      1946 non-null   float64\n",
      " 11  MOBILE_NUMBER                1946 non-null   int64  \n",
      " 12  CANCELLATIONS_BEFORE_NOON    1946 non-null   int64  \n",
      " 13  CANCELLATIONS_AFTER_NOON     1946 non-null   int64  \n",
      " 14  TASTES_AND_PREFERENCES       1946 non-null   int64  \n",
      " 15  PC_LOGINS                    1946 non-null   int64  \n",
      " 16  MOBILE_LOGINS                1946 non-null   int64  \n",
      " 17  WEEKLY_PLAN                  1946 non-null   int64  \n",
      " 18  EARLY_DELIVERIES             1946 non-null   int64  \n",
      " 19  LATE_DELIVERIES              1946 non-null   int64  \n",
      " 20  PACKAGE_LOCKER               1946 non-null   int64  \n",
      " 21  REFRIGERATED_LOCKER          1946 non-null   int64  \n",
      " 22  AVG_PREP_VID_TIME            1946 non-null   float64\n",
      " 23  LARGEST_ORDER_SIZE           1946 non-null   int64  \n",
      " 24  MASTER_CLASSES_ATTENDED      1946 non-null   int64  \n",
      " 25  MEDIAN_MEAL_RATING           1946 non-null   int64  \n",
      " 26  AVG_CLICKS_PER_VISIT         1946 non-null   int64  \n",
      " 27  TOTAL_PHOTOS_VIEWED          1946 non-null   int64  \n",
      "dtypes: float64(3), int64(21), object(4)\n",
      "memory usage: 425.8+ KB\n"
     ]
    }
   ],
   "source": [
    "# INFOrmation about each variable\n",
    "app_chef.info()"
   ]
  },
  {
   "cell_type": "markdown",
   "metadata": {},
   "source": [
    "##  Descriptive Statistics for Numeric Data "
   ]
  },
  {
   "cell_type": "code",
   "execution_count": 5,
   "metadata": {},
   "outputs": [
    {
     "data": {
      "text/html": [
       "<div>\n",
       "<style scoped>\n",
       "    .dataframe tbody tr th:only-of-type {\n",
       "        vertical-align: middle;\n",
       "    }\n",
       "\n",
       "    .dataframe tbody tr th {\n",
       "        vertical-align: top;\n",
       "    }\n",
       "\n",
       "    .dataframe thead th {\n",
       "        text-align: right;\n",
       "    }\n",
       "</style>\n",
       "<table border=\"1\" class=\"dataframe\">\n",
       "  <thead>\n",
       "    <tr style=\"text-align: right;\">\n",
       "      <th></th>\n",
       "      <th>REVENUE</th>\n",
       "      <th>CROSS_SELL_SUCCESS</th>\n",
       "      <th>TOTAL_MEALS_ORDERED</th>\n",
       "      <th>UNIQUE_MEALS_PURCH</th>\n",
       "      <th>CONTACTS_W_CUSTOMER_SERVICE</th>\n",
       "      <th>PRODUCT_CATEGORIES_VIEWED</th>\n",
       "      <th>AVG_TIME_PER_SITE_VISIT</th>\n",
       "      <th>MOBILE_NUMBER</th>\n",
       "      <th>CANCELLATIONS_BEFORE_NOON</th>\n",
       "      <th>CANCELLATIONS_AFTER_NOON</th>\n",
       "      <th>TASTES_AND_PREFERENCES</th>\n",
       "      <th>PC_LOGINS</th>\n",
       "      <th>MOBILE_LOGINS</th>\n",
       "      <th>WEEKLY_PLAN</th>\n",
       "      <th>EARLY_DELIVERIES</th>\n",
       "      <th>LATE_DELIVERIES</th>\n",
       "      <th>PACKAGE_LOCKER</th>\n",
       "      <th>REFRIGERATED_LOCKER</th>\n",
       "      <th>AVG_PREP_VID_TIME</th>\n",
       "      <th>LARGEST_ORDER_SIZE</th>\n",
       "      <th>MASTER_CLASSES_ATTENDED</th>\n",
       "      <th>MEDIAN_MEAL_RATING</th>\n",
       "      <th>AVG_CLICKS_PER_VISIT</th>\n",
       "      <th>TOTAL_PHOTOS_VIEWED</th>\n",
       "    </tr>\n",
       "  </thead>\n",
       "  <tbody>\n",
       "    <tr>\n",
       "      <th>count</th>\n",
       "      <td>1946.00</td>\n",
       "      <td>1946.00</td>\n",
       "      <td>1946.00</td>\n",
       "      <td>1946.0</td>\n",
       "      <td>1946.00</td>\n",
       "      <td>1946.00</td>\n",
       "      <td>1946.00</td>\n",
       "      <td>1946.00</td>\n",
       "      <td>1946.00</td>\n",
       "      <td>1946.00</td>\n",
       "      <td>1946.00</td>\n",
       "      <td>1946.00</td>\n",
       "      <td>1946.00</td>\n",
       "      <td>1946.00</td>\n",
       "      <td>1946.00</td>\n",
       "      <td>1946.00</td>\n",
       "      <td>1946.00</td>\n",
       "      <td>1946.00</td>\n",
       "      <td>1946.00</td>\n",
       "      <td>1946.00</td>\n",
       "      <td>1946.00</td>\n",
       "      <td>1946.00</td>\n",
       "      <td>1946.00</td>\n",
       "      <td>1946.00</td>\n",
       "    </tr>\n",
       "    <tr>\n",
       "      <th>mean</th>\n",
       "      <td>2107.29</td>\n",
       "      <td>0.68</td>\n",
       "      <td>74.63</td>\n",
       "      <td>4.9</td>\n",
       "      <td>6.98</td>\n",
       "      <td>5.38</td>\n",
       "      <td>99.60</td>\n",
       "      <td>0.88</td>\n",
       "      <td>1.40</td>\n",
       "      <td>0.17</td>\n",
       "      <td>0.71</td>\n",
       "      <td>5.52</td>\n",
       "      <td>1.48</td>\n",
       "      <td>11.33</td>\n",
       "      <td>1.49</td>\n",
       "      <td>2.97</td>\n",
       "      <td>0.36</td>\n",
       "      <td>0.11</td>\n",
       "      <td>150.56</td>\n",
       "      <td>4.44</td>\n",
       "      <td>0.60</td>\n",
       "      <td>2.79</td>\n",
       "      <td>13.51</td>\n",
       "      <td>106.43</td>\n",
       "    </tr>\n",
       "    <tr>\n",
       "      <th>std</th>\n",
       "      <td>1138.29</td>\n",
       "      <td>0.47</td>\n",
       "      <td>55.31</td>\n",
       "      <td>2.5</td>\n",
       "      <td>2.28</td>\n",
       "      <td>3.04</td>\n",
       "      <td>62.34</td>\n",
       "      <td>0.33</td>\n",
       "      <td>1.55</td>\n",
       "      <td>0.43</td>\n",
       "      <td>0.45</td>\n",
       "      <td>0.58</td>\n",
       "      <td>0.53</td>\n",
       "      <td>13.57</td>\n",
       "      <td>2.32</td>\n",
       "      <td>2.74</td>\n",
       "      <td>0.48</td>\n",
       "      <td>0.32</td>\n",
       "      <td>49.45</td>\n",
       "      <td>1.55</td>\n",
       "      <td>0.64</td>\n",
       "      <td>0.76</td>\n",
       "      <td>2.33</td>\n",
       "      <td>181.01</td>\n",
       "    </tr>\n",
       "    <tr>\n",
       "      <th>min</th>\n",
       "      <td>131.00</td>\n",
       "      <td>0.00</td>\n",
       "      <td>11.00</td>\n",
       "      <td>1.0</td>\n",
       "      <td>1.00</td>\n",
       "      <td>1.00</td>\n",
       "      <td>10.33</td>\n",
       "      <td>0.00</td>\n",
       "      <td>0.00</td>\n",
       "      <td>0.00</td>\n",
       "      <td>0.00</td>\n",
       "      <td>4.00</td>\n",
       "      <td>0.00</td>\n",
       "      <td>0.00</td>\n",
       "      <td>0.00</td>\n",
       "      <td>0.00</td>\n",
       "      <td>0.00</td>\n",
       "      <td>0.00</td>\n",
       "      <td>33.40</td>\n",
       "      <td>1.00</td>\n",
       "      <td>0.00</td>\n",
       "      <td>1.00</td>\n",
       "      <td>5.00</td>\n",
       "      <td>0.00</td>\n",
       "    </tr>\n",
       "    <tr>\n",
       "      <th>25%</th>\n",
       "      <td>1350.00</td>\n",
       "      <td>0.00</td>\n",
       "      <td>39.00</td>\n",
       "      <td>3.0</td>\n",
       "      <td>5.00</td>\n",
       "      <td>3.00</td>\n",
       "      <td>72.00</td>\n",
       "      <td>1.00</td>\n",
       "      <td>0.00</td>\n",
       "      <td>0.00</td>\n",
       "      <td>0.00</td>\n",
       "      <td>5.00</td>\n",
       "      <td>1.00</td>\n",
       "      <td>1.00</td>\n",
       "      <td>0.00</td>\n",
       "      <td>1.00</td>\n",
       "      <td>0.00</td>\n",
       "      <td>0.00</td>\n",
       "      <td>114.40</td>\n",
       "      <td>3.00</td>\n",
       "      <td>0.00</td>\n",
       "      <td>2.00</td>\n",
       "      <td>12.00</td>\n",
       "      <td>0.00</td>\n",
       "    </tr>\n",
       "    <tr>\n",
       "      <th>50%</th>\n",
       "      <td>1740.00</td>\n",
       "      <td>1.00</td>\n",
       "      <td>60.00</td>\n",
       "      <td>5.0</td>\n",
       "      <td>7.00</td>\n",
       "      <td>5.00</td>\n",
       "      <td>94.16</td>\n",
       "      <td>1.00</td>\n",
       "      <td>1.00</td>\n",
       "      <td>0.00</td>\n",
       "      <td>1.00</td>\n",
       "      <td>6.00</td>\n",
       "      <td>1.00</td>\n",
       "      <td>7.00</td>\n",
       "      <td>0.00</td>\n",
       "      <td>2.00</td>\n",
       "      <td>0.00</td>\n",
       "      <td>0.00</td>\n",
       "      <td>145.60</td>\n",
       "      <td>4.00</td>\n",
       "      <td>1.00</td>\n",
       "      <td>3.00</td>\n",
       "      <td>13.00</td>\n",
       "      <td>0.00</td>\n",
       "    </tr>\n",
       "    <tr>\n",
       "      <th>75%</th>\n",
       "      <td>2670.00</td>\n",
       "      <td>1.00</td>\n",
       "      <td>95.00</td>\n",
       "      <td>7.0</td>\n",
       "      <td>8.00</td>\n",
       "      <td>8.00</td>\n",
       "      <td>117.29</td>\n",
       "      <td>1.00</td>\n",
       "      <td>2.00</td>\n",
       "      <td>0.00</td>\n",
       "      <td>1.00</td>\n",
       "      <td>6.00</td>\n",
       "      <td>2.00</td>\n",
       "      <td>13.00</td>\n",
       "      <td>3.00</td>\n",
       "      <td>4.00</td>\n",
       "      <td>1.00</td>\n",
       "      <td>0.00</td>\n",
       "      <td>173.78</td>\n",
       "      <td>5.00</td>\n",
       "      <td>1.00</td>\n",
       "      <td>3.00</td>\n",
       "      <td>15.00</td>\n",
       "      <td>174.00</td>\n",
       "    </tr>\n",
       "    <tr>\n",
       "      <th>max</th>\n",
       "      <td>8793.75</td>\n",
       "      <td>1.00</td>\n",
       "      <td>493.00</td>\n",
       "      <td>19.0</td>\n",
       "      <td>18.00</td>\n",
       "      <td>10.00</td>\n",
       "      <td>1645.60</td>\n",
       "      <td>1.00</td>\n",
       "      <td>13.00</td>\n",
       "      <td>3.00</td>\n",
       "      <td>1.00</td>\n",
       "      <td>7.00</td>\n",
       "      <td>3.00</td>\n",
       "      <td>52.00</td>\n",
       "      <td>9.00</td>\n",
       "      <td>19.00</td>\n",
       "      <td>1.00</td>\n",
       "      <td>1.00</td>\n",
       "      <td>564.20</td>\n",
       "      <td>11.00</td>\n",
       "      <td>3.00</td>\n",
       "      <td>5.00</td>\n",
       "      <td>19.00</td>\n",
       "      <td>1600.00</td>\n",
       "    </tr>\n",
       "  </tbody>\n",
       "</table>\n",
       "</div>"
      ],
      "text/plain": [
       "       REVENUE  CROSS_SELL_SUCCESS  TOTAL_MEALS_ORDERED  UNIQUE_MEALS_PURCH  CONTACTS_W_CUSTOMER_SERVICE  PRODUCT_CATEGORIES_VIEWED  AVG_TIME_PER_SITE_VISIT  MOBILE_NUMBER  CANCELLATIONS_BEFORE_NOON  CANCELLATIONS_AFTER_NOON  TASTES_AND_PREFERENCES  PC_LOGINS  MOBILE_LOGINS  WEEKLY_PLAN  EARLY_DELIVERIES  LATE_DELIVERIES  PACKAGE_LOCKER  REFRIGERATED_LOCKER  AVG_PREP_VID_TIME  LARGEST_ORDER_SIZE  MASTER_CLASSES_ATTENDED  MEDIAN_MEAL_RATING  AVG_CLICKS_PER_VISIT  TOTAL_PHOTOS_VIEWED\n",
       "count  1946.00             1946.00              1946.00              1946.0                      1946.00                    1946.00                  1946.00        1946.00                    1946.00                   1946.00                 1946.00    1946.00        1946.00      1946.00           1946.00          1946.00         1946.00              1946.00            1946.00             1946.00                  1946.00             1946.00               1946.00              1946.00\n",
       "mean   2107.29                0.68                74.63                 4.9                         6.98                       5.38                    99.60           0.88                       1.40                      0.17                    0.71       5.52           1.48        11.33              1.49             2.97            0.36                 0.11             150.56                4.44                     0.60                2.79                 13.51               106.43\n",
       "std    1138.29                0.47                55.31                 2.5                         2.28                       3.04                    62.34           0.33                       1.55                      0.43                    0.45       0.58           0.53        13.57              2.32             2.74            0.48                 0.32              49.45                1.55                     0.64                0.76                  2.33               181.01\n",
       "min     131.00                0.00                11.00                 1.0                         1.00                       1.00                    10.33           0.00                       0.00                      0.00                    0.00       4.00           0.00         0.00              0.00             0.00            0.00                 0.00              33.40                1.00                     0.00                1.00                  5.00                 0.00\n",
       "25%    1350.00                0.00                39.00                 3.0                         5.00                       3.00                    72.00           1.00                       0.00                      0.00                    0.00       5.00           1.00         1.00              0.00             1.00            0.00                 0.00             114.40                3.00                     0.00                2.00                 12.00                 0.00\n",
       "50%    1740.00                1.00                60.00                 5.0                         7.00                       5.00                    94.16           1.00                       1.00                      0.00                    1.00       6.00           1.00         7.00              0.00             2.00            0.00                 0.00             145.60                4.00                     1.00                3.00                 13.00                 0.00\n",
       "75%    2670.00                1.00                95.00                 7.0                         8.00                       8.00                   117.29           1.00                       2.00                      0.00                    1.00       6.00           2.00        13.00              3.00             4.00            1.00                 0.00             173.78                5.00                     1.00                3.00                 15.00               174.00\n",
       "max    8793.75                1.00               493.00                19.0                        18.00                      10.00                  1645.60           1.00                      13.00                      3.00                    1.00       7.00           3.00        52.00              9.00            19.00            1.00                 1.00             564.20               11.00                     3.00                5.00                 19.00              1600.00"
      ]
     },
     "execution_count": 5,
     "metadata": {},
     "output_type": "execute_result"
    }
   ],
   "source": [
    "# descriptive statistics for numeric data\n",
    "app_chef.describe(include = 'number').round(decimals = 2)"
   ]
  },
  {
   "cell_type": "markdown",
   "metadata": {},
   "source": [
    "## Classifying Variables Based on Variable Types  "
   ]
  },
  {
   "cell_type": "code",
   "execution_count": 6,
   "metadata": {},
   "outputs": [],
   "source": [
    "CONTINUOUS = ['REVENUE',\n",
    "               'AVG_TIME_PER_SITE_VISIT',\n",
    "                'CANCELLATIONS_BEFORE_NOON', \t\n",
    "                'CANCELLATIONS_AFTER_NOON',\n",
    "                'AVG_PREP_VID_TIME', \t\n",
    "                'LARGEST_ORDER_SIZE',\n",
    "                'AVG_CLICKS_PER_VISIT']\n",
    "\n",
    "\n",
    "COUNT = ['TOTAL_MEALS_ORDERED',\n",
    "            'UNIQUE_MEALS_PURCH',\n",
    "            'CONTACTS_W_CUSTOMER_SERVICE',\n",
    "            'PRODUCT_CATEGORIES_VIEWED',\n",
    "            'WEEKLY_PLAN',\n",
    "            'EARLY_DELIVERIES', \t\n",
    "            'LATE_DELIVERIES', \t\n",
    "            'PC_LOGINS', \t\n",
    "            'MOBILE_LOGINS',\n",
    "            'MASTER_CLASSES_ATTENDED',\n",
    "            'MEDIAN_MEAL_RATING',\n",
    "            'TOTAL_PHOTOS_VIEWED']\n",
    "\n",
    "CATEGORICAL = ['CROSS_SELL_SUCCESS',\n",
    "                'MOBILE_NUMBER',\n",
    "                'PACKAGE_LOCKER', \t\n",
    "                'REFRIGERATED_LOCKER',\n",
    "                'TASTES_AND_PREFERENCES']"
   ]
  },
  {
   "cell_type": "markdown",
   "metadata": {},
   "source": [
    "## Encoding Categorical Data "
   ]
  },
  {
   "cell_type": "code",
   "execution_count": 7,
   "metadata": {},
   "outputs": [
    {
     "name": "stdout",
     "output_type": "stream",
     "text": [
      "\n",
      "CROSS_SELL_SUCCESS\n",
      "-------------------\n",
      "1    1321\n",
      "0     625\n",
      "Name: CROSS_SELL_SUCCESS, dtype: int64\n",
      "\n",
      "\n",
      "MOBILE_NUMBER\n",
      "-------------\n",
      "1    1708\n",
      "0     238\n",
      "Name: MOBILE_NUMBER, dtype: int64\n",
      "\n",
      "\n",
      "PACKAGE_LOCKER\n",
      "--------------\n",
      "0    1255\n",
      "1     691\n",
      "Name: PACKAGE_LOCKER, dtype: int64\n",
      "\n",
      "\n",
      "REFRIGERATED_LOCKER\n",
      "--------------\n",
      "0    1726\n",
      "1     220\n",
      "Name: REFRIGERATED_LOCKER, dtype: int64\n",
      "\n"
     ]
    }
   ],
   "source": [
    "# printing columns\n",
    "print(f\"\"\"\n",
    "CROSS_SELL_SUCCESS\n",
    "-------------------\n",
    "{app_chef['CROSS_SELL_SUCCESS'].value_counts()}\n",
    "\n",
    "\n",
    "MOBILE_NUMBER\n",
    "-------------\n",
    "{app_chef['MOBILE_NUMBER'].value_counts()}\n",
    "\n",
    "\n",
    "PACKAGE_LOCKER\n",
    "--------------\n",
    "{app_chef['PACKAGE_LOCKER'].value_counts()}\n",
    "\n",
    "\n",
    "REFRIGERATED_LOCKER\n",
    "--------------\n",
    "{app_chef['REFRIGERATED_LOCKER'].value_counts()}\n",
    "\"\"\")"
   ]
  },
  {
   "cell_type": "markdown",
   "metadata": {},
   "source": [
    "## Review of Missing Value Analysis and Imputation "
   ]
  },
  {
   "cell_type": "code",
   "execution_count": 8,
   "metadata": {},
   "outputs": [
    {
     "data": {
      "text/plain": [
       "REVENUE                         0\n",
       "CROSS_SELL_SUCCESS              0\n",
       "NAME                            0\n",
       "EMAIL                           0\n",
       "FIRST_NAME                      0\n",
       "FAMILY_NAME                    47\n",
       "TOTAL_MEALS_ORDERED             0\n",
       "UNIQUE_MEALS_PURCH              0\n",
       "CONTACTS_W_CUSTOMER_SERVICE     0\n",
       "PRODUCT_CATEGORIES_VIEWED       0\n",
       "AVG_TIME_PER_SITE_VISIT         0\n",
       "MOBILE_NUMBER                   0\n",
       "CANCELLATIONS_BEFORE_NOON       0\n",
       "CANCELLATIONS_AFTER_NOON        0\n",
       "TASTES_AND_PREFERENCES          0\n",
       "PC_LOGINS                       0\n",
       "MOBILE_LOGINS                   0\n",
       "WEEKLY_PLAN                     0\n",
       "EARLY_DELIVERIES                0\n",
       "LATE_DELIVERIES                 0\n",
       "PACKAGE_LOCKER                  0\n",
       "REFRIGERATED_LOCKER             0\n",
       "AVG_PREP_VID_TIME               0\n",
       "LARGEST_ORDER_SIZE              0\n",
       "MASTER_CLASSES_ATTENDED         0\n",
       "MEDIAN_MEAL_RATING              0\n",
       "AVG_CLICKS_PER_VISIT            0\n",
       "TOTAL_PHOTOS_VIEWED             0\n",
       "dtype: int64"
      ]
     },
     "execution_count": 8,
     "metadata": {},
     "output_type": "execute_result"
    }
   ],
   "source": [
    "#Checking for missing values in the dataset \n",
    "app_chef.isnull().sum(axis = 0)"
   ]
  },
  {
   "cell_type": "markdown",
   "metadata": {},
   "source": [
    "In the dataset, FAMILY_NAME has the highest amount of missing values. Inputing any value would be inappropriate for this feature as some customers probably refused to put in their family name when ordering a meal."
   ]
  },
  {
   "cell_type": "markdown",
   "metadata": {},
   "source": [
    "## Flagging Missing Values "
   ]
  },
  {
   "cell_type": "code",
   "execution_count": 9,
   "metadata": {},
   "outputs": [],
   "source": [
    "# Flagging missing variables for FAMILY_NAME\n",
    "# creating a copy of dataframe for safety measures\n",
    "app_chef_m = app_chef.copy()\n",
    "\n",
    "# creating a new column where 1 indicates that observation has a missing family name\n",
    "app_chef_m['m_FAMILY_NAME'] = app_chef_m['FAMILY_NAME'].isnull().astype(int)\n"
   ]
  },
  {
   "cell_type": "markdown",
   "metadata": {},
   "source": [
    "## Visualization "
   ]
  },
  {
   "cell_type": "code",
   "execution_count": 10,
   "metadata": {},
   "outputs": [
    {
     "data": {
      "image/png": "[encoded data removed]",
      "text/plain": [
       "<Figure size 432x288 with 1 Axes>"
      ]
     },
     "metadata": {
      "needs_background": "light"
     },
     "output_type": "display_data"
    }
   ],
   "source": [
    "sns.countplot(x='CROSS_SELL_SUCCESS', data = app_chef, palette = 'hls')\n",
    "plt.show()"
   ]
  },
  {
   "cell_type": "code",
   "execution_count": 11,
   "metadata": {},
   "outputs": [
    {
     "name": "stdout",
     "output_type": "stream",
     "text": [
      "percentage of no subscription is 32.11716341212744\n",
      "percentage of subscription 67.88283658787256\n"
     ]
    }
   ],
   "source": [
    "# PERCENTAGE OF SUBSCRIPTION\n",
    "count_no_sub = len(app_chef[app_chef['CROSS_SELL_SUCCESS']==0])\n",
    "\n",
    "count_sub = len(app_chef[app_chef['CROSS_SELL_SUCCESS']==1])\n",
    "\n",
    "pct_of_no_sub = count_no_sub/(count_no_sub+count_sub)\n",
    "print(\"percentage of no subscription is\", pct_of_no_sub*100)\n",
    "\n",
    "pct_of_sub = count_sub/(count_no_sub+count_sub)\n",
    "print(\"percentage of subscription\", pct_of_sub*100)"
   ]
  },
  {
   "cell_type": "markdown",
   "metadata": {},
   "source": [
    "Percentage of customers subscribing to the \"Halfway There\" is approximately 68% which is good for apprentice chef"
   ]
  },
  {
   "cell_type": "markdown",
   "metadata": {},
   "source": [
    "### Visualization: Categorical Variables "
   ]
  },
  {
   "cell_type": "code",
   "execution_count": 12,
   "metadata": {},
   "outputs": [
    {
     "data": {
      "text/plain": [
       "Text(0, 0.5, 'Frequency of Subscription')"
      ]
     },
     "execution_count": 12,
     "metadata": {},
     "output_type": "execute_result"
    },
    {
     "data": {
      "image/png": "[encoded data removed]",
      "text/plain": [
       "<Figure size 432x288 with 1 Axes>"
      ]
     },
     "metadata": {
      "needs_background": "light"
     },
     "output_type": "display_data"
    }
   ],
   "source": [
    "# Understanding if taste and preference will be a good predictor of the outcome  \n",
    "pd.crosstab(app_chef.TASTES_AND_PREFERENCES, app_chef.CROSS_SELL_SUCCESS).plot(kind = 'bar')\n",
    "plt.title('Success from inputing tastes and preferences in bio')\n",
    "plt.xlabel('Tastes and Preferences Yes = 1, No = 0')\n",
    "plt.ylabel('Frequency of Subscription')"
   ]
  },
  {
   "cell_type": "markdown",
   "metadata": {},
   "source": [
    "From the diagram above, a customer having tastes or preferences in his/her bio may be a good predictor of the outcome\n"
   ]
  },
  {
   "cell_type": "code",
   "execution_count": 31,
   "metadata": {},
   "outputs": [
    {
     "data": {
      "text/plain": [
       "Text(0, 0.5, 'Frequency of Subscription')"
      ]
     },
     "execution_count": 31,
     "metadata": {},
     "output_type": "execute_result"
    },
    {
     "data": {
      "image/png": "[encoded data removed]",
      "text/plain": [
       "<Figure size 432x288 with 1 Axes>"
      ]
     },
     "metadata": {
      "needs_background": "light"
     },
     "output_type": "display_data"
    }
   ],
   "source": [
    "# Understanding if registering with a phone number will be a good predictor of the outcome  \n",
    "pd.crosstab(app_chef.MOBILE_NUMBER, app_chef.CROSS_SELL_SUCCESS).plot(kind = 'bar')\n",
    "plt.title('Success from registration using a phone number')\n",
    "plt.xlabel('Registered using a phone number Yes = 1, No = 0')\n",
    "plt.ylabel('Frequency of Subscription')"
   ]
  },
  {
   "cell_type": "markdown",
   "metadata": {},
   "source": [
    "From the diagram above, registering with a phone number or not may be a good predictor of the outcome "
   ]
  },
  {
   "cell_type": "markdown",
   "metadata": {},
   "source": [
    "### Visualization: Continuous and Discrete Variables  "
   ]
  },
  {
   "cell_type": "code",
   "execution_count": 43,
   "metadata": {
    "scrolled": true
   },
   "outputs": [
    {
     "data": {
      "image/png": "[encoded data removed]",
      "text/plain": [
       "<Figure size 432x288 with 1 Axes>"
      ]
     },
     "metadata": {
      "needs_background": "light"
     },
     "output_type": "display_data"
    },
    {
     "data": {
      "image/png": "[encoded data removed]",
      "text/plain": [
       "<Figure size 432x288 with 1 Axes>"
      ]
     },
     "metadata": {
      "needs_background": "light"
     },
     "output_type": "display_data"
    },
    {
     "data": {
      "image/png": "[encoded data removed]",
      "text/plain": [
       "<Figure size 432x288 with 1 Axes>"
      ]
     },
     "metadata": {
      "needs_background": "light"
     },
     "output_type": "display_data"
    },
    {
     "data": {
      "image/png": "[encoded data removed]",
      "text/plain": [
       "<Figure size 432x288 with 1 Axes>"
      ]
     },
     "metadata": {
      "needs_background": "light"
     },
     "output_type": "display_data"
    },
    {
     "data": {
      "image/png": "[encoded data removed]",
      "text/plain": [
       "<Figure size 432x288 with 1 Axes>"
      ]
     },
     "metadata": {
      "needs_background": "light"
     },
     "output_type": "display_data"
    },
    {
     "data": {
      "image/png": "[encoded data removed]",
      "text/plain": [
       "<Figure size 432x288 with 1 Axes>"
      ]
     },
     "metadata": {
      "needs_background": "light"
     },
     "output_type": "display_data"
    },
    {
     "data": {
      "image/png": "[encoded data removed]",
      "text/plain": [
       "<Figure size 432x288 with 1 Axes>"
      ]
     },
     "metadata": {
      "needs_background": "light"
     },
     "output_type": "display_data"
    },
    {
     "data": {
      "image/png": "[encoded data removed]",
      "text/plain": [
       "<Figure size 432x288 with 1 Axes>"
      ]
     },
     "metadata": {
      "needs_background": "light"
     },
     "output_type": "display_data"
    },
    {
     "data": {
      "image/png": "[encoded data removed]",
      "text/plain": [
       "<Figure size 432x288 with 1 Axes>"
      ]
     },
     "metadata": {
      "needs_background": "light"
     },
     "output_type": "display_data"
    },
    {
     "data": {
      "image/png": "[encoded data removed]",
      "text/plain": [
       "<Figure size 432x288 with 1 Axes>"
      ]
     },
     "metadata": {
      "needs_background": "light"
     },
     "output_type": "display_data"
    },
    {
     "data": {
      "image/png": "[encoded data removed]",
      "text/plain": [
       "<Figure size 432x288 with 1 Axes>"
      ]
     },
     "metadata": {
      "needs_background": "light"
     },
     "output_type": "display_data"
    },
    {
     "data": {
      "image/png": "[encoded data removed]",
      "text/plain": [
       "<Figure size 432x288 with 1 Axes>"
      ]
     },
     "metadata": {
      "needs_background": "light"
     },
     "output_type": "display_data"
    },
    {
     "data": {
      "image/png": "[encoded data removed]",
      "text/plain": [
       "<Figure size 432x288 with 1 Axes>"
      ]
     },
     "metadata": {
      "needs_background": "light"
     },
     "output_type": "display_data"
    },
    {
     "data": {
      "image/png": "[encoded data removed]",
      "text/plain": [
       "<Figure size 432x288 with 1 Axes>"
      ]
     },
     "metadata": {
      "needs_background": "light"
     },
     "output_type": "display_data"
    },
    {
     "data": {
      "image/png": "[encoded data removed]",
      "text/plain": [
       "<Figure size 432x288 with 1 Axes>"
      ]
     },
     "metadata": {
      "needs_background": "light"
     },
     "output_type": "display_data"
    },
    {
     "data": {
      "image/png": "[encoded data removed]",
      "text/plain": [
       "<Figure size 432x288 with 1 Axes>"
      ]
     },
     "metadata": {
      "needs_background": "light"
     },
     "output_type": "display_data"
    },
    {
     "data": {
      "image/png": "[encoded data removed]",
      "text/plain": [
       "<Figure size 432x288 with 1 Axes>"
      ]
     },
     "metadata": {
      "needs_background": "light"
     },
     "output_type": "display_data"
    },
    {
     "data": {
      "image/png": "[encoded data removed]",
      "text/plain": [
       "<Figure size 432x288 with 1 Axes>"
      ]
     },
     "metadata": {
      "needs_background": "light"
     },
     "output_type": "display_data"
    },
    {
     "data": {
      "image/png": "[encoded data removed]",
      "text/plain": [
       "<Figure size 432x288 with 1 Axes>"
      ]
     },
     "metadata": {
      "needs_background": "light"
     },
     "output_type": "display_data"
    }
   ],
   "source": [
    "# Visualizing variable distributions\n",
    "for variable in CONTINUOUS + COUNT:\n",
    "    distributions(variable, app_chef_m, y = None, hue = None, orient = 'h' )"
   ]
  },
  {
   "cell_type": "markdown",
   "metadata": {},
   "source": [
    "##  Feature Engineering "
   ]
  },
  {
   "cell_type": "markdown",
   "metadata": {},
   "source": [
    "### Anomaly Detection: Outliers  "
   ]
  },
  {
   "cell_type": "code",
   "execution_count": 13,
   "metadata": {},
   "outputs": [],
   "source": [
    "\n",
    "app_chef['out_weekly_plans'] = 0\n",
    "app_chef['out_avg_time_per_site_visit']=0\n",
    "app_chef['out_cancellations_before_noon']=0\n",
    "app_chef['out_cancellations_after_noon']=0\n",
    "app_chef['out_cancellations_after_noon']=0\n",
    "app_chef['out_avg_prep_vid_time']=0\n",
    "app_chef['out_largest_order_size']=0\n",
    "app_chef['out_total_meals_ordered']=0\n",
    "app_chef['out_avg_clicks_per_visit']=0\n",
    "app_chef['out_unique_meals_purchased']=0\n",
    "app_chef['out_contacts_w_customer_service']=0\n",
    "app_chef['out_early_deliveries']=0\n",
    "app_chef['out_late_deliveries']=0\n",
    "app_chef['out_master_classes_attended']=0\n",
    "app_chef['out_median_meal_rating']=0\n",
    "app_chef['out_total_photos_viewed']=0\n",
    "\n",
    "\n",
    "\n",
    "\n",
    "\n",
    "for index, value in app_chef.iterrows():\n",
    "    if app_chef.loc[index, 'WEEKLY_PLAN'] > 30:\n",
    "        app_chef.loc[index, 'out_weekly_plans'] = 1\n",
    "  \n",
    "\n",
    "    # Avg_time_per_site_visit\n",
    "    if app_chef.loc[index,'AVG_TIME_PER_SITE_VISIT'] > 200:\n",
    "        app_chef.loc[index, 'out_avg_time_per_site_visit'] = 1\n",
    "        \n",
    "    #cancellations_before_noon\n",
    "    if app_chef.loc[index,'CANCELLATIONS_BEFORE_NOON'] > 5:\n",
    "        app_chef.loc[index, 'out_cancellations_before_noon'] = 1\n",
    "        \n",
    "    #cancellations_after_noon\n",
    "    if app_chef.loc[index,'CANCELLATIONS_AFTER_NOON'] > 2:\n",
    "        app_chef.loc[index, 'out_cancellations_after_noon'] = 1\n",
    "     \n",
    "    #avg_prep_vid_time\n",
    "    if app_chef.loc[index,'AVG_PREP_VID_TIME'] > 250:\n",
    "        app_chef.loc[index, 'out_avg_prep_vid_time'] = 1\n",
    "     \n",
    "    #largest_order_size\n",
    "    if app_chef.loc[index,'LARGEST_ORDER_SIZE'] > 8:\n",
    "        app_chef.loc[index, 'out_largest_order_size'] = 1\n",
    "        \n",
    "        \n",
    "    #total_meals_ordered\n",
    "    if app_chef.loc[index,'TOTAL_MEALS_ORDERED'] > 195:\n",
    "        app_chef.loc[index, 'out_total_meals_ordered'] = 1\n",
    "        \n",
    "        \n",
    "    #avg_clicks_per_visit\n",
    "    if app_chef.loc[index,'AVG_CLICKS_PER_VISIT'] < 8:\n",
    "        app_chef.loc[index, 'out_avg_clicks_per_visit'] = 1   \n",
    "\n",
    "        \n",
    "    #unique_meals_purchased   \n",
    "    if app_chef.loc[index,'UNIQUE_MEALS_PURCH'] > 13:\n",
    "        app_chef.loc[index, 'out_unique_meals_purchased'] = 1   \n",
    "        \n",
    "    #contacts_w_customer_service\n",
    "    if app_chef.loc[index,'CONTACTS_W_CUSTOMER_SERVICE'] > 12:\n",
    "        app_chef.loc[index, 'out_contacts_w_customer_service'] = 1 \n",
    "        \n",
    "    \n",
    "    #early_deliveries   \n",
    "    if app_chef.loc[index,'EARLY_DELIVERIES'] > 7:\n",
    "        app_chef.loc[index, 'out_early_deliveries'] = 1 \n",
    "            \n",
    "            \n",
    "    #late_deliveries\n",
    "    if app_chef.loc[index,'LATE_DELIVERIES'] > 8:\n",
    "        app_chef.loc[index, 'out_late_deliveries'] = 1 \n",
    "        \n",
    "        \n",
    "    #master_classes_attended\n",
    "    if app_chef.loc[index,'MASTER_CLASSES_ATTENDED'] > 2:\n",
    "        app_chef.loc[index, 'out_master_classes_attended'] = 1 \n",
    "        \n",
    "        \n",
    "    #median_meal_rating\n",
    "    if app_chef.loc[index,'MEDIAN_MEAL_RATING'] > 4:\n",
    "        app_chef.loc[index, 'out_median_meal_rating'] = 1 \n",
    "        \n",
    "    #total_photos_viewed   \n",
    "    if app_chef.loc[index,'TOTAL_PHOTOS_VIEWED'] > 400:\n",
    "        app_chef.loc[index, 'out_total_photos_viewed'] = 1  \n",
    "      \n",
    "    \n",
    "    \n",
    "\n"
   ]
  },
  {
   "cell_type": "markdown",
   "metadata": {},
   "source": [
    "###  Categorical variables: Email domain "
   ]
  },
  {
   "cell_type": "code",
   "execution_count": 14,
   "metadata": {},
   "outputs": [
    {
     "data": {
      "text/plain": [
       "PERSONAL        861\n",
       "PROFESSIONAL    696\n",
       "JUNK            389\n",
       "Name: email_domain_group, dtype: int64"
      ]
     },
     "execution_count": 14,
     "metadata": {},
     "output_type": "execute_result"
    }
   ],
   "source": [
    "#Categorical variables: Email domains \n",
    "# STEP 1: splitting personal emails\n",
    "\n",
    "# placeholder list\n",
    "placeholder_lst = []\n",
    "\n",
    "# looping over each email address\n",
    "for index, col in app_chef.iterrows():\n",
    "    \n",
    "    # splitting email domain at '@'\n",
    "    split_email = app_chef.loc[index, 'EMAIL'].split(sep = '@')\n",
    "    \n",
    "    # appending placeholder_lst with the results\n",
    "    placeholder_lst.append(split_email)\n",
    "    \n",
    "\n",
    "# converting placeholder_lst into a DataFrame \n",
    "email_df = pd.DataFrame(placeholder_lst)\n",
    "\n",
    "\n",
    "# displaying the results\n",
    "email_df\n",
    "\n",
    "\n",
    "\n",
    "# STEP 2: concatenating with original DataFrame\n",
    "\n",
    "# safety measure in case of multiple concatenations\n",
    "app_chef = pd.read_excel(file)\n",
    "\n",
    "\n",
    "# renaming column to concatenate\n",
    "email_df.columns = [ '0' , 'EMAIL_DOMAIN' ]\n",
    "\n",
    "\n",
    "# concatenating personal_email_domain with friends DataFrame\n",
    "app_chef = pd.concat([  app_chef, email_df['EMAIL_DOMAIN']  ],\n",
    "                   axis = 1)\n",
    "\n",
    "\n",
    "# printing value counts of personal_email_domain\n",
    "app_chef.loc[ : ,'EMAIL_DOMAIN'].value_counts()\n",
    "\n",
    "\n",
    "#Aggregating the email domains into personal and professional and junk groups\n",
    "# email domain types\n",
    "professional_email_domains = ['@mmm.com', '@amex.com',\n",
    "                              '@apple.com', '@boeing.com',\n",
    "                              '@caterpillar.com', '@chevron.com',\n",
    "                              '@cisco.com', '@cocacola.com', \n",
    "                              '@disney.com', '@dupont.com',\n",
    "                              '@exxon.com', '@ge.org',\n",
    "                              '@goldmansacs.com', '@homedepot.com',\n",
    "                              '@ibm.com','@intel.com',\n",
    "                              '@jnj.com', '@jpmorgan.com',\n",
    "                              '@mcdonalds.com', '@merck.com',\n",
    "                              '@microsoft.com', '@nike.com',\n",
    "                              '@pfizer.com', '@pg.com',\n",
    "                              '@travelers.com', '@unitedtech.com',\n",
    "                              '@unitedhealth.com', '@verizon.com',\n",
    "                              '@visa.com', '@walmart.com']\n",
    "\n",
    "personal_email_domains  = ['@gmail.com', '@yahoo.com', '@protonmail.com']\n",
    "\n",
    "junk_email_domains = ['@me.com', '@aol.com',\n",
    "                      '@hotmail.com', '@live.com',\n",
    "                      '@msn.com', '@passport.com']\n",
    "\n",
    "\n",
    "# placeholder list\n",
    "placeholder_lst = []\n",
    "\n",
    "\n",
    "# looping to group observations by domain type\n",
    "for domain in app_chef['EMAIL_DOMAIN']:\n",
    "        if '@' + domain in professional_email_domains:\n",
    "            placeholder_lst.append('PROFESSIONAL')\n",
    "            \n",
    "        elif '@' + domain in personal_email_domains:\n",
    "                placeholder_lst.append('PERSONAL')\n",
    "            \n",
    "        elif '@' + domain in junk_email_domains:\n",
    "                placeholder_lst.append('JUNK')\n",
    "            \n",
    "        else:\n",
    "            print('Unknown')\n",
    "\n",
    "\n",
    "# concatenating with original DataFrame\n",
    "app_chef['email_domain_group'] = pd.Series(placeholder_lst)\n",
    "\n",
    "\n",
    "# checking results\n",
    "app_chef['email_domain_group'].value_counts()\n",
    "\n",
    "\n",
    "\n",
    "\n"
   ]
  },
  {
   "cell_type": "markdown",
   "metadata": {},
   "source": [
    "### Visualization: Email domain group"
   ]
  },
  {
   "cell_type": "code",
   "execution_count": 18,
   "metadata": {},
   "outputs": [
    {
     "data": {
      "text/plain": [
       "Text(0, 0.5, 'Frequency of Subscription')"
      ]
     },
     "execution_count": 18,
     "metadata": {},
     "output_type": "execute_result"
    },
    {
     "data": {
      "image/png": "[encoded data removed]",
      "text/plain": [
       "<Figure size 432x288 with 1 Axes>"
      ]
     },
     "metadata": {
      "needs_background": "light"
     },
     "output_type": "display_data"
    }
   ],
   "source": [
    "# Understanding if email domain group will be a good predictor of the outcome  \n",
    "pd.crosstab(app_chef.email_domain_group, app_chef.CROSS_SELL_SUCCESS).plot(kind = 'bar')\n",
    "plt.title('Success from Email Domain')\n",
    "plt.xlabel('Email Domain')\n",
    "plt.ylabel('Frequency of Subscription')\n"
   ]
  },
  {
   "cell_type": "markdown",
   "metadata": {},
   "source": [
    "From the diagram above, email domain groups may be a good predictor of the outcome "
   ]
  },
  {
   "cell_type": "code",
   "execution_count": 15,
   "metadata": {},
   "outputs": [
    {
     "data": {
      "text/html": [
       "<div>\n",
       "<style scoped>\n",
       "    .dataframe tbody tr th:only-of-type {\n",
       "        vertical-align: middle;\n",
       "    }\n",
       "\n",
       "    .dataframe tbody tr th {\n",
       "        vertical-align: top;\n",
       "    }\n",
       "\n",
       "    .dataframe thead th {\n",
       "        text-align: right;\n",
       "    }\n",
       "</style>\n",
       "<table border=\"1\" class=\"dataframe\">\n",
       "  <thead>\n",
       "    <tr style=\"text-align: right;\">\n",
       "      <th></th>\n",
       "      <th>REVENUE</th>\n",
       "      <th>CROSS_SELL_SUCCESS</th>\n",
       "      <th>NAME</th>\n",
       "      <th>FIRST_NAME</th>\n",
       "      <th>FAMILY_NAME</th>\n",
       "      <th>TOTAL_MEALS_ORDERED</th>\n",
       "      <th>UNIQUE_MEALS_PURCH</th>\n",
       "      <th>CONTACTS_W_CUSTOMER_SERVICE</th>\n",
       "      <th>PRODUCT_CATEGORIES_VIEWED</th>\n",
       "      <th>AVG_TIME_PER_SITE_VISIT</th>\n",
       "      <th>MOBILE_NUMBER</th>\n",
       "      <th>CANCELLATIONS_BEFORE_NOON</th>\n",
       "      <th>CANCELLATIONS_AFTER_NOON</th>\n",
       "      <th>TASTES_AND_PREFERENCES</th>\n",
       "      <th>PC_LOGINS</th>\n",
       "      <th>MOBILE_LOGINS</th>\n",
       "      <th>WEEKLY_PLAN</th>\n",
       "      <th>EARLY_DELIVERIES</th>\n",
       "      <th>LATE_DELIVERIES</th>\n",
       "      <th>PACKAGE_LOCKER</th>\n",
       "      <th>REFRIGERATED_LOCKER</th>\n",
       "      <th>AVG_PREP_VID_TIME</th>\n",
       "      <th>LARGEST_ORDER_SIZE</th>\n",
       "      <th>MASTER_CLASSES_ATTENDED</th>\n",
       "      <th>MEDIAN_MEAL_RATING</th>\n",
       "      <th>AVG_CLICKS_PER_VISIT</th>\n",
       "      <th>TOTAL_PHOTOS_VIEWED</th>\n",
       "      <th>JUNK</th>\n",
       "      <th>PERSONAL</th>\n",
       "      <th>PROFESSIONAL</th>\n",
       "    </tr>\n",
       "  </thead>\n",
       "  <tbody>\n",
       "    <tr>\n",
       "      <th>0</th>\n",
       "      <td>393.0</td>\n",
       "      <td>1</td>\n",
       "      <td>Saathos</td>\n",
       "      <td>Saathos</td>\n",
       "      <td>Saathos</td>\n",
       "      <td>14</td>\n",
       "      <td>6</td>\n",
       "      <td>12</td>\n",
       "      <td>10</td>\n",
       "      <td>48.00</td>\n",
       "      <td>1</td>\n",
       "      <td>3</td>\n",
       "      <td>1</td>\n",
       "      <td>1</td>\n",
       "      <td>5</td>\n",
       "      <td>2</td>\n",
       "      <td>0</td>\n",
       "      <td>0</td>\n",
       "      <td>2</td>\n",
       "      <td>0</td>\n",
       "      <td>0</td>\n",
       "      <td>33.4</td>\n",
       "      <td>1</td>\n",
       "      <td>0</td>\n",
       "      <td>1</td>\n",
       "      <td>17</td>\n",
       "      <td>0</td>\n",
       "      <td>0</td>\n",
       "      <td>0</td>\n",
       "      <td>1</td>\n",
       "    </tr>\n",
       "    <tr>\n",
       "      <th>1</th>\n",
       "      <td>1365.0</td>\n",
       "      <td>1</td>\n",
       "      <td>Alysanne Osgrey</td>\n",
       "      <td>Alysanne</td>\n",
       "      <td>Osgrey</td>\n",
       "      <td>87</td>\n",
       "      <td>3</td>\n",
       "      <td>8</td>\n",
       "      <td>8</td>\n",
       "      <td>40.35</td>\n",
       "      <td>1</td>\n",
       "      <td>0</td>\n",
       "      <td>0</td>\n",
       "      <td>1</td>\n",
       "      <td>5</td>\n",
       "      <td>1</td>\n",
       "      <td>12</td>\n",
       "      <td>0</td>\n",
       "      <td>2</td>\n",
       "      <td>0</td>\n",
       "      <td>0</td>\n",
       "      <td>84.8</td>\n",
       "      <td>1</td>\n",
       "      <td>0</td>\n",
       "      <td>3</td>\n",
       "      <td>13</td>\n",
       "      <td>170</td>\n",
       "      <td>0</td>\n",
       "      <td>0</td>\n",
       "      <td>1</td>\n",
       "    </tr>\n",
       "    <tr>\n",
       "      <th>2</th>\n",
       "      <td>800.0</td>\n",
       "      <td>1</td>\n",
       "      <td>Edwyd Fossoway</td>\n",
       "      <td>Edwyd</td>\n",
       "      <td>Fossoway</td>\n",
       "      <td>15</td>\n",
       "      <td>7</td>\n",
       "      <td>11</td>\n",
       "      <td>5</td>\n",
       "      <td>19.77</td>\n",
       "      <td>1</td>\n",
       "      <td>3</td>\n",
       "      <td>0</td>\n",
       "      <td>1</td>\n",
       "      <td>6</td>\n",
       "      <td>1</td>\n",
       "      <td>1</td>\n",
       "      <td>0</td>\n",
       "      <td>1</td>\n",
       "      <td>0</td>\n",
       "      <td>0</td>\n",
       "      <td>63.0</td>\n",
       "      <td>1</td>\n",
       "      <td>0</td>\n",
       "      <td>2</td>\n",
       "      <td>16</td>\n",
       "      <td>0</td>\n",
       "      <td>0</td>\n",
       "      <td>0</td>\n",
       "      <td>1</td>\n",
       "    </tr>\n",
       "    <tr>\n",
       "      <th>3</th>\n",
       "      <td>600.0</td>\n",
       "      <td>1</td>\n",
       "      <td>Eleyna Westerling</td>\n",
       "      <td>Eleyna</td>\n",
       "      <td>Westerling</td>\n",
       "      <td>13</td>\n",
       "      <td>6</td>\n",
       "      <td>11</td>\n",
       "      <td>5</td>\n",
       "      <td>90.00</td>\n",
       "      <td>1</td>\n",
       "      <td>2</td>\n",
       "      <td>0</td>\n",
       "      <td>1</td>\n",
       "      <td>6</td>\n",
       "      <td>1</td>\n",
       "      <td>14</td>\n",
       "      <td>0</td>\n",
       "      <td>3</td>\n",
       "      <td>0</td>\n",
       "      <td>0</td>\n",
       "      <td>43.8</td>\n",
       "      <td>1</td>\n",
       "      <td>0</td>\n",
       "      <td>2</td>\n",
       "      <td>14</td>\n",
       "      <td>0</td>\n",
       "      <td>0</td>\n",
       "      <td>0</td>\n",
       "      <td>1</td>\n",
       "    </tr>\n",
       "    <tr>\n",
       "      <th>4</th>\n",
       "      <td>1490.0</td>\n",
       "      <td>1</td>\n",
       "      <td>Elyn Norridge</td>\n",
       "      <td>Elyn</td>\n",
       "      <td>Norridge</td>\n",
       "      <td>47</td>\n",
       "      <td>8</td>\n",
       "      <td>6</td>\n",
       "      <td>10</td>\n",
       "      <td>40.38</td>\n",
       "      <td>1</td>\n",
       "      <td>0</td>\n",
       "      <td>0</td>\n",
       "      <td>0</td>\n",
       "      <td>5</td>\n",
       "      <td>1</td>\n",
       "      <td>5</td>\n",
       "      <td>0</td>\n",
       "      <td>8</td>\n",
       "      <td>0</td>\n",
       "      <td>0</td>\n",
       "      <td>84.8</td>\n",
       "      <td>1</td>\n",
       "      <td>1</td>\n",
       "      <td>3</td>\n",
       "      <td>12</td>\n",
       "      <td>205</td>\n",
       "      <td>0</td>\n",
       "      <td>0</td>\n",
       "      <td>1</td>\n",
       "    </tr>\n",
       "    <tr>\n",
       "      <th>5</th>\n",
       "      <td>1550.0</td>\n",
       "      <td>1</td>\n",
       "      <td>Genna Lannister</td>\n",
       "      <td>Genna</td>\n",
       "      <td>Lannister</td>\n",
       "      <td>36</td>\n",
       "      <td>2</td>\n",
       "      <td>9</td>\n",
       "      <td>1</td>\n",
       "      <td>190.18</td>\n",
       "      <td>1</td>\n",
       "      <td>4</td>\n",
       "      <td>0</td>\n",
       "      <td>1</td>\n",
       "      <td>4</td>\n",
       "      <td>1</td>\n",
       "      <td>0</td>\n",
       "      <td>0</td>\n",
       "      <td>3</td>\n",
       "      <td>1</td>\n",
       "      <td>0</td>\n",
       "      <td>78.8</td>\n",
       "      <td>1</td>\n",
       "      <td>1</td>\n",
       "      <td>3</td>\n",
       "      <td>12</td>\n",
       "      <td>0</td>\n",
       "      <td>0</td>\n",
       "      <td>1</td>\n",
       "      <td>0</td>\n",
       "    </tr>\n",
       "  </tbody>\n",
       "</table>\n",
       "</div>"
      ],
      "text/plain": [
       "   REVENUE  CROSS_SELL_SUCCESS               NAME FIRST_NAME FAMILY_NAME  TOTAL_MEALS_ORDERED  UNIQUE_MEALS_PURCH  CONTACTS_W_CUSTOMER_SERVICE  PRODUCT_CATEGORIES_VIEWED  AVG_TIME_PER_SITE_VISIT  MOBILE_NUMBER  CANCELLATIONS_BEFORE_NOON  CANCELLATIONS_AFTER_NOON  TASTES_AND_PREFERENCES  PC_LOGINS  MOBILE_LOGINS  WEEKLY_PLAN  EARLY_DELIVERIES  LATE_DELIVERIES  PACKAGE_LOCKER  REFRIGERATED_LOCKER  AVG_PREP_VID_TIME  LARGEST_ORDER_SIZE  MASTER_CLASSES_ATTENDED  MEDIAN_MEAL_RATING  AVG_CLICKS_PER_VISIT  TOTAL_PHOTOS_VIEWED  JUNK  PERSONAL  PROFESSIONAL\n",
       "0    393.0                   1            Saathos    Saathos     Saathos                   14                   6                           12                         10                    48.00              1                          3                         1                       1          5              2            0                 0                2               0                    0               33.4                   1                        0                   1                    17                    0     0         0             1\n",
       "1   1365.0                   1    Alysanne Osgrey   Alysanne      Osgrey                   87                   3                            8                          8                    40.35              1                          0                         0                       1          5              1           12                 0                2               0                    0               84.8                   1                        0                   3                    13                  170     0         0             1\n",
       "2    800.0                   1     Edwyd Fossoway      Edwyd    Fossoway                   15                   7                           11                          5                    19.77              1                          3                         0                       1          6              1            1                 0                1               0                    0               63.0                   1                        0                   2                    16                    0     0         0             1\n",
       "3    600.0                   1  Eleyna Westerling     Eleyna  Westerling                   13                   6                           11                          5                    90.00              1                          2                         0                       1          6              1           14                 0                3               0                    0               43.8                   1                        0                   2                    14                    0     0         0             1\n",
       "4   1490.0                   1      Elyn Norridge       Elyn    Norridge                   47                   8                            6                         10                    40.38              1                          0                         0                       0          5              1            5                 0                8               0                    0               84.8                   1                        1                   3                    12                  205     0         0             1\n",
       "5   1550.0                   1    Genna Lannister      Genna   Lannister                   36                   2                            9                          1                   190.18              1                          4                         0                       1          4              1            0                 0                3               1                    0               78.8                   1                        1                   3                    12                    0     0         1             0"
      ]
     },
     "execution_count": 15,
     "metadata": {},
     "output_type": "execute_result"
    }
   ],
   "source": [
    "# STEP3: One-Hot Encoding\n",
    "one_hot_email_domain = pd.get_dummies(app_chef['email_domain_group'])\n",
    "\n",
    "# dropping original columns and keeping the encoded ones \n",
    "app_chef = app_chef.drop(['email_domain_group','EMAIL',\n",
    "                                  'EMAIL_DOMAIN'], axis = 1)\n",
    "\n",
    "\n",
    "# Adding encoded columns to dataset \n",
    "app_chef = app_chef.join(one_hot_email_domain)\n",
    "\n",
    "# Just checking\n",
    "app_chef.head(n = 6)"
   ]
  },
  {
   "cell_type": "markdown",
   "metadata": {},
   "source": [
    "###  Creating Dummies "
   ]
  },
  {
   "cell_type": "code",
   "execution_count": 16,
   "metadata": {},
   "outputs": [
    {
     "data": {
      "text/html": [
       "<div>\n",
       "<style scoped>\n",
       "    .dataframe tbody tr th:only-of-type {\n",
       "        vertical-align: middle;\n",
       "    }\n",
       "\n",
       "    .dataframe tbody tr th {\n",
       "        vertical-align: top;\n",
       "    }\n",
       "\n",
       "    .dataframe thead th {\n",
       "        text-align: right;\n",
       "    }\n",
       "</style>\n",
       "<table border=\"1\" class=\"dataframe\">\n",
       "  <thead>\n",
       "    <tr style=\"text-align: right;\">\n",
       "      <th></th>\n",
       "      <th>has_cancelled</th>\n",
       "      <th>has_locker</th>\n",
       "    </tr>\n",
       "  </thead>\n",
       "  <tbody>\n",
       "    <tr>\n",
       "      <th>0</th>\n",
       "      <td>1</td>\n",
       "      <td>0</td>\n",
       "    </tr>\n",
       "    <tr>\n",
       "      <th>1</th>\n",
       "      <td>0</td>\n",
       "      <td>0</td>\n",
       "    </tr>\n",
       "    <tr>\n",
       "      <th>2</th>\n",
       "      <td>1</td>\n",
       "      <td>0</td>\n",
       "    </tr>\n",
       "    <tr>\n",
       "      <th>3</th>\n",
       "      <td>1</td>\n",
       "      <td>0</td>\n",
       "    </tr>\n",
       "    <tr>\n",
       "      <th>4</th>\n",
       "      <td>0</td>\n",
       "      <td>0</td>\n",
       "    </tr>\n",
       "  </tbody>\n",
       "</table>\n",
       "</div>"
      ],
      "text/plain": [
       "   has_cancelled  has_locker\n",
       "0              1           0\n",
       "1              0           0\n",
       "2              1           0\n",
       "3              1           0\n",
       "4              0           0"
      ]
     },
     "execution_count": 16,
     "metadata": {},
     "output_type": "execute_result"
    }
   ],
   "source": [
    "# Dummy variable for cancellations and locker \n",
    "app_chef['has_cancelled'] = 0\n",
    "app_chef['has_locker'] = 0\n",
    "\n",
    "\n",
    "for index, value in app_chef.iterrows():\n",
    "    # Cancellations before noon \n",
    "    if app_chef.loc [index, 'CANCELLATIONS_BEFORE_NOON'] > 0:\n",
    "        app_chef.loc [index, 'has_cancelled'] = 1\n",
    "   \n",
    "    # Cancellations after noon\n",
    "    if app_chef.loc [index, 'CANCELLATIONS_AFTER_NOON'] > 0:\n",
    "        app_chef.loc [index, 'has_cancelled'] = 1\n",
    "    \n",
    "    # Package locker\n",
    "    if app_chef.loc [index, 'PACKAGE_LOCKER'] > 0:\n",
    "        app_chef.loc [index, 'has_locker'] = 1\n",
    "        \n",
    "    # Refrigerated locker \n",
    "    if app_chef.loc [index, 'REFRIGERATED_LOCKER'] > 0:\n",
    "        app_chef.loc [index, 'has_locker'] = 1\n",
    "    \n",
    "    \n",
    "\n",
    "# Just checking \n",
    "app_chef[['has_cancelled', 'has_locker']].head()"
   ]
  },
  {
   "cell_type": "code",
   "execution_count": 41,
   "metadata": {},
   "outputs": [
    {
     "data": {
      "text/plain": [
       "Text(0, 0.5, 'Frequency of Subscription')"
      ]
     },
     "execution_count": 41,
     "metadata": {},
     "output_type": "execute_result"
    },
    {
     "data": {
      "image/png": "[encoded data removed]",
      "text/plain": [
       "<Figure size 432x288 with 1 Axes>"
      ]
     },
     "metadata": {
      "needs_background": "light"
     },
     "output_type": "display_data"
    }
   ],
   "source": [
    "# Understanding if registering with a phone number will be a good predictor of the outcome  \n",
    "pd.crosstab(app_chef.has_locker , app_chef.CROSS_SELL_SUCCESS).plot(kind = 'bar')\n",
    "plt.title('Success from having a locker')\n",
    "plt.xlabel('Has a locker Yes = 1, No = 0')\n",
    "plt.ylabel('Frequency of Subscription')\n",
    "#PACKAGE_LOCKER                  \n",
    "#REFRIGERATED_LOCKER "
   ]
  },
  {
   "cell_type": "markdown",
   "metadata": {},
   "source": [
    "From the diagram above, having a locker or not may be a good predictor of the outcome "
   ]
  },
  {
   "cell_type": "code",
   "execution_count": 44,
   "metadata": {},
   "outputs": [
    {
     "data": {
      "text/plain": [
       "Text(0, 0.5, 'Frequency of Subscription')"
      ]
     },
     "execution_count": 44,
     "metadata": {},
     "output_type": "execute_result"
    },
    {
     "data": {
      "image/png": "[encoded data removed]",
      "text/plain": [
       "<Figure size 432x288 with 1 Axes>"
      ]
     },
     "metadata": {
      "needs_background": "light"
     },
     "output_type": "display_data"
    }
   ],
   "source": [
    "# Understanding if registering with a phone number will be a good predictor of the outcome  \n",
    "pd.crosstab(app_chef.has_cancelled , app_chef.CROSS_SELL_SUCCESS).plot(kind = 'bar')\n",
    "plt.title('Success from cancellations')\n",
    "plt.xlabel('Has Canceled  Yes = 1, No = 0')\n",
    "plt.ylabel('Frequency of Subscription')\n",
    "# Cancellations before noon                  \n",
    "# Cancellations after noon"
   ]
  },
  {
   "cell_type": "markdown",
   "metadata": {},
   "source": [
    "From the diagram above, having an order canceled or not may be a good predictor of the outcome"
   ]
  },
  {
   "cell_type": "markdown",
   "metadata": {},
   "source": [
    "#### On Total Meals Purchased  "
   ]
  },
  {
   "cell_type": "code",
   "execution_count": 17,
   "metadata": {},
   "outputs": [],
   "source": [
    "# Average spending per customer \n",
    "app_chef['av_spending'] = (app_chef['REVENUE']\n",
    "                           /app_chef['TOTAL_MEALS_ORDERED']).round()"
   ]
  },
  {
   "cell_type": "markdown",
   "metadata": {},
   "source": [
    "#### On Unique Meals Purchased  "
   ]
  },
  {
   "cell_type": "code",
   "execution_count": 18,
   "metadata": {},
   "outputs": [],
   "source": [
    "# Average spending per customer\n",
    "app_chef['av_spending_unique'] = (app_chef['REVENUE']/\n",
    "                           app_chef['UNIQUE_MEALS_PURCH']).round()"
   ]
  },
  {
   "cell_type": "markdown",
   "metadata": {},
   "source": [
    "## Corelation Analysis  "
   ]
  },
  {
   "cell_type": "code",
   "execution_count": 19,
   "metadata": {},
   "outputs": [
    {
     "data": {
      "text/plain": [
       "CROSS_SELL_SUCCESS             1.00\n",
       "PROFESSIONAL                   0.19\n",
       "CANCELLATIONS_BEFORE_NOON      0.16\n",
       "has_cancelled                  0.10\n",
       "MOBILE_NUMBER                  0.10\n",
       "TASTES_AND_PREFERENCES         0.08\n",
       "REFRIGERATED_LOCKER            0.07\n",
       "PC_LOGINS                      0.04\n",
       "PACKAGE_LOCKER                 0.04\n",
       "PERSONAL                       0.04\n",
       "MASTER_CLASSES_ATTENDED        0.04\n",
       "CONTACTS_W_CUSTOMER_SERVICE    0.04\n",
       "has_locker                     0.04\n",
       "MEDIAN_MEAL_RATING             0.03\n",
       "AVG_PREP_VID_TIME              0.03\n",
       "EARLY_DELIVERIES               0.02\n",
       "LARGEST_ORDER_SIZE             0.02\n",
       "AVG_TIME_PER_SITE_VISIT        0.01\n",
       "TOTAL_PHOTOS_VIEWED            0.01\n",
       "TOTAL_MEALS_ORDERED            0.01\n",
       "LATE_DELIVERIES                0.01\n",
       "REVENUE                        0.00\n",
       "PRODUCT_CATEGORIES_VIEWED      0.00\n",
       "UNIQUE_MEALS_PURCH             0.00\n",
       "WEEKLY_PLAN                   -0.01\n",
       "av_spending                   -0.02\n",
       "av_spending_unique            -0.02\n",
       "AVG_CLICKS_PER_VISIT          -0.04\n",
       "MOBILE_LOGINS                 -0.05\n",
       "CANCELLATIONS_AFTER_NOON      -0.05\n",
       "JUNK                          -0.28\n",
       "Name: CROSS_SELL_SUCCESS, dtype: float64"
      ]
     },
     "execution_count": 19,
     "metadata": {},
     "output_type": "execute_result"
    }
   ],
   "source": [
    "# Pearson Correlation between the response variable (cross_sell_success) and the explanatory variables \n",
    "df_corr = app_chef.corr(method = 'pearson').round(decimals = 2)\n",
    "\n",
    "df_corr['CROSS_SELL_SUCCESS'].sort_values(ascending = False)"
   ]
  },
  {
   "cell_type": "markdown",
   "metadata": {},
   "source": [
    "# Model Building: Logistic Regression "
   ]
  },
  {
   "cell_type": "markdown",
   "metadata": {},
   "source": [
    "### In Statsmodels "
   ]
  },
  {
   "cell_type": "code",
   "execution_count": 20,
   "metadata": {
    "code_folding": []
   },
   "outputs": [
    {
     "name": "stdout",
     "output_type": "stream",
     "text": [
      "REVENUE +\n",
      "TOTAL_MEALS_ORDERED +\n",
      "UNIQUE_MEALS_PURCH +\n",
      "CONTACTS_W_CUSTOMER_SERVICE +\n",
      "PRODUCT_CATEGORIES_VIEWED +\n",
      "AVG_TIME_PER_SITE_VISIT +\n",
      "MOBILE_NUMBER +\n",
      "CANCELLATIONS_BEFORE_NOON +\n",
      "CANCELLATIONS_AFTER_NOON +\n",
      "TASTES_AND_PREFERENCES +\n",
      "PC_LOGINS +\n",
      "MOBILE_LOGINS +\n",
      "WEEKLY_PLAN +\n",
      "EARLY_DELIVERIES +\n",
      "LATE_DELIVERIES +\n",
      "PACKAGE_LOCKER +\n",
      "REFRIGERATED_LOCKER +\n",
      "AVG_PREP_VID_TIME +\n",
      "LARGEST_ORDER_SIZE +\n",
      "MASTER_CLASSES_ATTENDED +\n",
      "MEDIAN_MEAL_RATING +\n",
      "AVG_CLICKS_PER_VISIT +\n",
      "TOTAL_PHOTOS_VIEWED +\n",
      "JUNK +\n",
      "PERSONAL +\n",
      "PROFESSIONAL +\n",
      "has_cancelled +\n",
      "has_locker +\n",
      "av_spending +\n",
      "av_spending_unique +\n"
     ]
    }
   ],
   "source": [
    "# Preparing Explanatory and Response Data\n",
    "\n",
    "# declaring response variable\n",
    "app_chef_target = app_chef.loc[ : , 'CROSS_SELL_SUCCESS']\n",
    "\n",
    "# dropping REVENUE, NAME, FIRST_NAME, FAMILY_NAME and EMAIL from the explanatory variable set\n",
    "app_chef_data = app_chef.drop(['CROSS_SELL_SUCCESS','NAME', 'FIRST_NAME',\n",
    "                                                      'FAMILY_NAME'], axis = 1)\n",
    "\n",
    "\n",
    "# formatting each explanatory variable for statsmodels\n",
    "for val in app_chef_data:\n",
    "    print(val, '+')"
   ]
  },
  {
   "cell_type": "code",
   "execution_count": 21,
   "metadata": {},
   "outputs": [],
   "source": [
    "# train-test split with stratification\n",
    "x_train, x_test, y_train, y_test = train_test_split(\n",
    "            app_chef_data,\n",
    "            app_chef_target,\n",
    "            test_size    = 0.25,\n",
    "            random_state = 219,\n",
    "            stratify     = app_chef_target)                   \n",
    "\n",
    "\n",
    "# merging training data for statsmodels\n",
    "app_chef_train = pd.concat([x_train, y_train], axis = 1)"
   ]
  },
  {
   "cell_type": "code",
   "execution_count": 22,
   "metadata": {},
   "outputs": [
    {
     "name": "stdout",
     "output_type": "stream",
     "text": [
      "\n",
      "\n",
      "Response Variable Proportions (Training Set)\n",
      "--------------------------------------------\n",
      "1    0.68\n",
      "0    0.32\n",
      "Name: CROSS_SELL_SUCCESS, dtype: float64\n",
      "\n",
      "\n",
      "\n",
      "Response Variable Proportions (Testing Set)\n",
      "--------------------------------------------\n",
      "1    0.68\n",
      "0    0.32\n",
      "Name: CROSS_SELL_SUCCESS, dtype: float64\n",
      "\n"
     ]
    }
   ],
   "source": [
    "# Just Checking \n",
    "print(f\"\"\"\n",
    "\n",
    "Response Variable Proportions (Training Set)\n",
    "--------------------------------------------\n",
    "{y_train.value_counts(normalize = True).round(decimals = 2)}\n",
    "\n",
    "\n",
    "\n",
    "Response Variable Proportions (Testing Set)\n",
    "--------------------------------------------\n",
    "{y_test.value_counts(normalize = True).round(decimals = 2)}\n",
    "\"\"\")\n"
   ]
  },
  {
   "cell_type": "markdown",
   "metadata": {},
   "source": [
    "#### Logistic Regression with Original Features and Engineered Features  "
   ]
  },
  {
   "cell_type": "code",
   "execution_count": 60,
   "metadata": {
    "scrolled": false
   },
   "outputs": [
    {
     "name": "stdout",
     "output_type": "stream",
     "text": [
      "Warning: Maximum number of iterations has been exceeded.\n",
      "         Current function value: 0.539625\n",
      "         Iterations: 35\n",
      "                           Logit Regression Results                           \n",
      "==============================================================================\n",
      "Dep. Variable:     CROSS_SELL_SUCCESS   No. Observations:                 1459\n",
      "Model:                          Logit   Df Residuals:                     1416\n",
      "Method:                           MLE   Df Model:                           42\n",
      "Date:                Tue, 26 Jan 2021   Pseudo R-squ.:                  0.1407\n",
      "Time:                        20:48:12   Log-Likelihood:                -787.31\n",
      "converged:                      False   LL-Null:                       -916.19\n",
      "Covariance Type:            nonrobust   LLR p-value:                 8.278e-33\n",
      "===================================================================================================\n",
      "                                      coef    std err          z      P>|z|      [0.025      0.975]\n",
      "---------------------------------------------------------------------------------------------------\n",
      "Intercept                          -1.8058      4.710     -0.383      0.701     -11.037       7.426\n",
      "REVENUE                            -0.0002      0.000     -1.083      0.279      -0.000       0.000\n",
      "TOTAL_MEALS_ORDERED                 0.0014      0.003      0.456      0.648      -0.005       0.007\n",
      "UNIQUE_MEALS_PURCH                 -0.0026      0.034     -0.076      0.939      -0.069       0.064\n",
      "CONTACTS_W_CUSTOMER_SERVICE         0.0797      0.034      2.324      0.020       0.012       0.147\n",
      "PRODUCT_CATEGORIES_VIEWED          -0.0195      0.021     -0.943      0.346      -0.060       0.021\n",
      "AVG_TIME_PER_SITE_VISIT             0.0001      0.001      0.114      0.909      -0.002       0.003\n",
      "MOBILE_NUMBER                       0.8971      0.179      5.015      0.000       0.546       1.248\n",
      "CANCELLATIONS_BEFORE_NOON           0.2671        nan        nan        nan         nan         nan\n",
      "CANCELLATIONS_AFTER_NOON           -0.2551        nan        nan        nan         nan         nan\n",
      "TASTES_AND_PREFERENCES              0.3631      0.138      2.640      0.008       0.094       0.633\n",
      "PC_LOGINS                           0.2675      0.109      2.452      0.014       0.054       0.481\n",
      "MOBILE_LOGINS                      -0.1877      0.119     -1.577      0.115      -0.421       0.046\n",
      "EARLY_DELIVERIES                    0.0393      0.034      1.141      0.254      -0.028       0.107\n",
      "LATE_DELIVERIES                     0.0101      0.030      0.335      0.737      -0.049       0.069\n",
      "PACKAGE_LOCKER                      0.0158        nan        nan        nan         nan         nan\n",
      "REFRIGERATED_LOCKER                 0.4163      0.238      1.750      0.080      -0.050       0.882\n",
      "AVG_PREP_VID_TIME                   0.0019      0.003      0.654      0.513      -0.004       0.008\n",
      "LARGEST_ORDER_SIZE                 -0.0245      0.073     -0.337      0.736      -0.167       0.118\n",
      "MASTER_CLASSES_ATTENDED             0.2145      0.121      1.771      0.077      -0.023       0.452\n",
      "MEDIAN_MEAL_RATING                  0.1052      0.172      0.612      0.541      -0.232       0.442\n",
      "AVG_CLICKS_PER_VISIT               -0.0264      0.051     -0.513      0.608      -0.127       0.074\n",
      "TOTAL_PHOTOS_VIEWED              -7.73e-05      0.001     -0.132      0.895      -0.001       0.001\n",
      "JUNK                               -1.6609      4.692     -0.354      0.723     -10.857       7.535\n",
      "PERSONAL                           -0.3496      4.690     -0.075      0.941      -9.542       8.843\n",
      "PROFESSIONAL                        0.2047      4.690      0.044      0.965      -8.988       9.397\n",
      "has_cancelled                       0.0366      0.188      0.195      0.846      -0.332       0.405\n",
      "has_locker                          0.0158        nan        nan        nan         nan         nan\n",
      "Total_Cancellations                 0.0120        nan        nan        nan         nan         nan\n",
      "av_spending                        -0.0040      0.006     -0.640      0.522      -0.016       0.008\n",
      "av_spending_unique              -2.925e-06      0.000     -0.021      0.983      -0.000       0.000\n",
      "out_weekly_plans                    0.3182      0.196      1.623      0.105      -0.066       0.703\n",
      "out_avg_time_per_site_visit         0.1051      0.463      0.227      0.821      -0.803       1.013\n",
      "out_cancellations_before_noon      -0.2035      0.670     -0.303      0.762      -1.517       1.111\n",
      "out_cancellations_after_noon       29.6460   3.43e+06   8.63e-06      1.000   -6.73e+06    6.73e+06\n",
      "out_avg_prep_vid_time               1.3541      0.524      2.584      0.010       0.327       2.381\n",
      "out_largest_order_size             -0.3842      0.619     -0.621      0.535      -1.597       0.829\n",
      "out_total_meals_ordered            -0.9803      0.478     -2.049      0.040      -1.918      -0.043\n",
      "out_avg_clicks_per_visit          -17.8421   2275.438     -0.008      0.994   -4477.618    4441.934\n",
      "out_unique_meals_purchased         -2.0619      1.723     -1.197      0.231      -5.438       1.314\n",
      "out_contacts_w_customer_service    -0.9901      1.445     -0.685      0.493      -3.822       1.842\n",
      "out_early_deliveries                0.4863      0.430      1.132      0.258      -0.356       1.329\n",
      "out_late_deliveries                 0.0019      0.382      0.005      0.996      -0.746       0.750\n",
      "out_master_classes_attended        -2.1747      0.989     -2.200      0.028      -4.112      -0.237\n",
      "out_median_meal_rating             15.6709   2275.437      0.007      0.995   -4444.105    4475.446\n",
      "out_total_photos_viewed            -0.1337      0.385     -0.347      0.728      -0.889       0.621\n",
      "===================================================================================================\n"
     ]
    },
    {
     "name": "stderr",
     "output_type": "stream",
     "text": [
      "C:\\Users\\Dennis\\anaconda3\\lib\\site-packages\\statsmodels\\base\\model.py:566: ConvergenceWarning: Maximum Likelihood optimization failed to converge. Check mle_retvals\n",
      "  warnings.warn(\"Maximum Likelihood optimization failed to \"\n"
     ]
    }
   ],
   "source": [
    "# instantiating a logistic regression model object\n",
    "app_chef_logit = smf.logit(formula   = \"\"\"CROSS_SELL_SUCCESS ~  REVENUE +\n",
    "                                                                TOTAL_MEALS_ORDERED +\n",
    "                                                                UNIQUE_MEALS_PURCH +\n",
    "                                                                CONTACTS_W_CUSTOMER_SERVICE +\n",
    "                                                                PRODUCT_CATEGORIES_VIEWED +\n",
    "                                                                AVG_TIME_PER_SITE_VISIT +\n",
    "                                                                MOBILE_NUMBER +\n",
    "                                                                CANCELLATIONS_BEFORE_NOON +\n",
    "                                                                CANCELLATIONS_AFTER_NOON +\n",
    "                                                                TASTES_AND_PREFERENCES +\n",
    "                                                                PC_LOGINS +\n",
    "                                                                MOBILE_LOGINS +\n",
    "                                                                EARLY_DELIVERIES +\n",
    "                                                                LATE_DELIVERIES +\n",
    "                                                                PACKAGE_LOCKER +\n",
    "                                                                REFRIGERATED_LOCKER +\n",
    "                                                                AVG_PREP_VID_TIME +\n",
    "                                                                LARGEST_ORDER_SIZE +\n",
    "                                                                MASTER_CLASSES_ATTENDED +\n",
    "                                                                MEDIAN_MEAL_RATING +\n",
    "                                                                AVG_CLICKS_PER_VISIT +\n",
    "                                                                TOTAL_PHOTOS_VIEWED +\n",
    "                                                                JUNK +\n",
    "                                                                PERSONAL +\n",
    "                                                                PROFESSIONAL +\n",
    "                                                                has_cancelled +\n",
    "                                                                has_locker +\n",
    "                                                                Total_Cancellations +\n",
    "                                                                av_spending +\n",
    "                                                                av_spending_unique +\n",
    "                                                                out_weekly_plans +\n",
    "                                                                out_avg_time_per_site_visit +\n",
    "                                                                out_cancellations_before_noon +\n",
    "                                                                out_cancellations_after_noon +\n",
    "                                                                out_avg_prep_vid_time +\n",
    "                                                                out_largest_order_size +\n",
    "                                                                out_total_meals_ordered +\n",
    "                                                                out_avg_clicks_per_visit +\n",
    "                                                                out_unique_meals_purchased +\n",
    "                                                                out_contacts_w_customer_service +\n",
    "                                                                out_early_deliveries +\n",
    "                                                                out_late_deliveries +\n",
    "                                                                out_master_classes_attended +\n",
    "                                                                out_median_meal_rating +\n",
    "                                                                out_total_photos_viewed\"\"\",\n",
    "                           data = app_chef_train)\n",
    "\n",
    "\n",
    "# FITTING the model object\n",
    "results_logistic = app_chef_logit.fit()\n",
    "\n",
    "\n",
    "# checking the results SUMMARY\n",
    "print(results_logistic.summary())\n"
   ]
  },
  {
   "cell_type": "markdown",
   "metadata": {},
   "source": [
    "#### Logistic Regression with only Significant Features "
   ]
  },
  {
   "cell_type": "code",
   "execution_count": 61,
   "metadata": {},
   "outputs": [
    {
     "name": "stdout",
     "output_type": "stream",
     "text": [
      "Optimization terminated successfully.\n",
      "         Current function value: 0.558926\n",
      "         Iterations 6\n",
      "                           Logit Regression Results                           \n",
      "==============================================================================\n",
      "Dep. Variable:     CROSS_SELL_SUCCESS   No. Observations:                 1459\n",
      "Model:                          Logit   Df Residuals:                     1451\n",
      "Method:                           MLE   Df Model:                            7\n",
      "Date:                Tue, 26 Jan 2021   Pseudo R-squ.:                  0.1099\n",
      "Time:                        20:48:23   Log-Likelihood:                -815.47\n",
      "converged:                       True   LL-Null:                       -916.19\n",
      "Covariance Type:            nonrobust   LLR p-value:                 5.687e-40\n",
      "=============================================================================================\n",
      "                                coef    std err          z      P>|z|      [0.025      0.975]\n",
      "---------------------------------------------------------------------------------------------\n",
      "Intercept                    -3.1305      0.638     -4.907      0.000      -4.381      -1.880\n",
      "MOBILE_NUMBER                 0.8422      0.173      4.882      0.000       0.504       1.180\n",
      "CANCELLATIONS_BEFORE_NOON     0.2674      0.046      5.876      0.000       0.178       0.357\n",
      "TASTES_AND_PREFERENCES        0.3551      0.132      2.681      0.007       0.095       0.615\n",
      "PC_LOGINS                     0.2322      0.105      2.201      0.028       0.025       0.439\n",
      "MASTER_CLASSES_ATTENDED       0.2116      0.096      2.207      0.027       0.024       0.399\n",
      "PERSONAL                      1.2592      0.153      8.222      0.000       0.959       1.559\n",
      "PROFESSIONAL                  1.8166      0.167     10.874      0.000       1.489       2.144\n",
      "=============================================================================================\n"
     ]
    }
   ],
   "source": [
    "# instantiating a logistic regression model object\n",
    "app_chef_logit = smf.logit(formula   = \"\"\"CROSS_SELL_SUCCESS ~\n",
    "                                                                MOBILE_NUMBER +\n",
    "                                                                CANCELLATIONS_BEFORE_NOON +\n",
    "                                                                TASTES_AND_PREFERENCES +\n",
    "                                                                PC_LOGINS +\n",
    "                                                                MASTER_CLASSES_ATTENDED +\n",
    "                                                                PERSONAL +\n",
    "                                                                PROFESSIONAL \n",
    "                                                                \"\"\",\n",
    "                           data = app_chef_train)\n",
    "\n",
    "\n",
    "# FITTING the model object\n",
    "results_logistic = app_chef_logit.fit()\n",
    "\n",
    "\n",
    "# checking the results SUMMARY\n",
    "print(results_logistic.summary())\n"
   ]
  },
  {
   "cell_type": "code",
   "execution_count": 62,
   "metadata": {},
   "outputs": [
    {
     "name": "stdout",
     "output_type": "stream",
     "text": [
      "Optimization terminated successfully.\n",
      "         Current function value: 0.551924\n",
      "         Iterations 6\n",
      "                           Logit Regression Results                           \n",
      "==============================================================================\n",
      "Dep. Variable:     CROSS_SELL_SUCCESS   No. Observations:                 1459\n",
      "Model:                          Logit   Df Residuals:                     1447\n",
      "Method:                           MLE   Df Model:                           11\n",
      "Date:                Tue, 26 Jan 2021   Pseudo R-squ.:                  0.1211\n",
      "Time:                        20:48:26   Log-Likelihood:                -805.26\n",
      "converged:                       True   LL-Null:                       -916.19\n",
      "Covariance Type:            nonrobust   LLR p-value:                 2.104e-41\n",
      "===============================================================================================\n",
      "                                  coef    std err          z      P>|z|      [0.025      0.975]\n",
      "-----------------------------------------------------------------------------------------------\n",
      "Intercept                      -3.2205      0.644     -5.005      0.000      -4.482      -1.959\n",
      "MOBILE_NUMBER                   0.8526      0.174      4.901      0.000       0.512       1.194\n",
      "CANCELLATIONS_BEFORE_NOON       0.2705      0.046      5.905      0.000       0.181       0.360\n",
      "TASTES_AND_PREFERENCES          0.3618      0.134      2.704      0.007       0.100       0.624\n",
      "PC_LOGINS                       0.2381      0.106      2.243      0.025       0.030       0.446\n",
      "MASTER_CLASSES_ATTENDED         0.2396      0.103      2.316      0.021       0.037       0.442\n",
      "PERSONAL                        1.2731      0.155      8.228      0.000       0.970       1.576\n",
      "PROFESSIONAL                    1.8071      0.168     10.729      0.000       1.477       2.137\n",
      "out_avg_prep_vid_time           1.1339      0.420      2.702      0.007       0.311       1.956\n",
      "out_total_meals_ordered        -0.7392      0.306     -2.417      0.016      -1.339      -0.140\n",
      "out_early_deliveries            0.7421      0.344      2.156      0.031       0.067       1.417\n",
      "out_master_classes_attended    -2.0179      0.951     -2.122      0.034      -3.882      -0.154\n",
      "===============================================================================================\n"
     ]
    }
   ],
   "source": [
    "# instantiating a logistic regression model object\n",
    "app_chef_logit = smf.logit(formula   = \"\"\"CROSS_SELL_SUCCESS ~ \n",
    "                                                                MOBILE_NUMBER +\n",
    "                                                                CANCELLATIONS_BEFORE_NOON +\n",
    "                                                                TASTES_AND_PREFERENCES +\n",
    "                                                                PC_LOGINS +\n",
    "                                                                MASTER_CLASSES_ATTENDED +\n",
    "                                                                PERSONAL +\n",
    "                                                                PROFESSIONAL +\n",
    "                                                                out_avg_prep_vid_time +\n",
    "                                                                out_total_meals_ordered +\n",
    "                                                                out_early_deliveries +\n",
    "                                                                out_master_classes_attended \"\"\",\n",
    "                           data = app_chef_train)\n",
    "\n",
    "\n",
    "# FITTING the model object\n",
    "results_logistic = app_chef_logit.fit()\n",
    "\n",
    "\n",
    "# checking the results SUMMARY\n",
    "print(results_logistic.summary())\n"
   ]
  },
  {
   "cell_type": "code",
   "execution_count": 63,
   "metadata": {},
   "outputs": [
    {
     "name": "stdout",
     "output_type": "stream",
     "text": [
      "Optimization terminated successfully.\n",
      "         Current function value: 0.560618\n",
      "         Iterations 6\n",
      "                           Logit Regression Results                           \n",
      "==============================================================================\n",
      "Dep. Variable:     CROSS_SELL_SUCCESS   No. Observations:                 1459\n",
      "Model:                          Logit   Df Residuals:                     1452\n",
      "Method:                           MLE   Df Model:                            6\n",
      "Date:                Tue, 26 Jan 2021   Pseudo R-squ.:                  0.1072\n",
      "Time:                        20:48:27   Log-Likelihood:                -817.94\n",
      "converged:                       True   LL-Null:                       -916.19\n",
      "Covariance Type:            nonrobust   LLR p-value:                 1.052e-39\n",
      "=============================================================================================\n",
      "                                coef    std err          z      P>|z|      [0.025      0.975]\n",
      "---------------------------------------------------------------------------------------------\n",
      "Intercept                    -3.0115      0.634     -4.754      0.000      -4.253      -1.770\n",
      "MOBILE_NUMBER                 0.8449      0.172      4.913      0.000       0.508       1.182\n",
      "CANCELLATIONS_BEFORE_NOON     0.2711      0.045      5.964      0.000       0.182       0.360\n",
      "TASTES_AND_PREFERENCES        0.3662      0.132      2.773      0.006       0.107       0.625\n",
      "PC_LOGINS                     0.2302      0.105      2.187      0.029       0.024       0.437\n",
      "PERSONAL                      1.2612      0.153      8.260      0.000       0.962       1.561\n",
      "PROFESSIONAL                  1.8158      0.167     10.888      0.000       1.489       2.143\n",
      "=============================================================================================\n"
     ]
    }
   ],
   "source": [
    "# instantiating a logistic regression model object\n",
    "app_chef_logit = smf.logit(formula   = \"\"\"CROSS_SELL_SUCCESS ~  \n",
    "                                                                MOBILE_NUMBER +\n",
    "                                                                CANCELLATIONS_BEFORE_NOON +\n",
    "                                                                TASTES_AND_PREFERENCES +\n",
    "                                                                PC_LOGINS +\n",
    "                                                                PERSONAL +\n",
    "                                                                PROFESSIONAL \n",
    "                                                                \"\"\",\n",
    "                           data = app_chef_train)\n",
    "\n",
    "\n",
    "# FITTING the model object\n",
    "results_logistic = app_chef_logit.fit()\n",
    "\n",
    "\n",
    "# checking the results SUMMARY\n",
    "print(results_logistic.summary())\n"
   ]
  },
  {
   "cell_type": "markdown",
   "metadata": {},
   "source": [
    "### In scikit-learn "
   ]
  },
  {
   "cell_type": "code",
   "execution_count": 23,
   "metadata": {},
   "outputs": [],
   "source": [
    "# creating a dictionary to store candidate models\n",
    "\n",
    "candidate_dict = {\n",
    "\n",
    " # full model\n",
    " 'logit_full'   : ['TOTAL_MEALS_ORDERED','UNIQUE_MEALS_PURCH','CONTACTS_W_CUSTOMER_SERVICE',\n",
    "                   'PRODUCT_CATEGORIES_VIEWED','AVG_TIME_PER_SITE_VISIT', 'MOBILE_NUMBER',\n",
    "                   'CANCELLATIONS_BEFORE_NOON', 'CANCELLATIONS_AFTER_NOON', 'TASTES_AND_PREFERENCES',\n",
    "                   'PC_LOGINS', 'MOBILE_LOGINS', 'WEEKLY_PLAN', 'EARLY_DELIVERIES',\n",
    "                   'LATE_DELIVERIES','PACKAGE_LOCKER','REFRIGERATED_LOCKER', 'AVG_PREP_VID_TIME',\n",
    "                   'LARGEST_ORDER_SIZE', 'MASTER_CLASSES_ATTENDED', 'MEDIAN_MEAL_RATING',\n",
    "                   'AVG_CLICKS_PER_VISIT', 'TOTAL_PHOTOS_VIEWED'],\n",
    " \n",
    "\n",
    " # significant variables only (set 1)\n",
    " 'logit_sig_1'    : ['MOBILE_NUMBER', 'CANCELLATIONS_BEFORE_NOON', 'TASTES_AND_PREFERENCES',\n",
    "                     'PC_LOGINS','MASTER_CLASSES_ATTENDED','PERSONAL','PROFESSIONAL' ],\n",
    "    \n",
    "    \n",
    " # significant variables only (set 2)\n",
    " 'logit_sig_2'  : ['MOBILE_NUMBER',  'CANCELLATIONS_BEFORE_NOON', 'TASTES_AND_PREFERENCES', \n",
    "                   'PC_LOGINS', 'MASTER_CLASSES_ATTENDED', 'PERSONAL', 'PROFESSIONAL', \n",
    "                   'out_avg_prep_vid_time',  'out_total_meals_ordered', 'out_early_deliveries', \n",
    "                   'out_master_classes_attended'],\n",
    "\n",
    "    \n",
    " # significant variables only (set 3)\n",
    " 'logit_sig_3'    : ['MOBILE_NUMBER', 'CANCELLATIONS_BEFORE_NOON', 'TASTES_AND_PREFERENCES',\n",
    "                      'PERSONAL','PROFESSIONAL']\n",
    "    \n",
    "}\n",
    "\n",
    "\n",
    "\n",
    "\n",
    "#'logit_sig_1'    : ['MOBILE_NUMBER', 'CANCELLATIONS_BEFORE_NOON', 'TASTES_AND_PREFERENCES',\n",
    "                    # 'PC_LOGINS', 'MASTER_CLASSES_ATTENDED','PERSONAL','PROFESSIONAL',\n",
    "                    # 'out_avg_prep_vid_time', 'out_total_meals_ordered','out_early_deliveries',\n",
    "                    # 'out_master_classes_attended' ],\n",
    "    "
   ]
  },
  {
   "cell_type": "code",
   "execution_count": 24,
   "metadata": {},
   "outputs": [
    {
     "name": "stdout",
     "output_type": "stream",
     "text": [
      "\n",
      "/--------------------------\\\n",
      "|Explanatory Variable Sets |\n",
      "\\--------------------------/\n",
      "\n",
      "Full Model:\n",
      "-----------\n",
      "['TOTAL_MEALS_ORDERED', 'UNIQUE_MEALS_PURCH', 'CONTACTS_W_CUSTOMER_SERVICE', 'PRODUCT_CATEGORIES_VIEWED', 'AVG_TIME_PER_SITE_VISIT', 'MOBILE_NUMBER', 'CANCELLATIONS_BEFORE_NOON', 'CANCELLATIONS_AFTER_NOON', 'TASTES_AND_PREFERENCES', 'PC_LOGINS', 'MOBILE_LOGINS', 'WEEKLY_PLAN', 'EARLY_DELIVERIES', 'LATE_DELIVERIES', 'PACKAGE_LOCKER', 'REFRIGERATED_LOCKER', 'AVG_PREP_VID_TIME', 'LARGEST_ORDER_SIZE', 'MASTER_CLASSES_ATTENDED', 'MEDIAN_MEAL_RATING', 'AVG_CLICKS_PER_VISIT', 'TOTAL_PHOTOS_VIEWED']\n",
      "\n",
      "\n",
      "First Significant p-value Model:\n",
      "--------------------------------\n",
      "['MOBILE_NUMBER', 'CANCELLATIONS_BEFORE_NOON', 'TASTES_AND_PREFERENCES', 'PC_LOGINS', 'MASTER_CLASSES_ATTENDED', 'PERSONAL', 'PROFESSIONAL']\n",
      "\n",
      "\n",
      "Second Significant p-value Model:\n",
      "---------------------------------\n",
      "['MOBILE_NUMBER', 'CANCELLATIONS_BEFORE_NOON', 'TASTES_AND_PREFERENCES', 'PC_LOGINS', 'MASTER_CLASSES_ATTENDED', 'PERSONAL', 'PROFESSIONAL', 'out_avg_prep_vid_time', 'out_total_meals_ordered', 'out_early_deliveries', 'out_master_classes_attended']\n",
      "\n",
      "\n",
      "Thrid Significant p-value Model:\n",
      "---------------------------------\n",
      "['MOBILE_NUMBER', 'CANCELLATIONS_BEFORE_NOON', 'TASTES_AND_PREFERENCES', 'PERSONAL', 'PROFESSIONAL']\n",
      "\n",
      "\n"
     ]
    }
   ],
   "source": [
    "# Dynamically printing candidate variable sets\n",
    "print(f\"\"\"\n",
    "/--------------------------\\\\\n",
    "|Explanatory Variable Sets |\n",
    "\\\\--------------------------/\n",
    "\n",
    "Full Model:\n",
    "-----------\n",
    "{candidate_dict['logit_full']}\n",
    "\n",
    "\n",
    "First Significant p-value Model:\n",
    "--------------------------------\n",
    "{candidate_dict['logit_sig_1']}\n",
    "\n",
    "\n",
    "Second Significant p-value Model:\n",
    "---------------------------------\n",
    "{candidate_dict['logit_sig_2']}\n",
    "\n",
    "\n",
    "Thrid Significant p-value Model:\n",
    "---------------------------------\n",
    "{candidate_dict['logit_sig_3']}\n",
    "\n",
    "\"\"\")\n"
   ]
  },
  {
   "cell_type": "code",
   "execution_count": 80,
   "metadata": {},
   "outputs": [
    {
     "name": "stdout",
     "output_type": "stream",
     "text": [
      "LogReg Training ACCURACY: 0.7258\n",
      "LogReg Testing  ACCURACY: 0.7392\n",
      "LogReg AUC: 0.6387\n"
     ]
    }
   ],
   "source": [
    "# train/test split with the full model\n",
    "app_chef_data   =  app_chef.loc[ : , candidate_dict['logit_sig_3']]\n",
    "app_chef_target =  app_chef.loc[ : , 'CROSS_SELL_SUCCESS']\n",
    "\n",
    "\n",
    "# this is the exact code we were using before\n",
    "x_train, x_test, y_train, y_test = train_test_split(\n",
    "            app_chef_data,\n",
    "            app_chef_target,\n",
    "            random_state = 219,\n",
    "            test_size    = 0.25,\n",
    "            stratify     = app_chef_target)\n",
    "\n",
    "\n",
    "# INSTANTIATING a logistic regression model\n",
    "logreg = LogisticRegression(solver = 'lbfgs',\n",
    "                            C = 1,\n",
    "                            random_state = 219)\n",
    "# FITTING the training data\n",
    "logreg_fit = logreg.fit(x_train, y_train)\n",
    "\n",
    "\n",
    "# PREDICTING based on the testing set\n",
    "logreg_pred = logreg_fit.predict(x_test)\n",
    "\n",
    "\n",
    "# SCORING the results\n",
    "print('LogReg Training ACCURACY:', logreg_fit.score(x_train, y_train).round(4))\n",
    "print('LogReg Testing  ACCURACY:', logreg_fit.score(x_test, y_test).round(4))\n",
    "\n",
    "# saving scoring data for future use\n",
    "logreg_train_score = logreg_fit.score(x_train, y_train).round(4) # accuracy\n",
    "logreg_test_score  = logreg_fit.score(x_test, y_test).round(4)   # accuracy\n",
    "\n",
    "\n",
    "# area under the roc curve (auc)\n",
    "print('LogReg AUC:',roc_auc_score(y_true  = y_test,\n",
    "                    y_score = logreg_pred).round(decimals = 4))\n"
   ]
  },
  {
   "cell_type": "markdown",
   "metadata": {},
   "source": [
    "### Logistic Regression on Scaled Data  "
   ]
  },
  {
   "cell_type": "code",
   "execution_count": 2,
   "metadata": {},
   "outputs": [
    {
     "ename": "NameError",
     "evalue": "name 'standard' is not defined",
     "output_type": "error",
     "traceback": [
      "\u001b[1;31m---------------------------------------------------------------------------\u001b[0m",
      "\u001b[1;31mNameError\u001b[0m                                 Traceback (most recent call last)",
      "\u001b[1;32m<ipython-input-2-63a6a521cda1>\u001b[0m in \u001b[0;36m<module>\u001b[1;34m\u001b[0m\n\u001b[0;32m      1\u001b[0m \u001b[1;31m###### Standardized Preparation\u001b[0m\u001b[1;33m\u001b[0m\u001b[1;33m\u001b[0m\u001b[1;33m\u001b[0m\u001b[0m\n\u001b[0;32m      2\u001b[0m \u001b[1;31m# Standardizing our Data Set (only numeric variables) with user-defined function\u001b[0m\u001b[1;33m\u001b[0m\u001b[1;33m\u001b[0m\u001b[1;33m\u001b[0m\u001b[0m\n\u001b[1;32m----> 3\u001b[1;33m \u001b[0mchef_stand\u001b[0m \u001b[1;33m=\u001b[0m \u001b[0mstandard\u001b[0m\u001b[1;33m(\u001b[0m\u001b[0mapp_chef_data\u001b[0m\u001b[1;33m)\u001b[0m\u001b[1;33m\u001b[0m\u001b[1;33m\u001b[0m\u001b[0m\n\u001b[0m\u001b[0;32m      4\u001b[0m \u001b[1;33m\u001b[0m\u001b[0m\n\u001b[0;32m      5\u001b[0m \u001b[1;31m# Defining explanatory variables (add according to new feature selections)\u001b[0m\u001b[1;33m\u001b[0m\u001b[1;33m\u001b[0m\u001b[1;33m\u001b[0m\u001b[0m\n",
      "\u001b[1;31mNameError\u001b[0m: name 'standard' is not defined"
     ]
    }
   ],
   "source": [
    "###### Standardized Preparation \n",
    "# Standardizing our Data Set (only numeric variables) with user-defined function\n",
    "chef_stand = standard(app_chef_data)\n",
    "\n",
    "# Defining explanatory variables (add according to new feature selections)\n",
    "app_chef_stand     = chef_stand.loc[: , candidate_dict['logit_sig_3']]\n",
    "\n",
    "# train-test split with stratification\n",
    "x_train_stand, x_test_stand, y_train_stand, y_test_stand = train_test_split(\n",
    "            app_chef_stand,   # standerdized x variables \n",
    "            app_chef_target,\n",
    "            test_size = 0.25,\n",
    "            random_state = 219,\n",
    "            stratify = app_chef_target) \n",
    "\n",
    "# merging training data for statsmodels\n",
    "chef_train_stand = pd.concat([x_train_stand, x_train_stand], axis = 1)\n",
    "\n",
    "# Important model on Standardized data\n",
    "# INSTANTIATING a logistic regression model\n",
    "logreg_stand = LogisticRegression(random_state = 219) \n",
    "\n",
    "# FITTING the training data\n",
    "logreg_fit_stand = logreg_stand.fit(x_train_stand, y_train.values.reshape(-1,)) # removes warning on column shape\n",
    "\n",
    "# PREDICTING based on the testing set\n",
    "logreg_pred_stand = logreg_fit_stand.predict(x_test_stand)\n",
    "\n",
    "# train accuracy\n",
    "logreg_train_acc_stand  = logreg_fit_stand.score(x_train_stand, y_train_stand).round(4)\n",
    "\n",
    "# test accuracy\n",
    "logreg_test_acc_stand   = logreg_fit_stand.score(x_test_stand, y_test_stand).round(4)\n",
    "\n",
    "# auc value\n",
    "logreg_auc_stand = roc_auc_score(y_true  = y_test_stand,\n",
    "                           y_score = logreg_pred_stand).round(4)\n",
    "\n",
    "print('Training ACCURACY:', logreg_train_acc_stand)\n",
    "print('Testing  ACCURACY:', logreg_test_acc_stand)\n",
    "print('AUC Score        :', logreg_auc_stand)"
   ]
  },
  {
   "cell_type": "code",
   "execution_count": 82,
   "metadata": {},
   "outputs": [
    {
     "name": "stdout",
     "output_type": "stream",
     "text": [
      "('intercept', -1.65)\n",
      "('MOBILE_NUMBER', 0.27)\n",
      "('CANCELLATIONS_BEFORE_NOON', 0.42)\n",
      "('TASTES_AND_PREFERENCES', 0.16)\n",
      "('PERSONAL', 0.62)\n",
      "('PROFESSIONAL', 0.86)\n"
     ]
    }
   ],
   "source": [
    "# zipping each feature name to its coefficient\n",
    "logreg_model_values = zip(app_chef[candidate_dict['logit_sig_3']].columns,\n",
    "                          logreg_fit_stand.coef_.ravel().round(decimals = 2))\n",
    "\n",
    "\n",
    "# setting up a placeholder list to store model features\n",
    "logreg_model_lst = [('intercept', logreg_fit.intercept_[0].round(decimals = 2))]\n",
    "\n",
    "\n",
    "# printing out each feature-coefficient pair one by one\n",
    "for val in logreg_model_values:\n",
    "    logreg_model_lst.append(val)\n",
    "    \n",
    "\n",
    "# checking the results\n",
    "for pair in logreg_model_lst:\n",
    "    print(pair)"
   ]
  },
  {
   "cell_type": "markdown",
   "metadata": {},
   "source": [
    "### Hyperparameter Tuning "
   ]
  },
  {
   "cell_type": "code",
   "execution_count": 83,
   "metadata": {},
   "outputs": [],
   "source": [
    "# train/test split with the logit_sig variables\n",
    "app_chef_data   =  app_chef.loc[ :  , candidate_dict['logit_sig_3']]\n",
    "app_chef_target =  app_chef.loc[ :  , 'CROSS_SELL_SUCCESS']\n",
    "\n",
    "\n",
    "# train/test split\n",
    "x_train, x_test, y_train, y_test = train_test_split(\n",
    "            app_chef_data,\n",
    "            app_chef_target,\n",
    "            random_state = 219,\n",
    "            test_size    = 0.25,\n",
    "            stratify     = app_chef_target)\n"
   ]
  },
  {
   "cell_type": "code",
   "execution_count": 71,
   "metadata": {},
   "outputs": [
    {
     "name": "stderr",
     "output_type": "stream",
     "text": [
      "<ipython-input-71-e7fcb23c568c>:6: FutureWarning: The pandas.np module is deprecated and will be removed from pandas in a future version. Import numpy directly instead\n",
      "  C_space          = pd.np.arange(0.1, 5.0, 0.1)\n"
     ]
    },
    {
     "name": "stdout",
     "output_type": "stream",
     "text": [
      "Tuned Parameters  : {'warm_start': False, 'solver': 'sag', 'C': 1.4000000000000001}\n",
      "Tuned CV AUC      : 0.6331\n"
     ]
    }
   ],
   "source": [
    "########################################\n",
    "# RandomizedSearchCV\n",
    "########################################\n",
    "\n",
    "# declaring a hyperparameter space\n",
    "C_space          = pd.np.arange(0.1, 5.0, 0.1)\n",
    "warm_start_space = [True, False]\n",
    "solver_space     = ['newton-cg', 'sag', 'lbfgs']\n",
    "\n",
    "\n",
    "# creating a hyperparameter grid\n",
    "param_grid = {'C'          : C_space,\n",
    "              'warm_start' : warm_start_space,\n",
    "              'solver'     : solver_space}\n",
    "\n",
    "\n",
    "# INSTANTIATING the model object without hyperparameters\n",
    "lr_tuned = LogisticRegression(random_state = 219,\n",
    "                              max_iter     = 1000)\n",
    "\n",
    "\n",
    "# GridSearchCV object\n",
    "lr_tuned_cv = RandomizedSearchCV(estimator           = lr_tuned,   # the model object\n",
    "                                 param_distributions = param_grid, # parameters to tune\n",
    "                                 cv                  = 3,          # how many folds in cross-validation\n",
    "                                 n_iter              = 250,        # number of combinations of hyperparameters to try\n",
    "                                 random_state        = 219,        # starting point for random sequence\n",
    "                                 scoring = make_scorer(\n",
    "                                           roc_auc_score,\n",
    "                                           needs_threshold = False)) # scoring criteria (AUC)\n",
    "\n",
    "\n",
    "# FITTING to the FULL DATASET (due to cross-validation)\n",
    "lr_tuned_cv.fit(app_chef_data, app_chef_target)\n",
    "\n",
    "\n",
    "# PREDICT step is not needed\n",
    "\n",
    "\n",
    "# printing the optimal parameters and best score\n",
    "print(\"Tuned Parameters  :\", lr_tuned_cv.best_params_)\n",
    "print(\"Tuned CV AUC      :\", lr_tuned_cv.best_score_.round(4))"
   ]
  },
  {
   "cell_type": "code",
   "execution_count": 84,
   "metadata": {},
   "outputs": [
    {
     "data": {
      "text/plain": [
       "LogisticRegression(C=1.4000000000000001, max_iter=1000, random_state=219,\n",
       "                   solver='sag')"
      ]
     },
     "execution_count": 84,
     "metadata": {},
     "output_type": "execute_result"
    }
   ],
   "source": [
    "# checking the best estimator for the model\n",
    "lr_tuned_cv.best_estimator_"
   ]
  },
  {
   "cell_type": "code",
   "execution_count": 85,
   "metadata": {},
   "outputs": [
    {
     "name": "stdout",
     "output_type": "stream",
     "text": [
      "LR Tuned Training ACCURACY: 0.7258\n",
      "LR TUNED Testing  ACCURACY: 0.7392\n",
      "LR TUNED AUC Score        : 0.6387\n"
     ]
    }
   ],
   "source": [
    "# building a model based on hyperparameter tuning results\n",
    "\n",
    "# INSTANTIATING a logistic regression model with tuned values\n",
    "lr_tuned = lr_tuned_cv.best_estimator_\n",
    "\n",
    "\n",
    "# FIT step is not needed\n",
    "\n",
    "\n",
    "# PREDICTING based on the testing set\n",
    "lr_tuned_pred = lr_tuned.predict(x_test)\n",
    "\n",
    "\n",
    "# SCORING the results\n",
    "print('LR Tuned Training ACCURACY:', lr_tuned.score(x_train, y_train).round(4))\n",
    "print('LR TUNED Testing  ACCURACY:', lr_tuned.score(x_test, y_test).round(4))\n",
    "print('LR TUNED AUC Score        :', roc_auc_score(y_true  = y_test,\n",
    "                                  y_score = lr_tuned_pred).round(4))\n",
    "\n",
    "\n",
    "# saving scoring data for future use\n",
    "lr_tuned_train_score = lr_tuned.score(x_train, y_train).round(4) # accuracy\n",
    "lr_tuned_test_score  = lr_tuned.score(x_test, y_test).round(4)   # accuracy\n",
    "\n",
    "\n",
    "# saving the AUC score\n",
    "lr_tuned_auc         = roc_auc_score(y_true  = y_test,\n",
    "                                     y_score = lr_tuned_pred).round(4) # auc"
   ]
  },
  {
   "cell_type": "code",
   "execution_count": 86,
   "metadata": {},
   "outputs": [
    {
     "name": "stdout",
     "output_type": "stream",
     "text": [
      "\n",
      "True Negatives : 56\n",
      "False Positives: 100\n",
      "False Negatives: 27\n",
      "True Positives : 304\n",
      "\n"
     ]
    }
   ],
   "source": [
    "# unpacking the confusion matrix\n",
    "lr_tuned_tn, \\\n",
    "lr_tuned_fp, \\\n",
    "lr_tuned_fn, \\\n",
    "lr_tuned_tp = confusion_matrix(y_true = y_test, y_pred = lr_tuned_pred).ravel()\n",
    "\n",
    "\n",
    "# printing each result one-by-one\n",
    "print(f\"\"\"\n",
    "True Negatives : {lr_tuned_tn}\n",
    "False Positives: {lr_tuned_fp}\n",
    "False Negatives: {lr_tuned_fn}\n",
    "True Positives : {lr_tuned_tp}\n",
    "\"\"\")"
   ]
  },
  {
   "cell_type": "markdown",
   "metadata": {},
   "source": [
    "# CART Model (Decision Tree) "
   ]
  },
  {
   "cell_type": "code",
   "execution_count": 94,
   "metadata": {},
   "outputs": [
    {
     "name": "stdout",
     "output_type": "stream",
     "text": [
      "Full Tree Training ACCURACY: 0.7389\n",
      "Full Tree Testing ACCURACY : 0.7433\n",
      "Full Tree AUC Score: 0.6451\n"
     ]
    }
   ],
   "source": [
    "# INSTANTIATING a classification tree object\n",
    "full_tree = DecisionTreeClassifier()\n",
    "\n",
    "\n",
    "# FITTING the training data\n",
    "full_tree_fit = full_tree.fit(x_train, y_train)\n",
    "\n",
    "\n",
    "# PREDICTING on new data\n",
    "full_tree_pred = full_tree_fit.predict(x_test)\n",
    "\n",
    "\n",
    "# SCORING the model\n",
    "print('Full Tree Training ACCURACY:', full_tree_fit.score(x_train,\n",
    "                                                    y_train).round(4))\n",
    "\n",
    "print('Full Tree Testing ACCURACY :', full_tree_fit.score(x_test,\n",
    "                                                    y_test).round(4))\n",
    "\n",
    "print('Full Tree AUC Score:', roc_auc_score(y_true  = y_test,\n",
    "                                            y_score = full_tree_pred).round(4))\n",
    "\n",
    "\n",
    "# saving scoring data for future use\n",
    "full_tree_train_score = full_tree_fit.score(x_train, y_train).round(4) # accuracy\n",
    "full_tree_test_score  = full_tree_fit.score(x_test, y_test).round(4)   # accuracy\n",
    "\n",
    "\n",
    "# saving AUC\n",
    "full_tree_auc_score   = roc_auc_score(y_true  = y_test,\n",
    "                                      y_score = full_tree_pred).round(4) # auc"
   ]
  },
  {
   "cell_type": "code",
   "execution_count": 95,
   "metadata": {},
   "outputs": [
    {
     "name": "stdout",
     "output_type": "stream",
     "text": [
      "Training ACCURACY: 0.7286\n",
      "Testing  ACCURACY: 0.7331\n",
      "AUC Score        : 0.6104\n"
     ]
    }
   ],
   "source": [
    "# INSTANTIATING a classification tree object\n",
    "pruned_tree = DecisionTreeClassifier(max_depth = 3,\n",
    "                                     min_samples_leaf = 25,\n",
    "                                     random_state = 219)\n",
    "\n",
    "\n",
    "# FITTING the training data\n",
    "pruned_tree_fit  = pruned_tree.fit(x_train, y_train)\n",
    "\n",
    "\n",
    "# PREDICTING on new data\n",
    "pruned_tree_pred = pruned_tree_fit.predict(x_test)\n",
    "\n",
    "\n",
    "# SCORING the model\n",
    "print('Training ACCURACY:', pruned_tree_fit.score(x_train, y_train).round(4))\n",
    "print('Testing  ACCURACY:', pruned_tree_fit.score(x_test, y_test).round(4))\n",
    "print('AUC Score        :', roc_auc_score(y_true  = y_test,\n",
    "                                          y_score = pruned_tree_pred).round(4))\n",
    "\n",
    "\n",
    "# saving scoring data for future use\n",
    "pruned_tree_train_score = pruned_tree_fit.score(x_train, y_train).round(4) # accuracy\n",
    "pruned_tree_test_score  = pruned_tree_fit.score(x_test, y_test).round(4)   # accuracy\n",
    "\n",
    "\n",
    "# saving auc score\n",
    "pruned_tree_auc_score   = roc_auc_score(y_true  = y_test,\n",
    "                                        y_score = pruned_tree_pred).round(4) # auc\n"
   ]
  },
  {
   "cell_type": "code",
   "execution_count": 99,
   "metadata": {},
   "outputs": [
    {
     "data": {
      "image/png": "[encoded data removed]",
      "text/plain": [
       "<IPython.core.display.Image object>"
      ]
     },
     "execution_count": 99,
     "metadata": {
      "image/png": {
       "height": 500,
       "width": 800
      }
     },
     "output_type": "execute_result"
    }
   ],
   "source": [
    "# calling display_tree\n",
    "display_tree(tree       = pruned_tree_fit,\n",
    "             feature_df = x_train)"
   ]
  },
  {
   "cell_type": "code",
   "execution_count": 100,
   "metadata": {},
   "outputs": [
    {
     "name": "stderr",
     "output_type": "stream",
     "text": [
      "<ipython-input-98-0e4e61b56a18>:135: FutureWarning: The pandas.np module is deprecated and will be removed from pandas in a future version. Import numpy directly instead\n",
      "  plt.yticks(pd.np.arange(n_features), train.columns)\n"
     ]
    },
    {
     "data": {
      "image/png": "[encoded data removed]",
      "text/plain": [
       "<Figure size 864x648 with 1 Axes>"
      ]
     },
     "metadata": {
      "needs_background": "light"
     },
     "output_type": "display_data"
    }
   ],
   "source": [
    "# plotting feature importance\n",
    "plot_feature_importances(pruned_tree_fit,\n",
    "                         train  = x_train,\n",
    "                         export = False)"
   ]
  },
  {
   "cell_type": "markdown",
   "metadata": {},
   "source": [
    "### Hyperparameter Tuning "
   ]
  },
  {
   "cell_type": "code",
   "execution_count": 103,
   "metadata": {},
   "outputs": [],
   "source": [
    "# Defining explanatory variables (add according to new feature selections)\n",
    "app_chef_sig = app_chef.loc[: , candidate_dict['logit_sig_3']]\n",
    "\n",
    "# train-test split with stratification\n",
    "x_train, x_test, y_train, y_test = train_test_split(\n",
    "            app_chef_sig,  # change\n",
    "            app_chef_target,\n",
    "            test_size = 0.25,\n",
    "            random_state = 219,\n",
    "            stratify = app_chef_target) # stratifying target variable to ensure balance\n",
    "\n",
    "# merging training data for statsmodels\n",
    "chef_train = pd.concat([x_train, y_train], axis = 1) # contains target variable!"
   ]
  },
  {
   "cell_type": "code",
   "execution_count": 106,
   "metadata": {
    "scrolled": true
   },
   "outputs": [
    {
     "name": "stderr",
     "output_type": "stream",
     "text": [
      "<ipython-input-106-1979a84860a7>:4: FutureWarning: The pandas.np module is deprecated and will be removed from pandas in a future version. Import numpy directly instead\n",
      "  depth_space     = pd.np.arange(1, 25, 1)\n",
      "<ipython-input-106-1979a84860a7>:5: FutureWarning: The pandas.np module is deprecated and will be removed from pandas in a future version. Import numpy directly instead\n",
      "  leaf_space      = pd.np.arange(1, 100, 1)\n"
     ]
    },
    {
     "name": "stdout",
     "output_type": "stream",
     "text": [
      "Tuned Parameters  : {'splitter': 'best', 'min_samples_leaf': 1, 'max_depth': 14, 'criterion': 'gini'}\n",
      "Tuned Training AUC: 0.6432\n"
     ]
    }
   ],
   "source": [
    "# declaring a hyperparameter space\n",
    "criterion_space = ['gini', 'entropy']\n",
    "splitter_space  = ['best', 'random']\n",
    "depth_space     = pd.np.arange(1, 25, 1)\n",
    "leaf_space      = pd.np.arange(1, 100, 1)\n",
    "\n",
    "\n",
    "# creating a hyperparameter grid\n",
    "param_grid = {'criterion'        : criterion_space,\n",
    "              'splitter'         : splitter_space,\n",
    "              'max_depth'        : depth_space,\n",
    "              'min_samples_leaf' : leaf_space}\n",
    "\n",
    "\n",
    "# INSTANTIATING the model object without hyperparameters\n",
    "tuned_tree = DecisionTreeClassifier(random_state = 219)\n",
    "\n",
    "\n",
    "# RandomizedSearchCV object\n",
    "tuned_tree_cv = RandomizedSearchCV(estimator             = tuned_tree,\n",
    "                                   param_distributions   = param_grid,\n",
    "                                   cv                    = 3,\n",
    "                                   n_iter                = 1000,\n",
    "                                   random_state          = 219,\n",
    "                                   scoring = make_scorer(roc_auc_score,\n",
    "                                             needs_threshold = False))\n",
    "\n",
    "\n",
    "# FITTING to the FULL DATASET (due to cross-validation)\n",
    "tuned_tree_cv.fit(app_chef_sig, app_chef_target)\n",
    "\n",
    "\n",
    "# PREDICT step is not needed\n",
    "\n",
    "\n",
    "# printing the optimal parameters and best score\n",
    "print(\"Tuned Parameters  :\", tuned_tree_cv.best_params_)\n",
    "print(\"Tuned Training AUC:\", tuned_tree_cv.best_score_.round(4))"
   ]
  },
  {
   "cell_type": "code",
   "execution_count": 107,
   "metadata": {},
   "outputs": [
    {
     "name": "stdout",
     "output_type": "stream",
     "text": [
      "Training ACCURACY: 0.7347\n",
      "Testing  ACCURACY: 0.768\n",
      "AUC Score        : 0.6717\n"
     ]
    }
   ],
   "source": [
    "# building a model based on hyperparameter tuning results\n",
    "\n",
    "# INSTANTIATING a logistic regression model with tuned values\n",
    "tree_tuned = tuned_tree_cv.best_estimator_\n",
    "\n",
    "\n",
    "# FIT step is not needed\n",
    "\n",
    "\n",
    "# PREDICTING based on the testing set\n",
    "tree_tuned_pred = tree_tuned.predict(x_test)\n",
    "\n",
    "\n",
    "# SCORING the results\n",
    "print('Training ACCURACY:', tree_tuned.score(x_train, y_train).round(4))\n",
    "print('Testing  ACCURACY:', tree_tuned.score(x_test, y_test).round(4))\n",
    "print('AUC Score        :', roc_auc_score(y_true  = y_test,\n",
    "                                          y_score = tree_tuned_pred).round(4))\n",
    "\n",
    "\n",
    "# saving scoring data for future use\n",
    "tree_tuned_train_score = tree_tuned.score(x_train, y_train).round(4) # accuracy\n",
    "tree_tuned_test_score  = tree_tuned.score(x_test, y_test).round(4)   # accuracy\n",
    "\n",
    "\n",
    "# saving the AUC score\n",
    "tree_tuned_auc         = roc_auc_score(y_true  = y_test,\n",
    "                                     y_score = tree_tuned_pred).round(4) # auc"
   ]
  },
  {
   "cell_type": "code",
   "execution_count": 108,
   "metadata": {},
   "outputs": [
    {
     "name": "stdout",
     "output_type": "stream",
     "text": [
      "\n",
      "True Negatives : 63\n",
      "False Positives: 93\n",
      "False Negatives: 20\n",
      "True Positives : 311\n",
      "\n"
     ]
    }
   ],
   "source": [
    "# unpacking the confusion matrix\n",
    "tuned_tree_tn, \\\n",
    "tuned_tree_fp, \\\n",
    "tuned_tree_fn, \\\n",
    "tuned_tree_tp = confusion_matrix(y_true = y_test, y_pred = tree_tuned_pred).ravel()\n",
    "\n",
    "\n",
    "# printing each result one-by-one\n",
    "print(f\"\"\"\n",
    "True Negatives : {tuned_tree_tn}\n",
    "False Positives: {tuned_tree_fp}\n",
    "False Negatives: {tuned_tree_fn}\n",
    "True Positives : {tuned_tree_tp}\n",
    "\"\"\")"
   ]
  },
  {
   "cell_type": "code",
   "execution_count": 109,
   "metadata": {},
   "outputs": [
    {
     "name": "stdout",
     "output_type": "stream",
     "text": [
      "\n",
      "Model              AUC Score      TN, FP, FN, TP\n",
      "-----               ---------      --------------\n",
      "Tuned Logistic    0.6387         (56, 100, 27, 304)\n",
      "Tuned Tree        0.6717         (63, 93, 20, 311)\n",
      "\n"
     ]
    }
   ],
   "source": [
    "# comparing results\n",
    "print(f\"\"\"\n",
    "Model              AUC Score      TN, FP, FN, TP\n",
    "-----               ---------      --------------\n",
    "Tuned Logistic    {lr_tuned_auc}         {lr_tuned_tn, lr_tuned_fp, lr_tuned_fn, lr_tuned_tp}\n",
    "Tuned Tree        {tree_tuned_auc}         {tuned_tree_tn, tuned_tree_fp, tuned_tree_fn, tuned_tree_tp}\n",
    "\"\"\")\n",
    "\n",
    "# creating a dictionary for model results\n",
    "model_performance = {\n",
    "    \n",
    "    'Model Name'    : ['Tuned Logistic',  'Tuned Tree'],\n",
    "           \n",
    "    'AUC Score'     : [lr_tuned_auc,  tree_tuned_auc],\n",
    "    \n",
    "    'Training Accuracy' : [lr_tuned_train_score, tree_tuned_train_score],\n",
    "           \n",
    "    'Testing Accuracy'  : [lr_tuned_test_score , tree_tuned_test_score],\n",
    "\n",
    "    'Confusion Matrix'  : [(lr_tuned_tn, lr_tuned_fp, lr_tuned_fn, lr_tuned_tp),\n",
    "                          (tuned_tree_tn, tuned_tree_fp, tuned_tree_fn, tuned_tree_tp)]}\n",
    "\n",
    "\n",
    "# converting model_performance into a DataFrame\n",
    "model_performance = pd.DataFrame(model_performance)\n",
    "\n",
    "\n",
    "# sending model results to Excel\n",
    "model_performance.to_excel('./model_results/app_chef_classification_model_performance.xlsx',\n",
    "                           index = False)"
   ]
  },
  {
   "cell_type": "markdown",
   "metadata": {},
   "source": [
    "# Final Model "
   ]
  },
  {
   "cell_type": "markdown",
   "metadata": {},
   "source": [
    "Based on the comparisons of the following models above, my final and most preferred model is the Decision Tree because it performed better than other models when exposed to new data. "
   ]
  },
  {
   "cell_type": "code",
   "execution_count": 110,
   "metadata": {},
   "outputs": [
    {
     "name": "stdout",
     "output_type": "stream",
     "text": [
      "\n",
      "Model              AUC Score      TN, FP, FN, TP\n",
      "-----               ---------      --------------\n",
      "Tuned Tree        0.6717         (63, 93, 20, 311)\n",
      "\n"
     ]
    }
   ],
   "source": [
    "# comparing results\n",
    "print(f\"\"\"\n",
    "Model              AUC Score      TN, FP, FN, TP\n",
    "-----               ---------      --------------\n",
    "Tuned Tree        {tree_tuned_auc}         {tuned_tree_tn, tuned_tree_fp, tuned_tree_fn, tuned_tree_tp}\n",
    "\"\"\")\n",
    "\n",
    "# creating a dictionary for model results\n",
    "model_performance = {\n",
    "    \n",
    "    'Model Name'    : ['Tuned Tree'],\n",
    "           \n",
    "    'AUC Score'     : [tree_tuned_auc],\n",
    "    \n",
    "    'Training Accuracy' : [tree_tuned_train_score],\n",
    "           \n",
    "    'Testing Accuracy'  : [tree_tuned_test_score],\n",
    "\n",
    "    'Confusion Matrix'  : [(lr_tuned_tn, lr_tuned_fp, lr_tuned_fn, lr_tuned_tp)]\n",
    "}\n",
    "\n",
    "\n",
    "# converting model_performance into a DataFrame\n",
    "model_performance = pd.DataFrame(model_performance)\n",
    "\n",
    "\n",
    "# sending model results to Excel\n",
    "model_performance.to_excel('./model_results/final_app_chef_classification_model_performance.xlsx',\n",
    "                           index = False)"
   ]
  },
  {
   "cell_type": "code",
   "execution_count": null,
   "metadata": {},
   "outputs": [],
   "source": []
  },
  {
   "cell_type": "code",
   "execution_count": null,
   "metadata": {},
   "outputs": [],
   "source": []
  },
  {
   "cell_type": "code",
   "execution_count": null,
   "metadata": {},
   "outputs": [],
   "source": []
  },
  {
   "cell_type": "code",
   "execution_count": null,
   "metadata": {},
   "outputs": [],
   "source": []
  },
  {
   "cell_type": "code",
   "execution_count": null,
   "metadata": {},
   "outputs": [],
   "source": []
  },
  {
   "cell_type": "code",
   "execution_count": null,
   "metadata": {},
   "outputs": [],
   "source": []
  },
  {
   "cell_type": "code",
   "execution_count": null,
   "metadata": {},
   "outputs": [],
   "source": []
  },
  {
   "cell_type": "code",
   "execution_count": null,
   "metadata": {},
   "outputs": [],
   "source": []
  }
 ],
 "metadata": {
  "kernelspec": {
   "display_name": "Python 3",
   "language": "python",
   "name": "python3"
  },
  "language_info": {
   "codemirror_mode": {
    "name": "ipython",
    "version": 3
   },
   "file_extension": ".py",
   "mimetype": "text/x-python",
   "name": "python",
   "nbconvert_exporter": "python",
   "pygments_lexer": "ipython3",
   "version": "3.8.3"
  },
  "toc": {
   "base_numbering": 1,
   "nav_menu": {},
   "number_sections": true,
   "sideBar": true,
   "skip_h1_title": false,
   "title_cell": "Table of Contents",
   "title_sidebar": "Contents",
   "toc_cell": false,
   "toc_position": {
    "height": "calc(100% - 180px)",
    "left": "10px",
    "top": "150px",
    "width": "384px"
   },
   "toc_section_display": true,
   "toc_window_display": true
  },
  "varInspector": {
   "cols": {
    "lenName": 16,
    "lenType": 16,
    "lenVar": 40
   },
   "kernels_config": {
    "python": {
     "delete_cmd_postfix": "",
     "delete_cmd_prefix": "del ",
     "library": "var_list.py",
     "varRefreshCmd": "print(var_dic_list())"
    },
    "r": {
     "delete_cmd_postfix": ") ",
     "delete_cmd_prefix": "rm(",
     "library": "var_list.r",
     "varRefreshCmd": "cat(var_dic_list()) "
    }
   },
   "types_to_exclude": [
    "module",
    "function",
    "builtin_function_or_method",
    "instance",
    "_Feature"
   ],
   "window_display": false
  }
 },
 "nbformat": 4,
 "nbformat_minor": 4
}
