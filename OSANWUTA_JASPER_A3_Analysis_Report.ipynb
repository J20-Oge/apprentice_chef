{
 "cells": [
  {
   "cell_type": "markdown",
   "metadata": {},
   "source": [
    "#  Introduction "
   ]
  },
  {
   "cell_type": "markdown",
   "metadata": {},
   "source": [
    "The dataset comes from the data science team at Apprentice Chef, and this first case is related to revenue from the company. THE GOAL IS TO BUILD A MACHINE LEARNING MODEL TO PREDICT REVENUE OVER THE FIRST YEAR OF EACH CUSTOMER'S LIFE CYCLE.\n",
    "\n",
    "The second case is to related to Apprentice Chef's cross-selling promotion, Halfway There; where subscribers receive a half bottle of wine from a local vineyard every Wednesday(halfway through the week). Apprentice Chef would like to promote this service to a wider audience. THE GOAL OF THIS CASE IS TO BUILD A MACHINE LEARNING MODEL TO PREDICT WHICH CUSTOMER WILL SUBSCRIBE TO THE SERVICE."
   ]
  },
  {
   "cell_type": "code",
   "execution_count": 1,
   "metadata": {},
   "outputs": [
    {
     "data": {
      "text/html": [
       "<div>\n",
       "<style scoped>\n",
       "    .dataframe tbody tr th:only-of-type {\n",
       "        vertical-align: middle;\n",
       "    }\n",
       "\n",
       "    .dataframe tbody tr th {\n",
       "        vertical-align: top;\n",
       "    }\n",
       "\n",
       "    .dataframe thead th {\n",
       "        text-align: right;\n",
       "    }\n",
       "</style>\n",
       "<table border=\"1\" class=\"dataframe\">\n",
       "  <thead>\n",
       "    <tr style=\"text-align: right;\">\n",
       "      <th></th>\n",
       "      <th>REVENUE</th>\n",
       "      <th>CROSS_SELL_SUCCESS</th>\n",
       "      <th>NAME</th>\n",
       "      <th>EMAIL</th>\n",
       "      <th>FIRST_NAME</th>\n",
       "      <th>FAMILY_NAME</th>\n",
       "      <th>TOTAL_MEALS_ORDERED</th>\n",
       "      <th>UNIQUE_MEALS_PURCH</th>\n",
       "      <th>CONTACTS_W_CUSTOMER_SERVICE</th>\n",
       "      <th>PRODUCT_CATEGORIES_VIEWED</th>\n",
       "      <th>AVG_TIME_PER_SITE_VISIT</th>\n",
       "      <th>MOBILE_NUMBER</th>\n",
       "      <th>CANCELLATIONS_BEFORE_NOON</th>\n",
       "      <th>CANCELLATIONS_AFTER_NOON</th>\n",
       "      <th>TASTES_AND_PREFERENCES</th>\n",
       "      <th>PC_LOGINS</th>\n",
       "      <th>MOBILE_LOGINS</th>\n",
       "      <th>WEEKLY_PLAN</th>\n",
       "      <th>EARLY_DELIVERIES</th>\n",
       "      <th>LATE_DELIVERIES</th>\n",
       "      <th>PACKAGE_LOCKER</th>\n",
       "      <th>REFRIGERATED_LOCKER</th>\n",
       "      <th>AVG_PREP_VID_TIME</th>\n",
       "      <th>LARGEST_ORDER_SIZE</th>\n",
       "      <th>MASTER_CLASSES_ATTENDED</th>\n",
       "      <th>MEDIAN_MEAL_RATING</th>\n",
       "      <th>AVG_CLICKS_PER_VISIT</th>\n",
       "      <th>TOTAL_PHOTOS_VIEWED</th>\n",
       "    </tr>\n",
       "  </thead>\n",
       "  <tbody>\n",
       "    <tr>\n",
       "      <th>0</th>\n",
       "      <td>393.0</td>\n",
       "      <td>1</td>\n",
       "      <td>Saathos</td>\n",
       "      <td>saathos@unitedhealth.com</td>\n",
       "      <td>Saathos</td>\n",
       "      <td>Saathos</td>\n",
       "      <td>14</td>\n",
       "      <td>6</td>\n",
       "      <td>12</td>\n",
       "      <td>10</td>\n",
       "      <td>48.00</td>\n",
       "      <td>1</td>\n",
       "      <td>3</td>\n",
       "      <td>1</td>\n",
       "      <td>1</td>\n",
       "      <td>5</td>\n",
       "      <td>2</td>\n",
       "      <td>0</td>\n",
       "      <td>0</td>\n",
       "      <td>2</td>\n",
       "      <td>0</td>\n",
       "      <td>0</td>\n",
       "      <td>33.4</td>\n",
       "      <td>1</td>\n",
       "      <td>0</td>\n",
       "      <td>1</td>\n",
       "      <td>17</td>\n",
       "      <td>0</td>\n",
       "    </tr>\n",
       "    <tr>\n",
       "      <th>1</th>\n",
       "      <td>1365.0</td>\n",
       "      <td>1</td>\n",
       "      <td>Alysanne Osgrey</td>\n",
       "      <td>alysanne.osgrey@ge.org</td>\n",
       "      <td>Alysanne</td>\n",
       "      <td>Osgrey</td>\n",
       "      <td>87</td>\n",
       "      <td>3</td>\n",
       "      <td>8</td>\n",
       "      <td>8</td>\n",
       "      <td>40.35</td>\n",
       "      <td>1</td>\n",
       "      <td>0</td>\n",
       "      <td>0</td>\n",
       "      <td>1</td>\n",
       "      <td>5</td>\n",
       "      <td>1</td>\n",
       "      <td>12</td>\n",
       "      <td>0</td>\n",
       "      <td>2</td>\n",
       "      <td>0</td>\n",
       "      <td>0</td>\n",
       "      <td>84.8</td>\n",
       "      <td>1</td>\n",
       "      <td>0</td>\n",
       "      <td>3</td>\n",
       "      <td>13</td>\n",
       "      <td>170</td>\n",
       "    </tr>\n",
       "    <tr>\n",
       "      <th>2</th>\n",
       "      <td>800.0</td>\n",
       "      <td>1</td>\n",
       "      <td>Edwyd Fossoway</td>\n",
       "      <td>edwyd.fossoway@jnj.com</td>\n",
       "      <td>Edwyd</td>\n",
       "      <td>Fossoway</td>\n",
       "      <td>15</td>\n",
       "      <td>7</td>\n",
       "      <td>11</td>\n",
       "      <td>5</td>\n",
       "      <td>19.77</td>\n",
       "      <td>1</td>\n",
       "      <td>3</td>\n",
       "      <td>0</td>\n",
       "      <td>1</td>\n",
       "      <td>6</td>\n",
       "      <td>1</td>\n",
       "      <td>1</td>\n",
       "      <td>0</td>\n",
       "      <td>1</td>\n",
       "      <td>0</td>\n",
       "      <td>0</td>\n",
       "      <td>63.0</td>\n",
       "      <td>1</td>\n",
       "      <td>0</td>\n",
       "      <td>2</td>\n",
       "      <td>16</td>\n",
       "      <td>0</td>\n",
       "    </tr>\n",
       "    <tr>\n",
       "      <th>3</th>\n",
       "      <td>600.0</td>\n",
       "      <td>1</td>\n",
       "      <td>Eleyna Westerling</td>\n",
       "      <td>eleyna.westerling@ge.org</td>\n",
       "      <td>Eleyna</td>\n",
       "      <td>Westerling</td>\n",
       "      <td>13</td>\n",
       "      <td>6</td>\n",
       "      <td>11</td>\n",
       "      <td>5</td>\n",
       "      <td>90.00</td>\n",
       "      <td>1</td>\n",
       "      <td>2</td>\n",
       "      <td>0</td>\n",
       "      <td>1</td>\n",
       "      <td>6</td>\n",
       "      <td>1</td>\n",
       "      <td>14</td>\n",
       "      <td>0</td>\n",
       "      <td>3</td>\n",
       "      <td>0</td>\n",
       "      <td>0</td>\n",
       "      <td>43.8</td>\n",
       "      <td>1</td>\n",
       "      <td>0</td>\n",
       "      <td>2</td>\n",
       "      <td>14</td>\n",
       "      <td>0</td>\n",
       "    </tr>\n",
       "    <tr>\n",
       "      <th>4</th>\n",
       "      <td>1490.0</td>\n",
       "      <td>1</td>\n",
       "      <td>Elyn Norridge</td>\n",
       "      <td>elyn.norridge@jnj.com</td>\n",
       "      <td>Elyn</td>\n",
       "      <td>Norridge</td>\n",
       "      <td>47</td>\n",
       "      <td>8</td>\n",
       "      <td>6</td>\n",
       "      <td>10</td>\n",
       "      <td>40.38</td>\n",
       "      <td>1</td>\n",
       "      <td>0</td>\n",
       "      <td>0</td>\n",
       "      <td>0</td>\n",
       "      <td>5</td>\n",
       "      <td>1</td>\n",
       "      <td>5</td>\n",
       "      <td>0</td>\n",
       "      <td>8</td>\n",
       "      <td>0</td>\n",
       "      <td>0</td>\n",
       "      <td>84.8</td>\n",
       "      <td>1</td>\n",
       "      <td>1</td>\n",
       "      <td>3</td>\n",
       "      <td>12</td>\n",
       "      <td>205</td>\n",
       "    </tr>\n",
       "  </tbody>\n",
       "</table>\n",
       "</div>"
      ],
      "text/plain": [
       "   REVENUE  CROSS_SELL_SUCCESS               NAME                     EMAIL FIRST_NAME FAMILY_NAME  TOTAL_MEALS_ORDERED  UNIQUE_MEALS_PURCH  CONTACTS_W_CUSTOMER_SERVICE  PRODUCT_CATEGORIES_VIEWED  AVG_TIME_PER_SITE_VISIT  MOBILE_NUMBER  CANCELLATIONS_BEFORE_NOON  CANCELLATIONS_AFTER_NOON  TASTES_AND_PREFERENCES  PC_LOGINS  MOBILE_LOGINS  WEEKLY_PLAN  EARLY_DELIVERIES  LATE_DELIVERIES  PACKAGE_LOCKER  REFRIGERATED_LOCKER  AVG_PREP_VID_TIME  LARGEST_ORDER_SIZE  MASTER_CLASSES_ATTENDED  MEDIAN_MEAL_RATING  AVG_CLICKS_PER_VISIT  TOTAL_PHOTOS_VIEWED\n",
       "0    393.0                   1            Saathos  saathos@unitedhealth.com    Saathos     Saathos                   14                   6                           12                         10                    48.00              1                          3                         1                       1          5              2            0                 0                2               0                    0               33.4                   1                        0                   1                    17                    0\n",
       "1   1365.0                   1    Alysanne Osgrey    alysanne.osgrey@ge.org   Alysanne      Osgrey                   87                   3                            8                          8                    40.35              1                          0                         0                       1          5              1           12                 0                2               0                    0               84.8                   1                        0                   3                    13                  170\n",
       "2    800.0                   1     Edwyd Fossoway    edwyd.fossoway@jnj.com      Edwyd    Fossoway                   15                   7                           11                          5                    19.77              1                          3                         0                       1          6              1            1                 0                1               0                    0               63.0                   1                        0                   2                    16                    0\n",
       "3    600.0                   1  Eleyna Westerling  eleyna.westerling@ge.org     Eleyna  Westerling                   13                   6                           11                          5                    90.00              1                          2                         0                       1          6              1           14                 0                3               0                    0               43.8                   1                        0                   2                    14                    0\n",
       "4   1490.0                   1      Elyn Norridge     elyn.norridge@jnj.com       Elyn    Norridge                   47                   8                            6                         10                    40.38              1                          0                         0                       0          5              1            5                 0                8               0                    0               84.8                   1                        1                   3                    12                  205"
      ]
     },
     "execution_count": 1,
     "metadata": {},
     "output_type": "execute_result"
    }
   ],
   "source": [
    "# importing libraries\n",
    "import pandas as pd # Data Science essentials\n",
    "import matplotlib.pyplot as plt # Data visualization essentials \n",
    "import seaborn as sns # Enhanced data visualization essentials \n",
    "import numpy as np # Mathemetical essentials \n",
    "import statsmodels.formula.api as smf # Regression modelling\n",
    "from sklearn.linear_model import LinearRegression# linear regression (scikit-learn)\n",
    "from sklearn.model_selection import train_test_split # train/test split\n",
    "from sklearn.preprocessing import StandardScaler # standard scaler\n",
    "from sklearn.linear_model import LogisticRegression  # logistic regression\n",
    "import statsmodels.formula.api as smf                # logistic regression\n",
    "from sklearn.metrics import confusion_matrix         # confusion matrix\n",
    "from sklearn.metrics import roc_auc_score            # auc score\n",
    "from sklearn.model_selection import RandomizedSearchCV     # hyperparameter tuning\n",
    "from sklearn.metrics import make_scorer              # customizable scorer\n",
    "from sklearn.tree import DecisionTreeClassifier      # classification trees\n",
    "from sklearn.tree import export_graphviz             # exports graphics\n",
    "from six import StringIO           # saves objects in memory\n",
    "from IPython.display import Image                    # displays on frontend\n",
    "import pydotplus                                     # interprets dot objects\n",
    "\n",
    "\n",
    "# setting pandas print options\n",
    "pd.set_option('display.max_rows', 500)\n",
    "pd.set_option('display.max_columns', 500)\n",
    "pd.set_option('display.width', 1000)\n",
    "\n",
    "# File name\n",
    "file = 'Apprentice_Chef_Dataset2.xlsx'\n",
    "\n",
    "## Reading the file into python \n",
    "app_chef = pd.read_excel(io = file)\n",
    "\n",
    "## Reading the file for the halfwaythere case \n",
    "#app_chef_ht = app_chef.copy()\n",
    "\n",
    "\n",
    "# Checking the first five rows of the dataset \n",
    "app_chef.head(n = 5)"
   ]
  },
  {
   "cell_type": "code",
   "execution_count": 2,
   "metadata": {
    "scrolled": true
   },
   "outputs": [
    {
     "name": "stdout",
     "output_type": "stream",
     "text": [
      "\n",
      "Size of Original Dataset\n",
      "------------------------\n",
      "Observations: 1946\n",
      "Features:     28\n",
      "\n",
      "\n",
      "Each customer met at least one of the following criteria:\n",
      "• at least one purchase per month for a total of 11 of their first 12 months\n",
      "• at least one purchase per quarter and at least 15 purchases throughout their first year\n",
      "\n",
      "\n"
     ]
    }
   ],
   "source": [
    "# formatting and printing the dimensions of the dataset\n",
    "print(f\"\"\"\n",
    "Size of Original Dataset\n",
    "------------------------\n",
    "Observations: {app_chef.shape[0]}\n",
    "Features:     {app_chef.shape[1]}\n",
    "\n",
    "\n",
    "Each customer met at least one of the following criteria:\n",
    "• at least one purchase per month for a total of 11 of their first 12 months\n",
    "• at least one purchase per quarter and at least 15 purchases throughout their first year\n",
    "\n",
    "\"\"\")"
   ]
  },
  {
   "cell_type": "markdown",
   "metadata": {},
   "source": [
    "# Case 1: Revenue"
   ]
  },
  {
   "cell_type": "markdown",
   "metadata": {},
   "source": [
    "## Feature Engineering  "
   ]
  },
  {
   "cell_type": "markdown",
   "metadata": {},
   "source": [
    "In this process, I extracted new features from the dataset provided to try to improve the performance of the model in predicting revenue. \n",
    "\n",
    "The following new features we're created:\n",
    "1. Email domain group: Junk, Professional and Personal\n",
    "2. Has canceled an order \n",
    "3. Has a package order \n",
    "4. Total cancellations \n",
    "5. Average Spending\n"
   ]
  },
  {
   "cell_type": "code",
   "execution_count": 3,
   "metadata": {},
   "outputs": [
    {
     "data": {
      "text/plain": [
       "PERSONAL        861\n",
       "PROFESSIONAL    696\n",
       "JUNK            389\n",
       "Name: email_domain_group, dtype: int64"
      ]
     },
     "execution_count": 3,
     "metadata": {},
     "output_type": "execute_result"
    }
   ],
   "source": [
    "#Categorical variables: Email domains \n",
    "# STEP 1: splitting personal emails\n",
    "\n",
    "# placeholder list\n",
    "placeholder_lst = []\n",
    "\n",
    "# looping over each email address\n",
    "for index, col in app_chef.iterrows():\n",
    "    \n",
    "    # splitting email domain at '@'\n",
    "    split_email = app_chef.loc[index, 'EMAIL'].split(sep = '@')\n",
    "    \n",
    "    # appending placeholder_lst with the results\n",
    "    placeholder_lst.append(split_email)\n",
    "    \n",
    "\n",
    "# converting placeholder_lst into a DataFrame \n",
    "email_df = pd.DataFrame(placeholder_lst)\n",
    "\n",
    "\n",
    "# displaying the results\n",
    "email_df\n",
    "\n",
    "\n",
    "\n",
    "# STEP 2: concatenating with original DataFrame\n",
    "\n",
    "# safety measure in case of multiple concatenations\n",
    "app_chef = pd.read_excel(file)\n",
    "\n",
    "\n",
    "# renaming column to concatenate\n",
    "email_df.columns = [ '0' , 'EMAIL_DOMAIN' ]\n",
    "\n",
    "\n",
    "# concatenating personal_email_domain with friends DataFrame\n",
    "app_chef = pd.concat([  app_chef, email_df['EMAIL_DOMAIN']  ],\n",
    "                   axis = 1)\n",
    "\n",
    "\n",
    "# printing value counts of personal_email_domain\n",
    "app_chef.loc[ : ,'EMAIL_DOMAIN'].value_counts()\n",
    "\n",
    "\n",
    "#Aggregating the email domains into personal and professional and junk groups\n",
    "# email domain types\n",
    "professional_email_domains = ['@mmm.com', '@amex.com',\n",
    "                              '@apple.com', '@boeing.com',\n",
    "                              '@caterpillar.com', '@chevron.com',\n",
    "                              '@cisco.com', '@cocacola.com', \n",
    "                              '@disney.com', '@dupont.com',\n",
    "                              '@exxon.com', '@ge.org',\n",
    "                              '@goldmansacs.com', '@homedepot.com',\n",
    "                              '@ibm.com','@intel.com',\n",
    "                              '@jnj.com', '@jpmorgan.com',\n",
    "                              '@mcdonalds.com', '@merck.com',\n",
    "                              '@microsoft.com', '@nike.com',\n",
    "                              '@pfizer.com', '@pg.com',\n",
    "                              '@travelers.com', '@unitedtech.com',\n",
    "                              '@unitedhealth.com', '@verizon.com',\n",
    "                              '@visa.com', '@walmart.com']\n",
    "\n",
    "personal_email_domains  = ['@gmail.com', '@yahoo.com', '@protonmail.com']\n",
    "\n",
    "junk_email_domains = ['@me.com', '@aol.com',\n",
    "                      '@hotmail.com', '@live.com',\n",
    "                      '@msn.com', '@passport.com']\n",
    "\n",
    "\n",
    "# placeholder list\n",
    "placeholder_lst = []\n",
    "\n",
    "\n",
    "# looping to group observations by domain type\n",
    "for domain in app_chef['EMAIL_DOMAIN']:\n",
    "        if '@' + domain in professional_email_domains:\n",
    "            placeholder_lst.append('PROFESSIONAL')\n",
    "            \n",
    "        elif '@' + domain in personal_email_domains:\n",
    "                placeholder_lst.append('PERSONAL')\n",
    "            \n",
    "        elif '@' + domain in junk_email_domains:\n",
    "                placeholder_lst.append('JUNK')\n",
    "            \n",
    "        else:\n",
    "            print('Unknown')\n",
    "\n",
    "\n",
    "# concatenating with original DataFrame\n",
    "app_chef['email_domain_group'] = pd.Series(placeholder_lst)\n",
    "\n",
    "\n",
    "# checking results\n",
    "app_chef['email_domain_group'].value_counts()\n",
    "\n",
    "\n"
   ]
  },
  {
   "cell_type": "code",
   "execution_count": 4,
   "metadata": {},
   "outputs": [
    {
     "name": "stdout",
     "output_type": "stream",
     "text": [
      "\n",
      "The percentage of customers that used emails in the junk email domain to register for Apprentice Chef's services is 19.98972250770812%.\n",
      "Approximately 20%.\n",
      "\n",
      "\n"
     ]
    }
   ],
   "source": [
    "# Quick Calculation \n",
    "\n",
    "PERSONAL      =  861\n",
    "PROFESSIONAL  =  696\n",
    "JUNK         =   389\n",
    "\n",
    "email_domain = PERSONAL + PROFESSIONAL + JUNK\n",
    "\n",
    "pct_junk = (JUNK/email_domain)*100\n",
    "\n",
    "\n",
    "print(f\"\"\"\n",
    "The percentage of customers that used emails in the junk email domain to register for Apprentice Chef's services is {pct_junk}%.\n",
    "Approximately 20%.\n",
    "\n",
    "\"\"\")"
   ]
  },
  {
   "cell_type": "code",
   "execution_count": 5,
   "metadata": {},
   "outputs": [],
   "source": [
    "# STEP3: One-Hot Encoding\n",
    "one_hot_email_domain = pd.get_dummies(app_chef['email_domain_group'])\n",
    "\n",
    "# dropping original columns and keeping the encoded ones \n",
    "app_chef = app_chef.drop(['email_domain_group','EMAIL',\n",
    "                                  'EMAIL_DOMAIN'], axis = 1)\n",
    "\n",
    "\n",
    "# Adding encoded columns to dataset \n",
    "app_chef = app_chef.join(one_hot_email_domain)\n",
    "\n",
    "\n",
    "# Showing the output of the first engineered feature \n",
    "#app_chef[['JUNK', 'PERSONAL', 'PROFESSIONAL']].head()"
   ]
  },
  {
   "cell_type": "code",
   "execution_count": 6,
   "metadata": {},
   "outputs": [],
   "source": [
    "# Dummy variable for cancellations and locker \n",
    "app_chef['has_cancelled'] = 0\n",
    "app_chef['has_locker'] = 0\n",
    " \n",
    "\n",
    "for index, value in app_chef.iterrows():\n",
    "    # Cancellations before noon \n",
    "    if app_chef.loc [index, 'CANCELLATIONS_BEFORE_NOON'] > 0:\n",
    "        app_chef.loc [index, 'has_cancelled'] = 1\n",
    "   \n",
    "    # Cancellations after noon\n",
    "    if app_chef.loc [index, 'CANCELLATIONS_AFTER_NOON'] > 0:\n",
    "        app_chef.loc [index, 'has_cancelled'] = 1\n",
    "    \n",
    "    # Package locker\n",
    "    if app_chef.loc [index, 'PACKAGE_LOCKER'] > 0:\n",
    "        app_chef.loc [index, 'has_locker'] = 1\n",
    "        \n",
    "    # Refrigerated locker \n",
    "    if app_chef.loc [index, 'REFRIGERATED_LOCKER'] > 0:\n",
    "        app_chef.loc [index, 'has_locker'] = 1\n",
    "        \n",
    "# Showing output for second engineered feature \n",
    "# Just checking \n",
    "#app_chef[['has_cancelled', 'has_locker']].head()\n"
   ]
  },
  {
   "cell_type": "code",
   "execution_count": 7,
   "metadata": {},
   "outputs": [],
   "source": [
    "# Total Cancellations \n",
    "app_chef['Total_Cancellations'] = app_chef['CANCELLATIONS_BEFORE_NOON'] + app_chef['CANCELLATIONS_AFTER_NOON']"
   ]
  },
  {
   "cell_type": "code",
   "execution_count": 8,
   "metadata": {},
   "outputs": [],
   "source": [
    "# Averege Spending\n",
    "# Average speding per customer \n",
    "app_chef['av_spending'] = (app_chef['REVENUE']\n",
    "                           /app_chef['TOTAL_MEALS_ORDERED'])#.round(0)\n",
    "\n"
   ]
  },
  {
   "cell_type": "markdown",
   "metadata": {},
   "source": [
    "## Correlation Analysis  "
   ]
  },
  {
   "cell_type": "code",
   "execution_count": 9,
   "metadata": {},
   "outputs": [
    {
     "data": {
      "text/plain": [
       "REVENUE                        1.00\n",
       "AVG_PREP_VID_TIME              0.64\n",
       "MEDIAN_MEAL_RATING             0.61\n",
       "TOTAL_MEALS_ORDERED            0.60\n",
       "TOTAL_PHOTOS_VIEWED            0.47\n",
       "MASTER_CLASSES_ATTENDED        0.45\n",
       "LARGEST_ORDER_SIZE             0.44\n",
       "AVG_TIME_PER_SITE_VISIT        0.14\n",
       "CONTACTS_W_CUSTOMER_SERVICE    0.10\n",
       "PRODUCT_CATEGORIES_VIEWED      0.03\n",
       "MOBILE_NUMBER                  0.03\n",
       "av_spending                    0.02\n",
       "PC_LOGINS                      0.02\n",
       "CANCELLATIONS_BEFORE_NOON      0.01\n",
       "PERSONAL                       0.01\n",
       "TASTES_AND_PREFERENCES         0.01\n",
       "WEEKLY_PLAN                    0.01\n",
       "has_cancelled                  0.01\n",
       "PROFESSIONAL                   0.01\n",
       "EARLY_DELIVERIES              -0.00\n",
       "CROSS_SELL_SUCCESS             0.00\n",
       "Total_Cancellations            0.00\n",
       "REFRIGERATED_LOCKER           -0.00\n",
       "has_locker                    -0.01\n",
       "LATE_DELIVERIES               -0.01\n",
       "PACKAGE_LOCKER                -0.01\n",
       "JUNK                          -0.02\n",
       "MOBILE_LOGINS                 -0.02\n",
       "CANCELLATIONS_AFTER_NOON      -0.04\n",
       "UNIQUE_MEALS_PURCH            -0.06\n",
       "AVG_CLICKS_PER_VISIT          -0.55\n",
       "Name: REVENUE, dtype: float64"
      ]
     },
     "execution_count": 9,
     "metadata": {},
     "output_type": "execute_result"
    }
   ],
   "source": [
    "# Pearson Correlation between the response variable (cross_sell_success) and the explanatory variables \n",
    "df_corr = app_chef.corr(method = 'pearson').round(decimals = 2)\n",
    "\n",
    "df_corr['REVENUE'].sort_values(ascending = False)"
   ]
  },
  {
   "cell_type": "markdown",
   "metadata": {},
   "source": [
    "## Regression Analysis: OLS Regression "
   ]
  },
  {
   "cell_type": "markdown",
   "metadata": {},
   "source": [
    "I used the OLS regression to clearly identify the features that affect revenue. "
   ]
  },
  {
   "cell_type": "code",
   "execution_count": 10,
   "metadata": {},
   "outputs": [],
   "source": [
    "# Logging  \n",
    "app_chef['log_revenue'] = np.log(app_chef['REVENUE'])\n",
    "app_chef['log_tmo'] = np.log(app_chef['TOTAL_MEALS_ORDERED'])\n",
    "app_chef['log_atpv'] = np.log(app_chef['AVG_TIME_PER_SITE_VISIT'])\n",
    "app_chef['log_ave_prep_vid_time'] = np.log(app_chef['AVG_PREP_VID_TIME'])"
   ]
  },
  {
   "cell_type": "code",
   "execution_count": 11,
   "metadata": {},
   "outputs": [],
   "source": [
    "# preparing explanatory variable data\n",
    "app_chef_data = app_chef.drop(['REVENUE','log_revenue','NAME', 'FIRST_NAME',\n",
    "                               'FAMILY_NAME', 'TOTAL_MEALS_ORDERED',\n",
    "                               'AVG_TIME_PER_SITE_VISIT','AVG_PREP_VID_TIME'\n",
    "                                                  ], axis = 1)\n",
    "\n",
    "\n",
    "\n",
    "# preparing response variable data\n",
    "app_chef_target = app_chef.loc[:, 'REVENUE']\n",
    "\n",
    "\n",
    "# preparing training and testing sets\n",
    "x_train, x_test, y_train, y_test = train_test_split(\n",
    "            app_chef_data,\n",
    "            app_chef_target,\n",
    "            test_size = 0.25,\n",
    "            random_state = 219)\n",
    "\n"
   ]
  },
  {
   "cell_type": "code",
   "execution_count": 12,
   "metadata": {},
   "outputs": [],
   "source": [
    "# declaring set of x-variables that are significant \n",
    "x_variables = [ 'CONTACTS_W_CUSTOMER_SERVICE',\n",
    "                                        'LATE_DELIVERIES',\n",
    "                                        'MASTER_CLASSES_ATTENDED',\n",
    "                                        'MEDIAN_MEAL_RATING',\n",
    "                                       'AVG_CLICKS_PER_VISIT',\n",
    "                                        'TOTAL_PHOTOS_VIEWED',\n",
    "                                        'JUNK',\n",
    "                                        'PERSONAL',\n",
    "                                        'PROFESSIONAL',\n",
    "                                        'log_tmo',\n",
    "                                        'log_ave_prep_vid_time',\n",
    "                                        'av_spending', ]\n",
    "\n",
    "\n",
    "# looping to make x-variables suitable for statsmodels\n",
    "#for val in x_variables:\n",
    "    #print(f\"{val} +\")"
   ]
  },
  {
   "cell_type": "code",
   "execution_count": 13,
   "metadata": {},
   "outputs": [],
   "source": [
    "# applying modelin scikit-learn\n",
    "\n",
    "# preparing x-variables from the OLS model\n",
    "ols_data = app_chef[x_variables]\n",
    "\n",
    "# OLS p-value x-dataset (normal Y)\n",
    "# Dont forget to put the OLS below \n",
    "x_train_OLS, x_test_OLS, y_train_OLS, y_test_OLS = train_test_split(\n",
    "            ols_data,         # x-variables\n",
    "            app_chef_target,   # y-variable\n",
    "            test_size = 0.25,\n",
    "            random_state = 219)\n"
   ]
  },
  {
   "cell_type": "code",
   "execution_count": 14,
   "metadata": {},
   "outputs": [
    {
     "name": "stdout",
     "output_type": "stream",
     "text": [
      "OLS Training Score : 0.8337\n",
      "OLS Testing Score  : 0.8393\n",
      "OLS Train-Test Gap : 0.0056\n"
     ]
    }
   ],
   "source": [
    "# INSTANTIATING a model object\n",
    "lr = LinearRegression()\n",
    "\n",
    "\n",
    "# FITTING to the training data\n",
    "lr_fit = lr.fit(x_train_OLS, y_train_OLS)\n",
    "\n",
    "\n",
    "# PREDICTING on new data\n",
    "lr_pred = lr_fit.predict(x_test_OLS)\n",
    "\n",
    "\n",
    "# SCORING the results\n",
    "print('OLS Training Score :', lr.score(x_train_OLS, y_train_OLS).round(4))  # using R-square\n",
    "print('OLS Testing Score  :',  lr.score(x_test_OLS, y_test_OLS).round(4)) # using R-square\n",
    "\n",
    "# Saving scoring results\n",
    "lr_train_score = lr.score(x_train_OLS, y_train_OLS).round(4)\n",
    "lr_test_score = lr.score(x_test_OLS, y_test_OLS).round(4)\n",
    "\n",
    "# displaying and saving the gap between training and testing\n",
    "print('OLS Train-Test Gap :', abs(lr_train_score - lr_test_score).round(4))\n",
    "lr_test_gap = abs(lr_train_score - lr_test_score).round(4)"
   ]
  },
  {
   "cell_type": "markdown",
   "metadata": {},
   "source": [
    "The regression model created performed very well with a score of approximately 84%"
   ]
  },
  {
   "cell_type": "code",
   "execution_count": 15,
   "metadata": {},
   "outputs": [
    {
     "name": "stdout",
     "output_type": "stream",
     "text": [
      "('intercept', -7696.12)\n",
      "('CONTACTS_W_CUSTOMER_SERVICE', 18.15)\n",
      "('LATE_DELIVERIES', 11.53)\n",
      "('MASTER_CLASSES_ATTENDED', 91.53)\n",
      "('MEDIAN_MEAL_RATING', 51.39)\n",
      "('AVG_CLICKS_PER_VISIT', -28.07)\n",
      "('TOTAL_PHOTOS_VIEWED', 0.57)\n",
      "('JUNK', -39.6)\n",
      "('PERSONAL', 16.82)\n",
      "('PROFESSIONAL', 22.78)\n",
      "('log_tmo', 1631.22)\n",
      "('log_ave_prep_vid_time', 285.85)\n",
      "('av_spending', 46.45)\n"
     ]
    }
   ],
   "source": [
    "# zipping each feature name to its coefficient\n",
    "lr_model_values = zip(app_chef_data[x_variables].columns,\n",
    "                      lr_fit.coef_.round(decimals = 2))\n",
    "\n",
    "\n",
    "# setting up a placeholder list to store model features\n",
    "lr_model_lst = [('intercept', lr_fit.intercept_.round(decimals = 2))]\n",
    "\n",
    "\n",
    "# printing out each feature-coefficient pair one by one\n",
    "for val in lr_model_values:\n",
    "    lr_model_lst.append(val)\n",
    "    \n",
    "\n",
    "# checking the results\n",
    "for pair in lr_model_lst:\n",
    "    print(pair)\n",
    "    "
   ]
  },
  {
   "cell_type": "code",
   "execution_count": 16,
   "metadata": {},
   "outputs": [
    {
     "data": {
      "text/plain": [
       "0.834"
      ]
     },
     "execution_count": 16,
     "metadata": {},
     "output_type": "execute_result"
    }
   ],
   "source": [
    "## R-Squared\n",
    "lr.score(x_train_OLS, y_train_OLS).round(3)"
   ]
  },
  {
   "cell_type": "markdown",
   "metadata": {},
   "source": [
    "The results above show the combined features that make up the regression model and their coefficients (in $) with R-Squared to be 83.4% and it accounts for the variation in REVENUE explained by the significant explanatory variables above."
   ]
  },
  {
   "cell_type": "markdown",
   "metadata": {},
   "source": [
    "### Insights from the Regression Model "
   ]
  },
  {
   "cell_type": "markdown",
   "metadata": {},
   "source": [
    "From the coefficients of the model features above, I'll be giving insight on the negatives and how to manage them. "
   ]
  },
  {
   "cell_type": "markdown",
   "metadata": {},
   "source": [
    "### Email Domain Group: Junk  "
   ]
  },
  {
   "cell_type": "markdown",
   "metadata": {},
   "source": [
    "Approximately 20% of Apprentice Chef's total customers registered using an email in the junk email domain category and for every email in the junk email domain category, Apprentice Chef looses approximately $40. People within this category maybe once in a blue moon customers or there may have been a time when these individuals paid for your service and didn't want to be fully committed to your service offerings hence the reason for using those emails.\n",
    "\n",
    "\n",
    "To fix / manage this, Apprentice Chef will need to:\n",
    "1. cut down on resources spent towards these customers \n",
    "2. monitor the usage of its services by these customers and in the end try to make the frequent visitors from this category commit. "
   ]
  },
  {
   "cell_type": "markdown",
   "metadata": {},
   "source": [
    "###  Avg Clicks per Visit "
   ]
  },
  {
   "cell_type": "markdown",
   "metadata": {},
   "source": [
    "Apprentice Chef should optimize its platforms (mobile apps, websites) toward easy navigation, get customers and potential customers engaged on their platforms and at the same time not load them with too much information or distractions as we understand the main reason individuals visit your platforms. If this is not properly managed, Apprentice Chef could lose approximately $28 per customer if those clicks fail to convert to purchases.\n",
    "\n",
    "To manage this, Apprentice Chef will need to:\n",
    "1. know the optimum number of clicks before purchase\n",
    "2. conduct A/B tests on platforms before introducing new features or modifications  "
   ]
  },
  {
   "cell_type": "markdown",
   "metadata": {},
   "source": [
    "# Case 2: Cross Sell Success"
   ]
  },
  {
   "cell_type": "code",
   "execution_count": 17,
   "metadata": {},
   "outputs": [
    {
     "data": {
      "text/plain": [
       "1    1321\n",
       "0     625\n",
       "Name: CROSS_SELL_SUCCESS, dtype: int64"
      ]
     },
     "execution_count": 17,
     "metadata": {},
     "output_type": "execute_result"
    }
   ],
   "source": [
    "app_chef['CROSS_SELL_SUCCESS'].value_counts()"
   ]
  },
  {
   "cell_type": "code",
   "execution_count": 18,
   "metadata": {},
   "outputs": [
    {
     "name": "stdout",
     "output_type": "stream",
     "text": [
      "Presently,\n",
      "percentage of customers that didn't subscribe to HALFWAY THERE is 32.11716341212744% and\n",
      "the percentage of customers that subscribed is 67.88283658787256%\n"
     ]
    },
    {
     "data": {
      "image/png": "[encoded data removed]",
      "text/plain": [
       "<Figure size 432x288 with 1 Axes>"
      ]
     },
     "metadata": {
      "needs_background": "light"
     },
     "output_type": "display_data"
    }
   ],
   "source": [
    "# PERCENTAGE OF SUBSCRIPTION\n",
    "count_no_sub = len(app_chef[app_chef['CROSS_SELL_SUCCESS']==0])\n",
    "\n",
    "count_sub = len(app_chef[app_chef['CROSS_SELL_SUCCESS']==1])\n",
    "\n",
    "pct_of_no_sub = count_no_sub/(count_no_sub+count_sub)\n",
    "print('Presently,')\n",
    "print(f\"\"\"percentage of customers that didn't subscribe to HALFWAY THERE is {pct_of_no_sub*100}% and\"\"\")\n",
    "\n",
    "pct_of_sub = count_sub/(count_no_sub+count_sub)\n",
    "print(f\"\"\"the percentage of customers that subscribed is {pct_of_sub*100}%\"\"\")\n",
    "\n",
    "# Visualization\n",
    "sns.countplot(x='CROSS_SELL_SUCCESS', data = app_chef, palette = 'hls')\n",
    "plt.show()"
   ]
  },
  {
   "cell_type": "markdown",
   "metadata": {},
   "source": [
    "## Correlation Analysis "
   ]
  },
  {
   "cell_type": "code",
   "execution_count": 19,
   "metadata": {},
   "outputs": [
    {
     "data": {
      "text/plain": [
       "CROSS_SELL_SUCCESS             1.00\n",
       "PROFESSIONAL                   0.19\n",
       "CANCELLATIONS_BEFORE_NOON      0.16\n",
       "Total_Cancellations            0.14\n",
       "has_cancelled                  0.10\n",
       "MOBILE_NUMBER                  0.10\n",
       "TASTES_AND_PREFERENCES         0.08\n",
       "REFRIGERATED_LOCKER            0.07\n",
       "PACKAGE_LOCKER                 0.04\n",
       "has_locker                     0.04\n",
       "CONTACTS_W_CUSTOMER_SERVICE    0.04\n",
       "PERSONAL                       0.04\n",
       "PC_LOGINS                      0.04\n",
       "MASTER_CLASSES_ATTENDED        0.04\n",
       "MEDIAN_MEAL_RATING             0.03\n",
       "AVG_PREP_VID_TIME              0.03\n",
       "log_ave_prep_vid_time          0.03\n",
       "EARLY_DELIVERIES               0.02\n",
       "LARGEST_ORDER_SIZE             0.02\n",
       "log_atpv                       0.02\n",
       "log_tmo                        0.02\n",
       "LATE_DELIVERIES                0.01\n",
       "log_revenue                    0.01\n",
       "TOTAL_MEALS_ORDERED            0.01\n",
       "AVG_TIME_PER_SITE_VISIT        0.01\n",
       "TOTAL_PHOTOS_VIEWED            0.01\n",
       "PRODUCT_CATEGORIES_VIEWED      0.00\n",
       "UNIQUE_MEALS_PURCH             0.00\n",
       "REVENUE                        0.00\n",
       "WEEKLY_PLAN                   -0.01\n",
       "av_spending                   -0.02\n",
       "AVG_CLICKS_PER_VISIT          -0.04\n",
       "CANCELLATIONS_AFTER_NOON      -0.05\n",
       "MOBILE_LOGINS                 -0.05\n",
       "JUNK                          -0.28\n",
       "Name: CROSS_SELL_SUCCESS, dtype: float64"
      ]
     },
     "execution_count": 19,
     "metadata": {},
     "output_type": "execute_result"
    }
   ],
   "source": [
    "# Pearson Correlation between the response variable (cross_sell_success) and the explanatory variables \n",
    "df_corr = app_chef.corr(method = 'pearson').round(decimals = 2)\n",
    "\n",
    "df_corr['CROSS_SELL_SUCCESS'].sort_values(ascending = False)"
   ]
  },
  {
   "cell_type": "markdown",
   "metadata": {},
   "source": [
    "## Regression Analysis: Logistic Regression AND Decision Tree"
   ]
  },
  {
   "cell_type": "markdown",
   "metadata": {},
   "source": [
    "In my logistic regression analysis, three different models and feature combinations, were created; namely logit_sig_1, _2 and _3. \n",
    "The reason for this was to try out the different combinations to see which would give the highest AUC-ROC curve score. After my selection, I went further to use a decision tree as it offers an efficient and convenient way to consider the potential choices for decision making and the number of possible outcomes. \n",
    "\n"
   ]
  },
  {
   "cell_type": "code",
   "execution_count": 20,
   "metadata": {},
   "outputs": [
    {
     "name": "stdout",
     "output_type": "stream",
     "text": [
      "\n",
      "/--------------------------\\\n",
      "|Explanatory Variable Sets |\n",
      "\\--------------------------/\n",
      "\n",
      "Full Model:\n",
      "-----------\n",
      "['TOTAL_MEALS_ORDERED', 'UNIQUE_MEALS_PURCH', 'CONTACTS_W_CUSTOMER_SERVICE', 'PRODUCT_CATEGORIES_VIEWED', 'AVG_TIME_PER_SITE_VISIT', 'MOBILE_NUMBER', 'CANCELLATIONS_BEFORE_NOON', 'CANCELLATIONS_AFTER_NOON', 'TASTES_AND_PREFERENCES', 'PC_LOGINS', 'MOBILE_LOGINS', 'WEEKLY_PLAN', 'EARLY_DELIVERIES', 'LATE_DELIVERIES', 'PACKAGE_LOCKER', 'REFRIGERATED_LOCKER', 'AVG_PREP_VID_TIME', 'LARGEST_ORDER_SIZE', 'MASTER_CLASSES_ATTENDED', 'MEDIAN_MEAL_RATING', 'AVG_CLICKS_PER_VISIT', 'TOTAL_PHOTOS_VIEWED']\n",
      "\n",
      "\n",
      "First Significant p-value Model:\n",
      "--------------------------------\n",
      "['MOBILE_NUMBER', 'CANCELLATIONS_BEFORE_NOON', 'TASTES_AND_PREFERENCES', 'PC_LOGINS', 'MASTER_CLASSES_ATTENDED', 'PERSONAL', 'PROFESSIONAL']\n",
      "\n",
      "\n",
      "Second Significant p-value Model:\n",
      "---------------------------------\n",
      "['MOBILE_NUMBER', 'CANCELLATIONS_BEFORE_NOON', 'TASTES_AND_PREFERENCES', 'PC_LOGINS', 'MASTER_CLASSES_ATTENDED', 'PERSONAL', 'PROFESSIONAL', 'out_avg_prep_vid_time', 'out_total_meals_ordered', 'out_early_deliveries', 'out_master_classes_attended']\n",
      "\n",
      "\n",
      "Thrid Significant p-value Model:\n",
      "---------------------------------\n",
      "['MOBILE_NUMBER', 'CANCELLATIONS_BEFORE_NOON', 'TASTES_AND_PREFERENCES', 'PERSONAL', 'PROFESSIONAL']\n",
      "\n",
      "\n"
     ]
    }
   ],
   "source": [
    "# creating a dictionary to store candidate models\n",
    "\n",
    "candidate_dict = {\n",
    "\n",
    " # full model\n",
    " 'logit_full'   : ['TOTAL_MEALS_ORDERED','UNIQUE_MEALS_PURCH','CONTACTS_W_CUSTOMER_SERVICE',\n",
    "                   'PRODUCT_CATEGORIES_VIEWED','AVG_TIME_PER_SITE_VISIT', 'MOBILE_NUMBER',\n",
    "                   'CANCELLATIONS_BEFORE_NOON', 'CANCELLATIONS_AFTER_NOON', 'TASTES_AND_PREFERENCES',\n",
    "                   'PC_LOGINS', 'MOBILE_LOGINS', 'WEEKLY_PLAN', 'EARLY_DELIVERIES',\n",
    "                   'LATE_DELIVERIES','PACKAGE_LOCKER','REFRIGERATED_LOCKER', 'AVG_PREP_VID_TIME',\n",
    "                   'LARGEST_ORDER_SIZE', 'MASTER_CLASSES_ATTENDED', 'MEDIAN_MEAL_RATING',\n",
    "                   'AVG_CLICKS_PER_VISIT', 'TOTAL_PHOTOS_VIEWED'],\n",
    " \n",
    "\n",
    " # significant variables only (set 1)\n",
    " 'logit_sig_1'    : ['MOBILE_NUMBER', 'CANCELLATIONS_BEFORE_NOON', 'TASTES_AND_PREFERENCES',\n",
    "                     'PC_LOGINS','MASTER_CLASSES_ATTENDED','PERSONAL','PROFESSIONAL' ],\n",
    "    \n",
    "    \n",
    " # significant variables only (set 2)\n",
    " 'logit_sig_2'  : ['MOBILE_NUMBER',  'CANCELLATIONS_BEFORE_NOON', 'TASTES_AND_PREFERENCES', \n",
    "                   'PC_LOGINS', 'MASTER_CLASSES_ATTENDED', 'PERSONAL', 'PROFESSIONAL', \n",
    "                   'out_avg_prep_vid_time',  'out_total_meals_ordered', 'out_early_deliveries', \n",
    "                   'out_master_classes_attended'],\n",
    "\n",
    "    \n",
    " # significant variables only (set 3)\n",
    " 'logit_sig_3'    : ['MOBILE_NUMBER', 'CANCELLATIONS_BEFORE_NOON', 'TASTES_AND_PREFERENCES',\n",
    "                      'PERSONAL','PROFESSIONAL']\n",
    "    \n",
    "}\n",
    "    \n",
    "\n",
    "# Dynamically printing candidate variable sets\n",
    "print(f\"\"\"\n",
    "/--------------------------\\\\\n",
    "|Explanatory Variable Sets |\n",
    "\\\\--------------------------/\n",
    "\n",
    "Full Model:\n",
    "-----------\n",
    "{candidate_dict['logit_full']}\n",
    "\n",
    "\n",
    "First Significant p-value Model:\n",
    "--------------------------------\n",
    "{candidate_dict['logit_sig_1']}\n",
    "\n",
    "\n",
    "Second Significant p-value Model:\n",
    "---------------------------------\n",
    "{candidate_dict['logit_sig_2']}\n",
    "\n",
    "\n",
    "Thrid Significant p-value Model:\n",
    "---------------------------------\n",
    "{candidate_dict['logit_sig_3']}\n",
    "\n",
    "\"\"\")\n"
   ]
  },
  {
   "cell_type": "markdown",
   "metadata": {},
   "source": [
    "After conducting my analysis, logit_sig_3 had the highest AUC-ROC score of 0.639 and best numbers in terms of precisely identifying which customer would subscribe or not. "
   ]
  },
  {
   "cell_type": "code",
   "execution_count": 21,
   "metadata": {},
   "outputs": [],
   "source": [
    "# Defining a function to standardize numerical variables in the dataset:\n",
    "def standard(num_df):\n",
    "    \"\"\"\n",
    "    This function standardizes a dataframe that contains variables which are either\n",
    "    integers or floats.\n",
    "    \n",
    "    ------\n",
    "    num_df : DataFrame, must contain only numerical variables\n",
    "    \n",
    "    \"\"\"\n",
    "    # INSTANTIATING a StandardScaler() object\n",
    "    scaler = StandardScaler()\n",
    "\n",
    "    # FITTING the scaler with housing_data\n",
    "    scaler.fit(num_df)\n",
    "\n",
    "    # TRANSFORMING our data after fit\n",
    "    x_scaled = scaler.transform(num_df)\n",
    "\n",
    "    # converting scaled data into a DataFrame\n",
    "    x_scaled_df = pd.DataFrame(x_scaled)\n",
    "    \n",
    "    # adding labels to the scaled DataFrame\n",
    "    x_scaled_df.columns = num_df.columns\n",
    "    \n",
    "    # Re-attaching target variable to DataFrame\n",
    "    #X_scaled_df = X_scaled_df.join(target_variable)\n",
    "    \n",
    "    # returning the standardized data frame into the global environment\n",
    "    return x_scaled_df"
   ]
  },
  {
   "cell_type": "code",
   "execution_count": null,
   "metadata": {},
   "outputs": [],
   "source": []
  },
  {
   "cell_type": "code",
   "execution_count": 22,
   "metadata": {},
   "outputs": [
    {
     "name": "stdout",
     "output_type": "stream",
     "text": [
      "('intercept', -1.65)\n",
      "('MOBILE_NUMBER', 0.27)\n",
      "('CANCELLATIONS_BEFORE_NOON', 0.42)\n",
      "('TASTES_AND_PREFERENCES', 0.16)\n",
      "('PERSONAL', 0.62)\n",
      "('PROFESSIONAL', 0.86)\n"
     ]
    }
   ],
   "source": [
    "# train/test split with the full model\n",
    "app_chef_data   =  app_chef.loc[ : , candidate_dict['logit_sig_3']]\n",
    "app_chef_target =  app_chef.loc[ : , 'CROSS_SELL_SUCCESS']\n",
    "\n",
    "\n",
    "# this is the exact code we were using before\n",
    "x_train, x_test, y_train, y_test = train_test_split(\n",
    "            app_chef_data,\n",
    "            app_chef_target,\n",
    "            random_state = 219,\n",
    "            test_size    = 0.25,\n",
    "            stratify     = app_chef_target)\n",
    "\n",
    "\n",
    "# INSTANTIATING a logistic regression model\n",
    "logreg = LogisticRegression(solver = 'lbfgs',\n",
    "                            C = 1,\n",
    "                            random_state = 219)\n",
    "# FITTING the training data\n",
    "logreg_fit = logreg.fit(x_train, y_train)\n",
    "\n",
    "\n",
    "# PREDICTING based on the testing set\n",
    "logreg_pred = logreg_fit.predict(x_test)\n",
    "\n",
    "\n",
    "# SCORING the results\n",
    "#print('LogReg Training ACCURACY:', logreg_fit.score(x_train, y_train).round(4))\n",
    "#print('LogReg Testing  ACCURACY:', logreg_fit.score(x_test, y_test).round(4))\n",
    "\n",
    "# saving scoring data for future use\n",
    "#logreg_train_score = logreg_fit.score(x_train, y_train).round(4) # accuracy\n",
    "#logreg_test_score  = logreg_fit.score(x_test, y_test).round(4)   # accuracy\n",
    "\n",
    "\n",
    "# area under the roc curve (auc)\n",
    "#print('LogReg AUC:',roc_auc_score(y_true  = y_test,\n",
    "                    #y_score = logreg_pred).round(decimals = 4))\n",
    "\n",
    "\n",
    "\n",
    "###############################################################################\n",
    "\n",
    "\n",
    "###### Standardized Preparation \n",
    "# Standardizing our Data Set (only numeric variables) with user-defined function\n",
    "chef_stand = standard(app_chef_data)\n",
    "\n",
    "# Defining explanatory variables (add according to new feature selections)\n",
    "app_chef_stand     = chef_stand.loc[: , candidate_dict['logit_sig_3']]\n",
    "\n",
    "# train-test split with stratification\n",
    "x_train_stand, x_test_stand, y_train_stand, y_test_stand = train_test_split(\n",
    "            app_chef_stand,   # standerdized x variables \n",
    "            app_chef_target,\n",
    "            test_size = 0.25,\n",
    "            random_state = 219,\n",
    "            stratify = app_chef_target) \n",
    "\n",
    "# merging training data for statsmodels\n",
    "chef_train_stand = pd.concat([x_train_stand, x_train_stand], axis = 1)\n",
    "\n",
    "# Important model on Standardized data\n",
    "# INSTANTIATING a logistic regression model\n",
    "logreg_stand = LogisticRegression(random_state = 219) \n",
    "\n",
    "# FITTING the training data\n",
    "logreg_fit_stand = logreg_stand.fit(x_train_stand, y_train.values.reshape(-1,)) # removes warning on column shape\n",
    "\n",
    "# PREDICTING based on the testing set\n",
    "logreg_pred_stand = logreg_fit_stand.predict(x_test_stand)\n",
    "\n",
    "# train accuracy\n",
    "logreg_train_acc_stand  = logreg_fit_stand.score(x_train_stand, y_train_stand).round(4)\n",
    "\n",
    "# test accuracy\n",
    "logreg_test_acc_stand   = logreg_fit_stand.score(x_test_stand, y_test_stand).round(4)\n",
    "\n",
    "# auc value\n",
    "logreg_auc_stand = roc_auc_score(y_true  = y_test_stand,\n",
    "                           y_score = logreg_pred_stand).round(4)\n",
    "\n",
    "#print('Training ACCURACY:', logreg_train_acc_stand)\n",
    "#print('Testing  ACCURACY:', logreg_test_acc_stand)\n",
    "#print('AUC Score        :', logreg_auc_stand)\n",
    "\n",
    "# zipping each feature name to its coefficient\n",
    "logreg_model_values = zip(app_chef[candidate_dict['logit_sig_3']].columns,\n",
    "                          logreg_fit_stand.coef_.ravel().round(decimals = 2))\n",
    "\n",
    "\n",
    "# setting up a placeholder list to store model features\n",
    "logreg_model_lst = [('intercept', logreg_fit.intercept_[0].round(decimals = 2))]\n",
    "\n",
    "\n",
    "# printing out each feature-coefficient pair one by one\n",
    "for val in logreg_model_values:\n",
    "    logreg_model_lst.append(val)\n",
    "    \n",
    "\n",
    "# checking the results\n",
    "for pair in logreg_model_lst:\n",
    "    print(pair)"
   ]
  },
  {
   "cell_type": "markdown",
   "metadata": {},
   "source": [
    "### Insights from the Logistic Regression Model  "
   ]
  },
  {
   "cell_type": "markdown",
   "metadata": {},
   "source": [
    "Based on the results above, for the company to know the type of customer that will subscribe, Apprentice Chef should target customers who fit the above criteria with:\n",
    "1. Ads \n",
    "2. Contacts with customer service; as they all increase the chances of subscription to HALFWAY THERE. \n"
   ]
  },
  {
   "cell_type": "markdown",
   "metadata": {},
   "source": [
    "## Decision Tree "
   ]
  },
  {
   "cell_type": "code",
   "execution_count": 23,
   "metadata": {},
   "outputs": [
    {
     "name": "stdout",
     "output_type": "stream",
     "text": [
      "Pruned Tree Training ACCURACY: 0.729\n",
      "Pruned Tree Testing  ACCURACY: 0.733\n",
      "Pruned Tree AUC Score        : 0.61\n"
     ]
    }
   ],
   "source": [
    "# PRUNED TREE #\n",
    "\n",
    "# INSTANTIATING a classification tree object\n",
    "pruned_tree = DecisionTreeClassifier(max_depth = 3,\n",
    "                                     min_samples_leaf = 25,\n",
    "                                     random_state = 219)\n",
    "\n",
    "\n",
    "# FITTING the training data\n",
    "pruned_tree_fit  = pruned_tree.fit(x_train, y_train)\n",
    "\n",
    "\n",
    "# PREDICTING on new data\n",
    "pruned_tree_pred = pruned_tree_fit.predict(x_test)\n",
    "\n",
    "\n",
    "# SCORING the model\n",
    "print('Pruned Tree Training ACCURACY:', pruned_tree_fit.score(x_train, y_train).round(3))\n",
    "print('Pruned Tree Testing  ACCURACY:', pruned_tree_fit.score(x_test, y_test).round(3))\n",
    "print('Pruned Tree AUC Score        :', roc_auc_score(y_true  = y_test,\n",
    "                                          y_score = pruned_tree_pred).round(3))\n",
    "\n",
    "\n",
    "# saving scoring data for future use\n",
    "pruned_tree_train_score = pruned_tree_fit.score(x_train, y_train).round(3) # accuracy\n",
    "pruned_tree_test_score  = pruned_tree_fit.score(x_test, y_test).round(3)   # accuracy\n",
    "\n",
    "\n",
    "# saving auc score\n",
    "pruned_tree_auc_score   = roc_auc_score(y_true  = y_test,\n",
    "                                        y_score = pruned_tree_pred).round(3) # auc\n"
   ]
  },
  {
   "cell_type": "code",
   "execution_count": 24,
   "metadata": {},
   "outputs": [],
   "source": [
    "#######################################\n",
    "# display_tree\n",
    "########################################\n",
    "def display_tree(tree, feature_df, height = 500, width = 800):\n",
    "    \"\"\"\n",
    "    PARAMETERS\n",
    "    ----------\n",
    "    tree       : fitted tree model object\n",
    "        fitted CART model to visualized\n",
    "    feature_df : DataFrame\n",
    "        DataFrame of explanatory features (used to generate labels)\n",
    "    height     : int, default 500\n",
    "        height in pixels to which to constrain image in html\n",
    "    width      : int, default 800\n",
    "        width in pixels to which to constrain image in html\n",
    "    \"\"\"\n",
    "\n",
    "    # visualizing the tree\n",
    "    dot_data = StringIO()\n",
    "\n",
    "    \n",
    "    # exporting tree to graphviz\n",
    "    export_graphviz(decision_tree      = tree,\n",
    "                    out_file           = dot_data,\n",
    "                    filled             = True,\n",
    "                    rounded            = True,\n",
    "                    special_characters = True,\n",
    "                    feature_names      = feature_df.columns)\n",
    "\n",
    "\n",
    "    # declaring a graph object\n",
    "    graph = pydotplus.graph_from_dot_data(dot_data.getvalue())\n",
    "\n",
    "\n",
    "    # creating image\n",
    "    img = Image(graph.create_png(),\n",
    "                height = height,\n",
    "                width  = width)\n",
    "    \n",
    "    return img"
   ]
  },
  {
   "cell_type": "code",
   "execution_count": 25,
   "metadata": {},
   "outputs": [
    {
     "data": {
      "image/png": "[encoded data removed]",
      "text/plain": [
       "<IPython.core.display.Image object>"
      ]
     },
     "execution_count": 25,
     "metadata": {
      "image/png": {
       "height": 500,
       "width": 800
      }
     },
     "output_type": "execute_result"
    }
   ],
   "source": [
    "# calling display_tree\n",
    "display_tree(tree       = pruned_tree_fit,\n",
    "             feature_df = x_train)"
   ]
  },
  {
   "cell_type": "markdown",
   "metadata": {},
   "source": [
    "### Hyperparameter Tuning "
   ]
  },
  {
   "cell_type": "markdown",
   "metadata": {},
   "source": [
    "The goal here is to find an optimal combination of hyperparameters to give better results i.e to avoid underfitting and overfitting."
   ]
  },
  {
   "cell_type": "code",
   "execution_count": 26,
   "metadata": {},
   "outputs": [],
   "source": [
    "# Defining explanatory variables (add according to new feature selections)\n",
    "app_chef_sig = app_chef.loc[: , candidate_dict['logit_sig_3']]\n",
    "\n",
    "# train-test split with stratification\n",
    "x_train, x_test, y_train, y_test = train_test_split(\n",
    "            app_chef_sig,  # change\n",
    "            app_chef_target,\n",
    "            test_size = 0.25,\n",
    "            random_state = 219,\n",
    "            stratify = app_chef_target) # stratifying target variable to ensure balance\n",
    "\n",
    "# merging training data for statsmodels\n",
    "chef_train = pd.concat([x_train, y_train], axis = 1) # contains target variable!"
   ]
  },
  {
   "cell_type": "code",
   "execution_count": 27,
   "metadata": {},
   "outputs": [
    {
     "name": "stderr",
     "output_type": "stream",
     "text": [
      "<ipython-input-27-46cf20daaa4b>:4: FutureWarning: The pandas.np module is deprecated and will be removed from pandas in a future version. Import numpy directly instead\n",
      "  depth_space     = pd.np.arange(1, 25, 1)\n",
      "<ipython-input-27-46cf20daaa4b>:5: FutureWarning: The pandas.np module is deprecated and will be removed from pandas in a future version. Import numpy directly instead\n",
      "  leaf_space      = pd.np.arange(1, 100, 1)\n"
     ]
    },
    {
     "name": "stdout",
     "output_type": "stream",
     "text": [
      "Tuned Parameters  : {'splitter': 'best', 'min_samples_leaf': 1, 'max_depth': 14, 'criterion': 'gini'}\n",
      "Tuned Training AUC: 0.643\n"
     ]
    }
   ],
   "source": [
    "# declaring a hyperparameter space\n",
    "criterion_space = ['gini', 'entropy']\n",
    "splitter_space  = ['best', 'random']\n",
    "depth_space     = pd.np.arange(1, 25, 1)\n",
    "leaf_space      = pd.np.arange(1, 100, 1)\n",
    "\n",
    "\n",
    "# creating a hyperparameter grid\n",
    "param_grid = {'criterion'        : criterion_space,\n",
    "              'splitter'         : splitter_space,\n",
    "              'max_depth'        : depth_space,\n",
    "              'min_samples_leaf' : leaf_space}\n",
    "\n",
    "\n",
    "# INSTANTIATING the model object without hyperparameters\n",
    "tuned_tree = DecisionTreeClassifier(random_state = 219)\n",
    "\n",
    "\n",
    "# RandomizedSearchCV object\n",
    "tuned_tree_cv = RandomizedSearchCV(estimator             = tuned_tree,\n",
    "                                   param_distributions   = param_grid,\n",
    "                                   cv                    = 3,\n",
    "                                   n_iter                = 1000,\n",
    "                                   random_state          = 219,\n",
    "                                   scoring = make_scorer(roc_auc_score,\n",
    "                                             needs_threshold = False))\n",
    "\n",
    "\n",
    "# FITTING to the FULL DATASET (due to cross-validation)\n",
    "tuned_tree_cv.fit(app_chef_sig, app_chef_target)\n",
    "\n",
    "\n",
    "# PREDICT step is not needed\n",
    "\n",
    "\n",
    "# printing the optimal parameters and best score\n",
    "print(\"Tuned Parameters  :\", tuned_tree_cv.best_params_)\n",
    "print(\"Tuned Training AUC:\", tuned_tree_cv.best_score_.round(3))"
   ]
  },
  {
   "cell_type": "code",
   "execution_count": 28,
   "metadata": {},
   "outputs": [
    {
     "name": "stdout",
     "output_type": "stream",
     "text": [
      "Training ACCURACY: 0.735\n",
      "Testing  ACCURACY: 0.768\n",
      "AUC Score        : 0.672\n",
      "After the tunning you'll notice an increase in the AUC score above.\n"
     ]
    }
   ],
   "source": [
    "# building a model based on hyperparameter tuning results\n",
    "\n",
    "# INSTANTIATING a logistic regression model with tuned values\n",
    "tree_tuned = tuned_tree_cv.best_estimator_\n",
    "\n",
    "\n",
    "# FIT step is not needed\n",
    "\n",
    "\n",
    "# PREDICTING based on the testing set\n",
    "tree_tuned_pred = tree_tuned.predict(x_test)\n",
    "\n",
    "\n",
    "# SCORING the results\n",
    "print('Training ACCURACY:', tree_tuned.score(x_train, y_train).round(3))\n",
    "print('Testing  ACCURACY:', tree_tuned.score(x_test, y_test).round(3))\n",
    "print('AUC Score        :', roc_auc_score(y_true  = y_test,\n",
    "                                          y_score = tree_tuned_pred).round(3))\n",
    "\n",
    "print(\"\"\"After the tunning you'll notice an increase in the AUC score above.\"\"\")\n",
    "\n",
    "# saving scoring data for future use\n",
    "tree_tuned_train_score = tree_tuned.score(x_train, y_train).round(3) # accuracy\n",
    "tree_tuned_test_score  = tree_tuned.score(x_test, y_test).round(3)   # accuracy\n",
    "\n",
    "\n",
    "# saving the AUC score\n",
    "tree_tuned_auc         = roc_auc_score(y_true  = y_test,\n",
    "                                     y_score = tree_tuned_pred).round(4) # auc"
   ]
  },
  {
   "cell_type": "markdown",
   "metadata": {},
   "source": [
    "### Confusion Matrix "
   ]
  },
  {
   "cell_type": "code",
   "execution_count": 29,
   "metadata": {},
   "outputs": [
    {
     "name": "stdout",
     "output_type": "stream",
     "text": [
      "\n",
      "True Negatives : 63\n",
      "False Positives: 93\n",
      "False Negatives: 20\n",
      "True Positives : 311\n",
      "\n"
     ]
    }
   ],
   "source": [
    "# unpacking the confusion matrix\n",
    "tuned_tree_tn, \\\n",
    "tuned_tree_fp, \\\n",
    "tuned_tree_fn, \\\n",
    "tuned_tree_tp = confusion_matrix(y_true = y_test, y_pred = tree_tuned_pred).ravel()\n",
    "\n",
    "\n",
    "# printing each result one-by-one\n",
    "print(f\"\"\"\n",
    "True Negatives : {tuned_tree_tn}\n",
    "False Positives: {tuned_tree_fp}\n",
    "False Negatives: {tuned_tree_fn}\n",
    "True Positives : {tuned_tree_tp}\n",
    "\"\"\")"
   ]
  },
  {
   "cell_type": "markdown",
   "metadata": {},
   "source": [
    "The confusion matrix above show that in the new dataset of 487 observations that was given to the algorithm based on the best model, it precisely predicted approx. 64%(311) of customers to subscribe to HALFWAY THERE correctly and incorrectly predicted precisely 19%(93) of customers to subscribe. "
   ]
  },
  {
   "cell_type": "markdown",
   "metadata": {},
   "source": [
    "# Conclusion and Recommendation  "
   ]
  },
  {
   "cell_type": "markdown",
   "metadata": {},
   "source": [
    "CONCLUSION\n",
    "\n",
    "Apprentice Chef should apply the recommended course of action as it will help grow the business.\n",
    "\n",
    "RECOMMENDATION\n",
    "\n",
    "Apprentice Chef should try to be more involved in customers journey on their platforms; specifically, Apprentice Chef should add a Married category to their registration and create campaigns towards that category.   "
   ]
  },
  {
   "cell_type": "code",
   "execution_count": null,
   "metadata": {},
   "outputs": [],
   "source": []
  },
  {
   "cell_type": "code",
   "execution_count": null,
   "metadata": {},
   "outputs": [],
   "source": []
  }
 ],
 "metadata": {
  "kernelspec": {
   "display_name": "Python 3",
   "language": "python",
   "name": "python3"
  },
  "language_info": {
   "codemirror_mode": {
    "name": "ipython",
    "version": 3
   },
   "file_extension": ".py",
   "mimetype": "text/x-python",
   "name": "python",
   "nbconvert_exporter": "python",
   "pygments_lexer": "ipython3",
   "version": "3.8.3"
  },
  "toc": {
   "base_numbering": 1,
   "nav_menu": {},
   "number_sections": true,
   "sideBar": true,
   "skip_h1_title": false,
   "title_cell": "Table of Contents",
   "title_sidebar": "Contents",
   "toc_cell": false,
   "toc_position": {
    "height": "calc(100% - 180px)",
    "left": "10px",
    "top": "150px",
    "width": "428.9px"
   },
   "toc_section_display": true,
   "toc_window_display": true
  },
  "varInspector": {
   "cols": {
    "lenName": 16,
    "lenType": 16,
    "lenVar": 40
   },
   "kernels_config": {
    "python": {
     "delete_cmd_postfix": "",
     "delete_cmd_prefix": "del ",
     "library": "var_list.py",
     "varRefreshCmd": "print(var_dic_list())"
    },
    "r": {
     "delete_cmd_postfix": ") ",
     "delete_cmd_prefix": "rm(",
     "library": "var_list.r",
     "varRefreshCmd": "cat(var_dic_list()) "
    }
   },
   "types_to_exclude": [
    "module",
    "function",
    "builtin_function_or_method",
    "instance",
    "_Feature"
   ],
   "window_display": false
  }
 },
 "nbformat": 4,
 "nbformat_minor": 4
}
